{
 "cells": [
  {
   "cell_type": "markdown",
   "metadata": {
    "id": "dGASSNTzf9FT"
   },
   "source": [
    "# DataSet"
   ]
  },
  {
   "cell_type": "code",
   "execution_count": 308,
   "metadata": {
    "id": "2qOdqvOqnELW"
   },
   "outputs": [],
   "source": [
    "import pandas as pd"
   ]
  },
  {
   "cell_type": "code",
   "execution_count": 309,
   "metadata": {
    "colab": {
     "base_uri": "https://localhost:8080/",
     "height": 237
    },
    "id": "i-qtK0PVLX2i",
    "outputId": "e5308b50-b41c-4dd9-901f-499f9e922b0c"
   },
   "outputs": [
    {
     "data": {
      "text/html": [
       "\n",
       "  <div id=\"df-0ac8af43-6970-4a52-ba5f-dc6a0640440b\">\n",
       "    <div class=\"colab-df-container\">\n",
       "      <div>\n",
       "<style scoped>\n",
       "    .dataframe tbody tr th:only-of-type {\n",
       "        vertical-align: middle;\n",
       "    }\n",
       "\n",
       "    .dataframe tbody tr th {\n",
       "        vertical-align: top;\n",
       "    }\n",
       "\n",
       "    .dataframe thead th {\n",
       "        text-align: right;\n",
       "    }\n",
       "</style>\n",
       "<table border=\"1\" class=\"dataframe\">\n",
       "  <thead>\n",
       "    <tr style=\"text-align: right;\">\n",
       "      <th></th>\n",
       "      <th>Elevation</th>\n",
       "      <th>Aspect</th>\n",
       "      <th>Slope</th>\n",
       "      <th>Horizontal_Distance_To_Hydrology</th>\n",
       "      <th>Vertical_Distance_To_Hydrology</th>\n",
       "      <th>Horizontal_Distance_To_Roadways</th>\n",
       "      <th>Hillshade_9am</th>\n",
       "      <th>Hillshade_Noon</th>\n",
       "      <th>Hillshade_3pm</th>\n",
       "      <th>Horizontal_Distance_To_Fire_Points</th>\n",
       "      <th>...</th>\n",
       "      <th>Soil_Type32</th>\n",
       "      <th>Soil_Type33</th>\n",
       "      <th>Soil_Type34</th>\n",
       "      <th>Soil_Type35</th>\n",
       "      <th>Soil_Type36</th>\n",
       "      <th>Soil_Type37</th>\n",
       "      <th>Soil_Type38</th>\n",
       "      <th>Soil_Type39</th>\n",
       "      <th>Soil_Type40</th>\n",
       "      <th>Cover_Type</th>\n",
       "    </tr>\n",
       "    <tr>\n",
       "      <th>Id</th>\n",
       "      <th></th>\n",
       "      <th></th>\n",
       "      <th></th>\n",
       "      <th></th>\n",
       "      <th></th>\n",
       "      <th></th>\n",
       "      <th></th>\n",
       "      <th></th>\n",
       "      <th></th>\n",
       "      <th></th>\n",
       "      <th></th>\n",
       "      <th></th>\n",
       "      <th></th>\n",
       "      <th></th>\n",
       "      <th></th>\n",
       "      <th></th>\n",
       "      <th></th>\n",
       "      <th></th>\n",
       "      <th></th>\n",
       "      <th></th>\n",
       "      <th></th>\n",
       "    </tr>\n",
       "  </thead>\n",
       "  <tbody>\n",
       "    <tr>\n",
       "      <th>242642</th>\n",
       "      <td>2881</td>\n",
       "      <td>130</td>\n",
       "      <td>22</td>\n",
       "      <td>210</td>\n",
       "      <td>54</td>\n",
       "      <td>1020</td>\n",
       "      <td>250</td>\n",
       "      <td>221</td>\n",
       "      <td>88</td>\n",
       "      <td>342</td>\n",
       "      <td>...</td>\n",
       "      <td>0</td>\n",
       "      <td>0</td>\n",
       "      <td>0</td>\n",
       "      <td>0</td>\n",
       "      <td>0</td>\n",
       "      <td>0</td>\n",
       "      <td>0</td>\n",
       "      <td>0</td>\n",
       "      <td>0</td>\n",
       "      <td>1</td>\n",
       "    </tr>\n",
       "    <tr>\n",
       "      <th>309891</th>\n",
       "      <td>3005</td>\n",
       "      <td>351</td>\n",
       "      <td>14</td>\n",
       "      <td>242</td>\n",
       "      <td>-16</td>\n",
       "      <td>1371</td>\n",
       "      <td>194</td>\n",
       "      <td>215</td>\n",
       "      <td>159</td>\n",
       "      <td>842</td>\n",
       "      <td>...</td>\n",
       "      <td>0</td>\n",
       "      <td>0</td>\n",
       "      <td>0</td>\n",
       "      <td>0</td>\n",
       "      <td>0</td>\n",
       "      <td>0</td>\n",
       "      <td>0</td>\n",
       "      <td>0</td>\n",
       "      <td>0</td>\n",
       "      <td>1</td>\n",
       "    </tr>\n",
       "  </tbody>\n",
       "</table>\n",
       "<p>2 rows × 55 columns</p>\n",
       "</div>\n",
       "      <button class=\"colab-df-convert\" onclick=\"convertToInteractive('df-0ac8af43-6970-4a52-ba5f-dc6a0640440b')\"\n",
       "              title=\"Convert this dataframe to an interactive table.\"\n",
       "              style=\"display:none;\">\n",
       "        \n",
       "  <svg xmlns=\"http://www.w3.org/2000/svg\" height=\"24px\"viewBox=\"0 0 24 24\"\n",
       "       width=\"24px\">\n",
       "    <path d=\"M0 0h24v24H0V0z\" fill=\"none\"/>\n",
       "    <path d=\"M18.56 5.44l.94 2.06.94-2.06 2.06-.94-2.06-.94-.94-2.06-.94 2.06-2.06.94zm-11 1L8.5 8.5l.94-2.06 2.06-.94-2.06-.94L8.5 2.5l-.94 2.06-2.06.94zm10 10l.94 2.06.94-2.06 2.06-.94-2.06-.94-.94-2.06-.94 2.06-2.06.94z\"/><path d=\"M17.41 7.96l-1.37-1.37c-.4-.4-.92-.59-1.43-.59-.52 0-1.04.2-1.43.59L10.3 9.45l-7.72 7.72c-.78.78-.78 2.05 0 2.83L4 21.41c.39.39.9.59 1.41.59.51 0 1.02-.2 1.41-.59l7.78-7.78 2.81-2.81c.8-.78.8-2.07 0-2.86zM5.41 20L4 18.59l7.72-7.72 1.47 1.35L5.41 20z\"/>\n",
       "  </svg>\n",
       "      </button>\n",
       "      \n",
       "  <style>\n",
       "    .colab-df-container {\n",
       "      display:flex;\n",
       "      flex-wrap:wrap;\n",
       "      gap: 12px;\n",
       "    }\n",
       "\n",
       "    .colab-df-convert {\n",
       "      background-color: #E8F0FE;\n",
       "      border: none;\n",
       "      border-radius: 50%;\n",
       "      cursor: pointer;\n",
       "      display: none;\n",
       "      fill: #1967D2;\n",
       "      height: 32px;\n",
       "      padding: 0 0 0 0;\n",
       "      width: 32px;\n",
       "    }\n",
       "\n",
       "    .colab-df-convert:hover {\n",
       "      background-color: #E2EBFA;\n",
       "      box-shadow: 0px 1px 2px rgba(60, 64, 67, 0.3), 0px 1px 3px 1px rgba(60, 64, 67, 0.15);\n",
       "      fill: #174EA6;\n",
       "    }\n",
       "\n",
       "    [theme=dark] .colab-df-convert {\n",
       "      background-color: #3B4455;\n",
       "      fill: #D2E3FC;\n",
       "    }\n",
       "\n",
       "    [theme=dark] .colab-df-convert:hover {\n",
       "      background-color: #434B5C;\n",
       "      box-shadow: 0px 1px 3px 1px rgba(0, 0, 0, 0.15);\n",
       "      filter: drop-shadow(0px 1px 2px rgba(0, 0, 0, 0.3));\n",
       "      fill: #FFFFFF;\n",
       "    }\n",
       "  </style>\n",
       "\n",
       "      <script>\n",
       "        const buttonEl =\n",
       "          document.querySelector('#df-0ac8af43-6970-4a52-ba5f-dc6a0640440b button.colab-df-convert');\n",
       "        buttonEl.style.display =\n",
       "          google.colab.kernel.accessAllowed ? 'block' : 'none';\n",
       "\n",
       "        async function convertToInteractive(key) {\n",
       "          const element = document.querySelector('#df-0ac8af43-6970-4a52-ba5f-dc6a0640440b');\n",
       "          const dataTable =\n",
       "            await google.colab.kernel.invokeFunction('convertToInteractive',\n",
       "                                                     [key], {});\n",
       "          if (!dataTable) return;\n",
       "\n",
       "          const docLinkHtml = 'Like what you see? Visit the ' +\n",
       "            '<a target=\"_blank\" href=https://colab.research.google.com/notebooks/data_table.ipynb>data table notebook</a>'\n",
       "            + ' to learn more about interactive tables.';\n",
       "          element.innerHTML = '';\n",
       "          dataTable['output_type'] = 'display_data';\n",
       "          await google.colab.output.renderOutput(dataTable, element);\n",
       "          const docLink = document.createElement('div');\n",
       "          docLink.innerHTML = docLinkHtml;\n",
       "          element.appendChild(docLink);\n",
       "        }\n",
       "      </script>\n",
       "    </div>\n",
       "  </div>\n",
       "  "
      ],
      "text/plain": [
       "        Elevation  Aspect  Slope  Horizontal_Distance_To_Hydrology  \\\n",
       "Id                                                                   \n",
       "242642       2881     130     22                               210   \n",
       "309891       3005     351     14                               242   \n",
       "\n",
       "        Vertical_Distance_To_Hydrology  Horizontal_Distance_To_Roadways  \\\n",
       "Id                                                                        \n",
       "242642                              54                             1020   \n",
       "309891                             -16                             1371   \n",
       "\n",
       "        Hillshade_9am  Hillshade_Noon  Hillshade_3pm  \\\n",
       "Id                                                     \n",
       "242642            250             221             88   \n",
       "309891            194             215            159   \n",
       "\n",
       "        Horizontal_Distance_To_Fire_Points  ...  Soil_Type32  Soil_Type33  \\\n",
       "Id                                          ...                             \n",
       "242642                                 342  ...            0            0   \n",
       "309891                                 842  ...            0            0   \n",
       "\n",
       "        Soil_Type34  Soil_Type35  Soil_Type36  Soil_Type37  Soil_Type38  \\\n",
       "Id                                                                        \n",
       "242642            0            0            0            0            0   \n",
       "309891            0            0            0            0            0   \n",
       "\n",
       "        Soil_Type39  Soil_Type40  Cover_Type  \n",
       "Id                                            \n",
       "242642            0            0           1  \n",
       "309891            0            0           1  \n",
       "\n",
       "[2 rows x 55 columns]"
      ]
     },
     "execution_count": 309,
     "metadata": {},
     "output_type": "execute_result"
    }
   ],
   "source": [
    "# Import data\n",
    "df = pd.read_csv('train.csv', index_col='Id')\n",
    "df.head(2)"
   ]
  },
  {
   "cell_type": "code",
   "execution_count": 32,
   "metadata": {
    "colab": {
     "base_uri": "https://localhost:8080/",
     "height": 0
    },
    "id": "MtmbbKmynUGJ",
    "outputId": "440255a9-d903-4f25-dc1a-ad3904e525ba"
   },
   "outputs": [
    {
     "name": "stdout",
     "output_type": "stream",
     "text": [
      "\n",
      "Observations: 15120 Features: 55\n"
     ]
    }
   ],
   "source": [
    "print('\\nObservations: {} Features: {}'.format(df.shape[0], df.shape[1]))"
   ]
  },
  {
   "cell_type": "markdown",
   "metadata": {
    "id": "AJ13dKLfLZcM"
   },
   "source": [
    "## Data analysis"
   ]
  },
  {
   "cell_type": "code",
   "execution_count": 310,
   "metadata": {
    "id": "n5Y-Y8ecnx0B"
   },
   "outputs": [],
   "source": [
    "import seaborn as sns\n",
    "import matplotlib.pyplot as plt\n",
    "import numpy as np"
   ]
  },
  {
   "cell_type": "code",
   "execution_count": 34,
   "metadata": {
    "colab": {
     "base_uri": "https://localhost:8080/",
     "height": 0
    },
    "id": "OnLzrybeToFj",
    "outputId": "e1520ed5-5a1b-4510-812b-b5e509490beb"
   },
   "outputs": [
    {
     "data": {
      "text/plain": [
       "Cover_Type\n",
       "1    2160\n",
       "2    2160\n",
       "3    2160\n",
       "4    2160\n",
       "5    2160\n",
       "6    2160\n",
       "7    2160\n",
       "dtype: int64"
      ]
     },
     "execution_count": 34,
     "metadata": {},
     "output_type": "execute_result"
    }
   ],
   "source": [
    "# Occurance per cover type\n",
    "df.groupby('Cover_Type').size()"
   ]
  },
  {
   "cell_type": "code",
   "execution_count": 35,
   "metadata": {
    "colab": {
     "base_uri": "https://localhost:8080/",
     "height": 0
    },
    "id": "QzulGjt9nr6A",
    "outputId": "141e5bce-653e-4a3b-faeb-21c2c78e184e"
   },
   "outputs": [
    {
     "data": {
      "text/plain": [
       "(15120, 55)"
      ]
     },
     "execution_count": 35,
     "metadata": {},
     "output_type": "execute_result"
    }
   ],
   "source": [
    "# Check for duplicates\n",
    "\n",
    "df.drop_duplicates(keep='first')\n",
    "df.shape"
   ]
  },
  {
   "cell_type": "markdown",
   "metadata": {
    "id": "VAx8zgsNnwz0"
   },
   "source": [
    "There are no duplicates"
   ]
  },
  {
   "cell_type": "code",
   "execution_count": 36,
   "metadata": {
    "colab": {
     "base_uri": "https://localhost:8080/",
     "height": 0
    },
    "id": "hHty8IqpnfTH",
    "outputId": "591a9368-84a2-4bc9-a212-4ef8d58ba1b9"
   },
   "outputs": [
    {
     "data": {
      "text/plain": [
       "False"
      ]
     },
     "execution_count": 36,
     "metadata": {},
     "output_type": "execute_result"
    }
   ],
   "source": [
    "# Check if any column is null\n",
    "\n",
    "df.isnull().values.any()"
   ]
  },
  {
   "cell_type": "markdown",
   "metadata": {
    "id": "jtGcnziSn6m7"
   },
   "source": [
    "We don't have any null column"
   ]
  },
  {
   "cell_type": "code",
   "execution_count": 37,
   "metadata": {
    "id": "UXbCW1sMuiOz"
   },
   "outputs": [],
   "source": [
    "# Divide features between numerical and categorical\n",
    "num_df = df.loc[:,'Elevation':'Horizontal_Distance_To_Fire_Points']\n",
    "cat_df  = df.loc[:,'Wilderness_Area1':'Soil_Type40']\n",
    "target  = df['Cover_Type']"
   ]
  },
  {
   "cell_type": "markdown",
   "metadata": {
    "id": "TMO7NA7nYfpJ"
   },
   "source": [
    "### Numerical Data"
   ]
  },
  {
   "cell_type": "markdown",
   "metadata": {
    "id": "IqmVDTSuq75n"
   },
   "source": [
    "#### Basic Information"
   ]
  },
  {
   "cell_type": "code",
   "execution_count": 38,
   "metadata": {
    "colab": {
     "base_uri": "https://localhost:8080/",
     "height": 0
    },
    "id": "l_NKlLWqvWgr",
    "outputId": "0f6b08a3-c955-49a1-9d7f-acd59fc33c38"
   },
   "outputs": [
    {
     "data": {
      "text/html": [
       "\n",
       "  <div id=\"df-82dc8599-a285-4cc6-9f0e-af40ed0e18c3\">\n",
       "    <div class=\"colab-df-container\">\n",
       "      <div>\n",
       "<style scoped>\n",
       "    .dataframe tbody tr th:only-of-type {\n",
       "        vertical-align: middle;\n",
       "    }\n",
       "\n",
       "    .dataframe tbody tr th {\n",
       "        vertical-align: top;\n",
       "    }\n",
       "\n",
       "    .dataframe thead th {\n",
       "        text-align: right;\n",
       "    }\n",
       "</style>\n",
       "<table border=\"1\" class=\"dataframe\">\n",
       "  <thead>\n",
       "    <tr style=\"text-align: right;\">\n",
       "      <th></th>\n",
       "      <th>Elevation</th>\n",
       "      <th>Aspect</th>\n",
       "      <th>Slope</th>\n",
       "      <th>Horizontal_Distance_To_Hydrology</th>\n",
       "      <th>Vertical_Distance_To_Hydrology</th>\n",
       "      <th>Horizontal_Distance_To_Roadways</th>\n",
       "      <th>Hillshade_9am</th>\n",
       "      <th>Hillshade_Noon</th>\n",
       "      <th>Hillshade_3pm</th>\n",
       "      <th>Horizontal_Distance_To_Fire_Points</th>\n",
       "    </tr>\n",
       "  </thead>\n",
       "  <tbody>\n",
       "    <tr>\n",
       "      <th>count</th>\n",
       "      <td>15120.000000</td>\n",
       "      <td>15120.000000</td>\n",
       "      <td>15120.000000</td>\n",
       "      <td>15120.000000</td>\n",
       "      <td>15120.000000</td>\n",
       "      <td>15120.000000</td>\n",
       "      <td>15120.000000</td>\n",
       "      <td>15120.000000</td>\n",
       "      <td>15120.000000</td>\n",
       "      <td>15120.000000</td>\n",
       "    </tr>\n",
       "    <tr>\n",
       "      <th>mean</th>\n",
       "      <td>2748.649934</td>\n",
       "      <td>155.834524</td>\n",
       "      <td>16.556746</td>\n",
       "      <td>228.376521</td>\n",
       "      <td>51.311706</td>\n",
       "      <td>1717.977712</td>\n",
       "      <td>213.028836</td>\n",
       "      <td>218.865741</td>\n",
       "      <td>134.477116</td>\n",
       "      <td>1527.357804</td>\n",
       "    </tr>\n",
       "    <tr>\n",
       "      <th>std</th>\n",
       "      <td>419.009589</td>\n",
       "      <td>109.745372</td>\n",
       "      <td>8.534602</td>\n",
       "      <td>209.196381</td>\n",
       "      <td>61.520488</td>\n",
       "      <td>1330.263450</td>\n",
       "      <td>30.638406</td>\n",
       "      <td>22.797288</td>\n",
       "      <td>46.070054</td>\n",
       "      <td>1116.636997</td>\n",
       "    </tr>\n",
       "    <tr>\n",
       "      <th>min</th>\n",
       "      <td>1877.000000</td>\n",
       "      <td>0.000000</td>\n",
       "      <td>0.000000</td>\n",
       "      <td>0.000000</td>\n",
       "      <td>-135.000000</td>\n",
       "      <td>0.000000</td>\n",
       "      <td>52.000000</td>\n",
       "      <td>99.000000</td>\n",
       "      <td>0.000000</td>\n",
       "      <td>0.000000</td>\n",
       "    </tr>\n",
       "    <tr>\n",
       "      <th>25%</th>\n",
       "      <td>2373.000000</td>\n",
       "      <td>65.000000</td>\n",
       "      <td>10.000000</td>\n",
       "      <td>67.000000</td>\n",
       "      <td>5.000000</td>\n",
       "      <td>760.000000</td>\n",
       "      <td>197.000000</td>\n",
       "      <td>207.000000</td>\n",
       "      <td>106.000000</td>\n",
       "      <td>750.000000</td>\n",
       "    </tr>\n",
       "    <tr>\n",
       "      <th>50%</th>\n",
       "      <td>2754.000000</td>\n",
       "      <td>125.000000</td>\n",
       "      <td>15.000000</td>\n",
       "      <td>180.000000</td>\n",
       "      <td>32.000000</td>\n",
       "      <td>1315.000000</td>\n",
       "      <td>220.000000</td>\n",
       "      <td>223.000000</td>\n",
       "      <td>138.000000</td>\n",
       "      <td>1266.000000</td>\n",
       "    </tr>\n",
       "    <tr>\n",
       "      <th>75%</th>\n",
       "      <td>3109.000000</td>\n",
       "      <td>257.000000</td>\n",
       "      <td>22.000000</td>\n",
       "      <td>330.000000</td>\n",
       "      <td>80.000000</td>\n",
       "      <td>2292.000000</td>\n",
       "      <td>236.000000</td>\n",
       "      <td>235.000000</td>\n",
       "      <td>166.000000</td>\n",
       "      <td>2002.000000</td>\n",
       "    </tr>\n",
       "    <tr>\n",
       "      <th>max</th>\n",
       "      <td>3850.000000</td>\n",
       "      <td>360.000000</td>\n",
       "      <td>50.000000</td>\n",
       "      <td>1376.000000</td>\n",
       "      <td>570.000000</td>\n",
       "      <td>6803.000000</td>\n",
       "      <td>254.000000</td>\n",
       "      <td>254.000000</td>\n",
       "      <td>251.000000</td>\n",
       "      <td>7095.000000</td>\n",
       "    </tr>\n",
       "  </tbody>\n",
       "</table>\n",
       "</div>\n",
       "      <button class=\"colab-df-convert\" onclick=\"convertToInteractive('df-82dc8599-a285-4cc6-9f0e-af40ed0e18c3')\"\n",
       "              title=\"Convert this dataframe to an interactive table.\"\n",
       "              style=\"display:none;\">\n",
       "        \n",
       "  <svg xmlns=\"http://www.w3.org/2000/svg\" height=\"24px\"viewBox=\"0 0 24 24\"\n",
       "       width=\"24px\">\n",
       "    <path d=\"M0 0h24v24H0V0z\" fill=\"none\"/>\n",
       "    <path d=\"M18.56 5.44l.94 2.06.94-2.06 2.06-.94-2.06-.94-.94-2.06-.94 2.06-2.06.94zm-11 1L8.5 8.5l.94-2.06 2.06-.94-2.06-.94L8.5 2.5l-.94 2.06-2.06.94zm10 10l.94 2.06.94-2.06 2.06-.94-2.06-.94-.94-2.06-.94 2.06-2.06.94z\"/><path d=\"M17.41 7.96l-1.37-1.37c-.4-.4-.92-.59-1.43-.59-.52 0-1.04.2-1.43.59L10.3 9.45l-7.72 7.72c-.78.78-.78 2.05 0 2.83L4 21.41c.39.39.9.59 1.41.59.51 0 1.02-.2 1.41-.59l7.78-7.78 2.81-2.81c.8-.78.8-2.07 0-2.86zM5.41 20L4 18.59l7.72-7.72 1.47 1.35L5.41 20z\"/>\n",
       "  </svg>\n",
       "      </button>\n",
       "      \n",
       "  <style>\n",
       "    .colab-df-container {\n",
       "      display:flex;\n",
       "      flex-wrap:wrap;\n",
       "      gap: 12px;\n",
       "    }\n",
       "\n",
       "    .colab-df-convert {\n",
       "      background-color: #E8F0FE;\n",
       "      border: none;\n",
       "      border-radius: 50%;\n",
       "      cursor: pointer;\n",
       "      display: none;\n",
       "      fill: #1967D2;\n",
       "      height: 32px;\n",
       "      padding: 0 0 0 0;\n",
       "      width: 32px;\n",
       "    }\n",
       "\n",
       "    .colab-df-convert:hover {\n",
       "      background-color: #E2EBFA;\n",
       "      box-shadow: 0px 1px 2px rgba(60, 64, 67, 0.3), 0px 1px 3px 1px rgba(60, 64, 67, 0.15);\n",
       "      fill: #174EA6;\n",
       "    }\n",
       "\n",
       "    [theme=dark] .colab-df-convert {\n",
       "      background-color: #3B4455;\n",
       "      fill: #D2E3FC;\n",
       "    }\n",
       "\n",
       "    [theme=dark] .colab-df-convert:hover {\n",
       "      background-color: #434B5C;\n",
       "      box-shadow: 0px 1px 3px 1px rgba(0, 0, 0, 0.15);\n",
       "      filter: drop-shadow(0px 1px 2px rgba(0, 0, 0, 0.3));\n",
       "      fill: #FFFFFF;\n",
       "    }\n",
       "  </style>\n",
       "\n",
       "      <script>\n",
       "        const buttonEl =\n",
       "          document.querySelector('#df-82dc8599-a285-4cc6-9f0e-af40ed0e18c3 button.colab-df-convert');\n",
       "        buttonEl.style.display =\n",
       "          google.colab.kernel.accessAllowed ? 'block' : 'none';\n",
       "\n",
       "        async function convertToInteractive(key) {\n",
       "          const element = document.querySelector('#df-82dc8599-a285-4cc6-9f0e-af40ed0e18c3');\n",
       "          const dataTable =\n",
       "            await google.colab.kernel.invokeFunction('convertToInteractive',\n",
       "                                                     [key], {});\n",
       "          if (!dataTable) return;\n",
       "\n",
       "          const docLinkHtml = 'Like what you see? Visit the ' +\n",
       "            '<a target=\"_blank\" href=https://colab.research.google.com/notebooks/data_table.ipynb>data table notebook</a>'\n",
       "            + ' to learn more about interactive tables.';\n",
       "          element.innerHTML = '';\n",
       "          dataTable['output_type'] = 'display_data';\n",
       "          await google.colab.output.renderOutput(dataTable, element);\n",
       "          const docLink = document.createElement('div');\n",
       "          docLink.innerHTML = docLinkHtml;\n",
       "          element.appendChild(docLink);\n",
       "        }\n",
       "      </script>\n",
       "    </div>\n",
       "  </div>\n",
       "  "
      ],
      "text/plain": [
       "          Elevation        Aspect         Slope  \\\n",
       "count  15120.000000  15120.000000  15120.000000   \n",
       "mean    2748.649934    155.834524     16.556746   \n",
       "std      419.009589    109.745372      8.534602   \n",
       "min     1877.000000      0.000000      0.000000   \n",
       "25%     2373.000000     65.000000     10.000000   \n",
       "50%     2754.000000    125.000000     15.000000   \n",
       "75%     3109.000000    257.000000     22.000000   \n",
       "max     3850.000000    360.000000     50.000000   \n",
       "\n",
       "       Horizontal_Distance_To_Hydrology  Vertical_Distance_To_Hydrology  \\\n",
       "count                      15120.000000                    15120.000000   \n",
       "mean                         228.376521                       51.311706   \n",
       "std                          209.196381                       61.520488   \n",
       "min                            0.000000                     -135.000000   \n",
       "25%                           67.000000                        5.000000   \n",
       "50%                          180.000000                       32.000000   \n",
       "75%                          330.000000                       80.000000   \n",
       "max                         1376.000000                      570.000000   \n",
       "\n",
       "       Horizontal_Distance_To_Roadways  Hillshade_9am  Hillshade_Noon  \\\n",
       "count                     15120.000000   15120.000000    15120.000000   \n",
       "mean                       1717.977712     213.028836      218.865741   \n",
       "std                        1330.263450      30.638406       22.797288   \n",
       "min                           0.000000      52.000000       99.000000   \n",
       "25%                         760.000000     197.000000      207.000000   \n",
       "50%                        1315.000000     220.000000      223.000000   \n",
       "75%                        2292.000000     236.000000      235.000000   \n",
       "max                        6803.000000     254.000000      254.000000   \n",
       "\n",
       "       Hillshade_3pm  Horizontal_Distance_To_Fire_Points  \n",
       "count   15120.000000                        15120.000000  \n",
       "mean      134.477116                         1527.357804  \n",
       "std        46.070054                         1116.636997  \n",
       "min         0.000000                            0.000000  \n",
       "25%       106.000000                          750.000000  \n",
       "50%       138.000000                         1266.000000  \n",
       "75%       166.000000                         2002.000000  \n",
       "max       251.000000                         7095.000000  "
      ]
     },
     "execution_count": 38,
     "metadata": {},
     "output_type": "execute_result"
    }
   ],
   "source": [
    "num_df.describe()"
   ]
  },
  {
   "cell_type": "code",
   "execution_count": 39,
   "metadata": {
    "colab": {
     "base_uri": "https://localhost:8080/",
     "height": 0
    },
    "id": "nYlgpNZyw_tu",
    "outputId": "b412eedb-48bc-44ec-af7d-f23f8fc856be"
   },
   "outputs": [
    {
     "data": {
      "image/png": "[encoded data removed]",
      "text/plain": [
       "<Figure size 1152x864 with 1 Axes>"
      ]
     },
     "metadata": {
      "needs_background": "light"
     },
     "output_type": "display_data"
    }
   ],
   "source": [
    "# study the Spread of numerical features\n",
    "\n",
    "plt.subplots(figsize=(16, 12))\n",
    "sns.boxplot(data=num_df, orient='h', palette='pastel')\n",
    "\n",
    "plt.title('Spread of data in Numerical Features')\n",
    "plt.ylabel('Numerical Features')\n",
    "plt.xlabel('Observation Distribution')\n",
    "plt.show()"
   ]
  },
  {
   "cell_type": "markdown",
   "metadata": {
    "id": "TpX-X17Kq_fE"
   },
   "source": [
    "#### Correlation"
   ]
  },
  {
   "cell_type": "code",
   "execution_count": 40,
   "metadata": {
    "colab": {
     "base_uri": "https://localhost:8080/",
     "height": 867
    },
    "id": "jM0w-amr0K8r",
    "outputId": "c9a39195-5ed7-4b1c-ddc1-719c156ff8f6"
   },
   "outputs": [
    {
     "data": {
      "image/png": "[encoded data removed]",
      "text/plain": [
       "<Figure size 1152x864 with 2 Axes>"
      ]
     },
     "metadata": {
      "needs_background": "light"
     },
     "output_type": "display_data"
    }
   ],
   "source": [
    "# Correlation for numerical features\n",
    "\n",
    "# Create a convariance matrix\n",
    "corr = num_df.corr()\n",
    "\n",
    "# Set up the matplotlib figure\n",
    "fig, ax = plt.subplots(figsize=(16, 12))\n",
    "\n",
    "# Generate a custom diverging colormap\n",
    "cmap = sns.diverging_palette(240, 10, sep=20, n=9, as_cmap=True)\n",
    "\n",
    "# Draw the heatmap\n",
    "sns.heatmap(corr, cmap=cmap, square=True, annot=True)\n",
    "\n",
    "plt.show()"
   ]
  },
  {
   "cell_type": "markdown",
   "metadata": {
    "id": "zgBxcbp8T8A5"
   },
   "source": [
    "We have the same number of samples per cover type"
   ]
  },
  {
   "cell_type": "code",
   "execution_count": 41,
   "metadata": {
    "colab": {
     "base_uri": "https://localhost:8080/",
     "height": 1000
    },
    "id": "nEiRZs27NCyY",
    "outputId": "f7d50aa0-c9d0-4750-df1d-b52535a6c5ae"
   },
   "outputs": [
    {
     "data": {
      "text/plain": [
       "array([[<matplotlib.axes._subplots.AxesSubplot object at 0x7f88a7bd5f40>,\n",
       "        <matplotlib.axes._subplots.AxesSubplot object at 0x7f88a7c0e370>,\n",
       "        <matplotlib.axes._subplots.AxesSubplot object at 0x7f88a7bbc7f0>],\n",
       "       [<matplotlib.axes._subplots.AxesSubplot object at 0x7f88a7b69c40>,\n",
       "        <matplotlib.axes._subplots.AxesSubplot object at 0x7f88a7b17100>,\n",
       "        <matplotlib.axes._subplots.AxesSubplot object at 0x7f88a7b503d0>],\n",
       "       [<matplotlib.axes._subplots.AxesSubplot object at 0x7f88a7b504c0>,\n",
       "        <matplotlib.axes._subplots.AxesSubplot object at 0x7f88a7afd970>,\n",
       "        <matplotlib.axes._subplots.AxesSubplot object at 0x7f88a7a67130>],\n",
       "       [<matplotlib.axes._subplots.AxesSubplot object at 0x7f88a7a15520>,\n",
       "        <matplotlib.axes._subplots.AxesSubplot object at 0x7f88a7a40850>,\n",
       "        <matplotlib.axes._subplots.AxesSubplot object at 0x7f88a79e3df0>]],\n",
       "      dtype=object)"
      ]
     },
     "execution_count": 41,
     "metadata": {},
     "output_type": "execute_result"
    },
    {
     "data": {
      "image/png": "[encoded data removed]",
      "text/plain": [
       "<Figure size 1080x1440 with 12 Axes>"
      ]
     },
     "metadata": {
      "needs_background": "light"
     },
     "output_type": "display_data"
    }
   ],
   "source": [
    "num_df.hist(bins=30, figsize=(15, 20))"
   ]
  },
  {
   "cell_type": "markdown",
   "metadata": {
    "id": "urX6J5GhqOsl"
   },
   "source": [
    "#### Correlation with Cover Type"
   ]
  },
  {
   "cell_type": "code",
   "execution_count": 44,
   "metadata": {
    "id": "Sc1x0dYbpxl9"
   },
   "outputs": [],
   "source": [
    "num_df_cover = num_df.join(pd.get_dummies(df['Cover_Type']))"
   ]
  },
  {
   "cell_type": "code",
   "execution_count": 45,
   "metadata": {
    "colab": {
     "base_uri": "https://localhost:8080/",
     "height": 0
    },
    "id": "PHmz0AFaqXW5",
    "outputId": "0c1b1496-c3ca-4432-bbea-ee7bf5b3b0a2"
   },
   "outputs": [
    {
     "data": {
      "text/plain": [
       "4                                    -0.166667\n",
       "5                                    -0.166667\n",
       "6                                    -0.166667\n",
       "3                                    -0.166667\n",
       "7                                    -0.166667\n",
       "2                                    -0.166667\n",
       "Slope                                -0.160684\n",
       "Vertical_Distance_To_Hydrology       -0.050144\n",
       "Hillshade_9am                        -0.008089\n",
       "Aspect                                0.000194\n",
       "Hillshade_3pm                         0.076385\n",
       "Hillshade_Noon                        0.077760\n",
       "Horizontal_Distance_To_Hydrology      0.098244\n",
       "Horizontal_Distance_To_Fire_Points    0.182391\n",
       "Horizontal_Distance_To_Roadways       0.278615\n",
       "Elevation                             0.371528\n",
       "1                                     1.000000\n",
       "Name: 1, dtype: float64"
      ]
     },
     "execution_count": 45,
     "metadata": {},
     "output_type": "execute_result"
    }
   ],
   "source": [
    "(num_df_cover.corr()[1]).sort_values()"
   ]
  },
  {
   "cell_type": "markdown",
   "metadata": {
    "id": "eyFKrpTvqday"
   },
   "source": [
    "Aspect, and Hillshade 9 am has almost zero correlation, so we remove them"
   ]
  },
  {
   "cell_type": "markdown",
   "metadata": {
    "id": "PNLVvfNuYjBe"
   },
   "source": [
    "### Categorical Data"
   ]
  },
  {
   "cell_type": "code",
   "execution_count": 57,
   "metadata": {
    "id": "aUPlWHR4s80-"
   },
   "outputs": [],
   "source": [
    "def combine_one_hot(one_hot_columns, text):\n",
    "  new_df=((one_hot_columns==1).idxmax(1)).apply(lambda x : x.replace(text,\"\")).astype('int64')\n",
    "  return(new_df)"
   ]
  },
  {
   "cell_type": "code",
   "execution_count": 58,
   "metadata": {
    "colab": {
     "base_uri": "https://localhost:8080/",
     "height": 0
    },
    "id": "m87RDWVpYznv",
    "outputId": "aed501c2-9c65-4b86-8040-064dc804d002"
   },
   "outputs": [
    {
     "name": "stdout",
     "output_type": "stream",
     "text": [
      "Wilderness 1 3568\n",
      "Wilderness 2 569\n",
      "Wilderness 3 6302\n",
      "Wilderness 4 4681\n"
     ]
    }
   ],
   "source": [
    "wilderness_df = df.loc[:,'Wilderness_Area1': 'Wilderness_Area4']\n",
    "\n",
    "for c, e in enumerate(wilderness_df.columns):\n",
    "    print( 'Wilderness', c+1, wilderness_df[e].value_counts()[1])"
   ]
  },
  {
   "cell_type": "code",
   "execution_count": 59,
   "metadata": {
    "id": "iWz8Loztr16-"
   },
   "outputs": [],
   "source": [
    "df['Wilderness_Types'] = combine_one_hot(wilderness_df, \"Wilderness_Area\")"
   ]
  },
  {
   "cell_type": "code",
   "execution_count": 60,
   "metadata": {
    "colab": {
     "base_uri": "https://localhost:8080/",
     "height": 498
    },
    "id": "NY2DVaK4r_5V",
    "outputId": "cb9c9798-319a-43c7-cef2-06ff7697304e"
   },
   "outputs": [
    {
     "data": {
      "image/png": "[encoded data removed]",
      "text/plain": [
       "<Figure size 1152x576 with 1 Axes>"
      ]
     },
     "metadata": {
      "needs_background": "light"
     },
     "output_type": "display_data"
    }
   ],
   "source": [
    "plt.figure(figsize=(16, 8))\n",
    "sns.countplot(data=df, x='Wilderness_Types', hue='Cover_Type')\n",
    "\n",
    "# Drop added feature\n",
    "df.drop(['Wilderness_Types'], axis=1, inplace=True)\n",
    "plt.show();"
   ]
  },
  {
   "cell_type": "code",
   "execution_count": 62,
   "metadata": {
    "colab": {
     "base_uri": "https://localhost:8080/",
     "height": 0
    },
    "id": "DUnEK5_yWnyL",
    "outputId": "f81a7221-0e77-498b-987a-d6c64036d1f6"
   },
   "outputs": [
    {
     "name": "stdout",
     "output_type": "stream",
     "text": [
      "Soil 1 339\n",
      "Soil 2 627\n",
      "Soil 3 1006\n",
      "Soil 4 839\n",
      "Soil 5 181\n",
      "Soil 6 679\n",
      "Soil 7 1\n",
      "Soil 8 2\n",
      "Soil 9 4\n",
      "Soil 10 2096\n",
      "Soil 11 376\n",
      "Soil 12 260\n",
      "Soil 13 513\n",
      "Soil 14 173\n",
      "Soil 15 0\n",
      "Soil 16 106\n",
      "Soil 17 640\n",
      "Soil 18 44\n",
      "Soil 19 53\n",
      "Soil 20 132\n",
      "Soil 21 10\n",
      "Soil 22 332\n",
      "Soil 23 742\n",
      "Soil 24 265\n",
      "Soil 25 6\n",
      "Soil 26 48\n",
      "Soil 27 8\n",
      "Soil 28 7\n",
      "Soil 29 1308\n",
      "Soil 30 736\n",
      "Soil 31 304\n",
      "Soil 32 663\n",
      "Soil 33 619\n",
      "Soil 34 18\n",
      "Soil 35 103\n",
      "Soil 36 14\n",
      "Soil 37 32\n",
      "Soil 38 744\n",
      "Soil 39 634\n",
      "Soil 40 456\n"
     ]
    }
   ],
   "source": [
    "soil_df = df.loc[:,'Soil_Type1':'Soil_Type40']\n",
    "\n",
    "for c, e in enumerate(soil_df.columns):\n",
    "    print( 'Soil', c+1, sum(soil_df[e].to_list()))"
   ]
  },
  {
   "cell_type": "code",
   "execution_count": 63,
   "metadata": {
    "id": "tEGD8HwFtjYN"
   },
   "outputs": [],
   "source": [
    "df['Soil_Type'] = combine_one_hot(soil_df, \"Soil_Type\")"
   ]
  },
  {
   "cell_type": "code",
   "execution_count": 65,
   "metadata": {
    "colab": {
     "base_uri": "https://localhost:8080/",
     "height": 498
    },
    "id": "AcCpqvRytwS7",
    "outputId": "4f32ec45-99b6-46f1-9597-5a682e2197ff"
   },
   "outputs": [
    {
     "data": {
      "image/png": "[encoded data removed]",
      "text/plain": [
       "<Figure size 1152x576 with 1 Axes>"
      ]
     },
     "metadata": {
      "needs_background": "light"
     },
     "output_type": "display_data"
    }
   ],
   "source": [
    "plt.figure(figsize=(16, 8))\n",
    "sns.countplot(data=df, x='Soil_Type', hue='Cover_Type')\n",
    "\n",
    "# Drop added feature\n",
    "df.drop(['Soil_Type'], axis=1, inplace=True)\n",
    "plt.show();"
   ]
  },
  {
   "cell_type": "markdown",
   "metadata": {
    "id": "R_rThbXJd-ur"
   },
   "source": [
    "## Data Preprocessing"
   ]
  },
  {
   "cell_type": "code",
   "execution_count": 311,
   "metadata": {
    "id": "yYq00p4cnWLI"
   },
   "outputs": [],
   "source": [
    "from sklearn.model_selection import train_test_split\n",
    "from sklearn.preprocessing import StandardScaler, LabelBinarizer\n",
    "from sklearn.decomposition import PCA"
   ]
  },
  {
   "cell_type": "markdown",
   "metadata": {
    "id": "5VGAZ-Z85OAN"
   },
   "source": [
    "### Feature engineering and selection"
   ]
  },
  {
   "cell_type": "code",
   "execution_count": 312,
   "metadata": {
    "id": "8c_fNEfaj2Cs"
   },
   "outputs": [],
   "source": [
    "y = df['Cover_Type'].values.flatten()\n",
    "X = df.drop('Cover_Type', axis=1)"
   ]
  },
  {
   "cell_type": "code",
   "execution_count": 313,
   "metadata": {
    "id": "ZCcebylTyCzx"
   },
   "outputs": [],
   "source": [
    "# one_hot_encode y\n",
    "def one_hot_encode(y):\n",
    "  lb = LabelBinarizer()\n",
    "  lb.fit([1, 2, 3, 4, 5, 6, 7])\n",
    "  return lb.transform(y)\n",
    "\n",
    "# Reverse of one_hot_encode\n",
    "def combine_one_hot(one_hot_columns):\n",
    "  new_df=((one_hot_columns==1).idxmax(1)).apply(lambda x : x.replace(\"Soil_Type\",\"\")).astype('int64')\n",
    "  return(new_df)"
   ]
  },
  {
   "cell_type": "code",
   "execution_count": 314,
   "metadata": {
    "id": "Wck2xelYyR7q"
   },
   "outputs": [],
   "source": [
    "# Combine the soil type into one column instead of 40\n",
    "\n",
    "def combine_soil(X):\n",
    "    soil_df = X.loc[:,'Soil_Type1':'Soil_Type40']\n",
    "    X = X.drop(soil_df.columns, axis=1)\n",
    "    X['Soil_Type'] = combine_one_hot(soil_df)\n",
    "    return X"
   ]
  },
  {
   "cell_type": "code",
   "execution_count": 315,
   "metadata": {
    "id": "a7DtVsMoxG3c"
   },
   "outputs": [],
   "source": [
    "# Very basic linear combination\n",
    "\n",
    "def lin_feature_engineering(X):\n",
    "\n",
    "  X[\"sum_Hydrology_Firepoints\"]=X['Horizontal_Distance_To_Hydrology'] + X['Horizontal_Distance_To_Fire_Points']   \n",
    "  X[\"diff_Hydrology_Firepoints\"]=np.abs(X['Horizontal_Distance_To_Hydrology'] - X['Horizontal_Distance_To_Fire_Points'] )  \n",
    "\n",
    "  X[\"sum_Hydrology_Roadways\"]=X['Horizontal_Distance_To_Hydrology'] + X['Horizontal_Distance_To_Roadways']\n",
    "  X[\"diff_Hydrology_Roadways\"]=np.abs(X['Horizontal_Distance_To_Hydrology'] - X['Horizontal_Distance_To_Roadways'] )   \n",
    "\n",
    "  X[\"sum_Firepoints_Roadways\"]=X['Horizontal_Distance_To_Fire_Points'] +  X['Horizontal_Distance_To_Roadways']\n",
    "  X[\"diff_Firepoints_Roadways\"]=np.abs(X['Horizontal_Distance_To_Fire_Points'] - X['Horizontal_Distance_To_Roadways'])   \n",
    "\n",
    "  X[\"sum_Horizontal_Hydrology_elevation \"]=X['Horizontal_Distance_To_Hydrology'] +  X['Elevation']\n",
    "  X[\"diff_Horizontal_Hydrology_elevation \"]=np.abs(X['Horizontal_Distance_To_Hydrology'] -  X['Elevation'])\n",
    "\n",
    "  X[\"sum_vertical_Hydrology_elevation \"]=X['Vertical_Distance_To_Hydrology'] +  X['Elevation']\n",
    "  X[\"diff_Vertical_Hydrology_elevation \"]=np.abs(X['Vertical_Distance_To_Hydrology'] -  X['Elevation'])\n",
    "\n",
    "  return X"
   ]
  },
  {
   "cell_type": "code",
   "execution_count": 316,
   "metadata": {
    "id": "ELqhNYvAxyxy"
   },
   "outputs": [],
   "source": [
    "# Based on the skewness study we either apply log or square to some of our numerical data\n",
    "\n",
    "def non_lin_feature_engineering(X):\n",
    "  X[\"distance_to_hydrology\"]=(X[\"Vertical_Distance_To_Hydrology\"]**2+X[\"Horizontal_Distance_To_Hydrology\"]**2)**0.5\n",
    "  X[\"log_distance_to_hydrology\"]=np.log(X[\"distance_to_hydrology\"]+1)\n",
    "  X[\"log_Horizontal_Distance_To_Fire_Points\"]=np.log(X[\"Horizontal_Distance_To_Fire_Points\"]+1)\n",
    "  X[\"log_Horizontal_Distance_To_Roadways\"]=np.log(X[\"Horizontal_Distance_To_Roadways\"]+1)\n",
    "  X[\"log_Horizontal_Distance_To_Hydrology\"]=np.log(X[\"Horizontal_Distance_To_Hydrology\"]+1)\n",
    "  X[\"sqr_Hillshade_3pm\"]=X[\"Hillshade_3pm\"]**2\n",
    "  X[\"sqr_Hillshade_Noon\"]=X[\"Hillshade_Noon\"]**2\n",
    "  return X"
   ]
  },
  {
   "cell_type": "code",
   "execution_count": 317,
   "metadata": {
    "id": "WqXU8iCEeBHD"
   },
   "outputs": [],
   "source": [
    "def preprocess(X, comb_soil=True, scale=False, dim_red=False):\n",
    "\n",
    "  if comb_soil:\n",
    "      X = combine_soil(X)\n",
    "\n",
    "  # Drop Hillshade_9am and Aspect\n",
    "  X = X.drop([\"Hillshade_9am\", \"Aspect\"], axis=1)\n",
    "\n",
    "  # Create new_features based on linear combinations from our existing features \n",
    "  X = lin_feature_engineering(X)\n",
    "\n",
    "  # Create new_features based on none-linear combinations from our existing features using the skewness\n",
    "  X = non_lin_feature_engineering(X)\n",
    "\n",
    "  # Reduce the dimension using PCA\n",
    "  if dim_red:\n",
    "    pca = PCA(n_components=20)\n",
    "    X = pca.fit_transform(X)\n",
    "\n",
    "  return X"
   ]
  },
  {
   "cell_type": "code",
   "execution_count": 318,
   "metadata": {
    "id": "Mufxan-r3hJA"
   },
   "outputs": [],
   "source": [
    "final_df = preprocess(X).join(pd.get_dummies(df['Cover_Type']))"
   ]
  },
  {
   "cell_type": "code",
   "execution_count": 319,
   "metadata": {
    "colab": {
     "base_uri": "https://localhost:8080/"
    },
    "id": "UnH8Y1S13RBD",
    "outputId": "b5a67420-8f3c-416d-873d-a76b6b46d4aa"
   },
   "outputs": [
    {
     "data": {
      "text/plain": [
       "Wilderness_Area4                         -0.273378\n",
       "4                                        -0.166667\n",
       "5                                        -0.166667\n",
       "6                                        -0.166667\n",
       "3                                        -0.166667\n",
       "7                                        -0.166667\n",
       "2                                        -0.166667\n",
       "Slope                                    -0.160684\n",
       "Vertical_Distance_To_Hydrology           -0.050144\n",
       "Wilderness_Area3                         -0.017360\n",
       "sqr_Hillshade_3pm                         0.053584\n",
       "sqr_Hillshade_Noon                        0.073735\n",
       "Hillshade_3pm                             0.076385\n",
       "Hillshade_Noon                            0.077760\n",
       "distance_to_hydrology                     0.089622\n",
       "log_distance_to_hydrology                 0.092262\n",
       "log_Horizontal_Distance_To_Hydrology      0.097283\n",
       "Horizontal_Distance_To_Hydrology          0.098244\n",
       "Wilderness_Area2                          0.154649\n",
       "diff_Hydrology_Firepoints                 0.166879\n",
       "log_Horizontal_Distance_To_Fire_Points    0.171600\n",
       "Horizontal_Distance_To_Fire_Points        0.182391\n",
       "sum_Hydrology_Firepoints                  0.192260\n",
       "log_Horizontal_Distance_To_Roadways       0.245305\n",
       "Wilderness_Area1                          0.248507\n",
       "diff_Hydrology_Roadways                   0.268975\n",
       "diff_Firepoints_Roadways                  0.269090\n",
       "sum_Firepoints_Roadways                   0.272367\n",
       "Horizontal_Distance_To_Roadways           0.278615\n",
       "sum_Hydrology_Roadways                    0.282168\n",
       "Soil_Type                                 0.286161\n",
       "sum_Horizontal_Hydrology_elevation        0.325318\n",
       "sum_vertical_Hydrology_elevation          0.353931\n",
       "diff_Horizontal_Hydrology_elevation       0.354576\n",
       "Elevation                                 0.371528\n",
       "diff_Vertical_Hydrology_elevation         0.381872\n",
       "1                                         1.000000\n",
       "Name: 1, dtype: float64"
      ]
     },
     "execution_count": 319,
     "metadata": {},
     "output_type": "execute_result"
    }
   ],
   "source": [
    "(final_df.corr()[1]).sort_values()"
   ]
  },
  {
   "cell_type": "markdown",
   "metadata": {
    "id": "MW7TslAf5BpI"
   },
   "source": [
    "Among all those features we chose those who have the highest correlation with the cover type"
   ]
  },
  {
   "cell_type": "code",
   "execution_count": 320,
   "metadata": {
    "id": "TUwSRScT3Dr4"
   },
   "outputs": [],
   "source": [
    "chosen_features=[\"sum_Hydrology_Roadways\", \"diff_Hydrology_Roadways\", \n",
    "                 \"sum_Firepoints_Roadways\",\"diff_Firepoints_Roadways\",\n",
    "                 \"sum_Hydrology_Firepoints\", \"diff_Hydrology_Firepoints\",\n",
    "                 \"sum_Horizontal_Hydrology_elevation \", \"diff_Horizontal_Hydrology_elevation \",\n",
    "                 \"sum_vertical_Hydrology_elevation \",\"diff_Vertical_Hydrology_elevation \", \n",
    "                 \"Elevation\",\"Slope\",\"Horizontal_Distance_To_Fire_Points\", \"Horizontal_Distance_To_Roadways\",\"Horizontal_Distance_To_Hydrology\",\"Hillshade_Noon\", \"Hillshade_3pm\",\n",
    "                 \"log_distance_to_hydrology\",\n",
    "                 \"Wilderness_Area1\",\"Wilderness_Area2\",\"Wilderness_Area3\",\"Wilderness_Area4\",\"Soil_Type\"\n",
    "                 ]"
   ]
  },
  {
   "cell_type": "code",
   "execution_count": 321,
   "metadata": {
    "id": "voRsET3OEtK6"
   },
   "outputs": [],
   "source": [
    "chosen_features_1=[\"sum_Hydrology_Roadways\", \"diff_Hydrology_Roadways\", \n",
    "                 \"sum_Firepoints_Roadways\",\"diff_Firepoints_Roadways\",\n",
    "                 \"sum_Hydrology_Firepoints\", \"diff_Hydrology_Firepoints\",\n",
    "                 \"sum_Horizontal_Hydrology_elevation \", \"diff_Horizontal_Hydrology_elevation \",\n",
    "                 \"sum_vertical_Hydrology_elevation \",\"diff_Vertical_Hydrology_elevation \", \n",
    "                 \"Elevation\",\"Slope\",\"Horizontal_Distance_To_Fire_Points\", \"Horizontal_Distance_To_Roadways\",\"Horizontal_Distance_To_Hydrology\",\"Hillshade_Noon\", \"Hillshade_3pm\",\n",
    "                 \"log_distance_to_hydrology\",\n",
    "                 \"Wilderness_Area1\",\"Wilderness_Area2\",\"Wilderness_Area3\",\"Wilderness_Area4\",'Soil_Type1', 'Soil_Type2', 'Soil_Type3', 'Soil_Type4', 'Soil_Type5',\n",
    "       'Soil_Type6', 'Soil_Type7', 'Soil_Type8', 'Soil_Type9', 'Soil_Type10',\n",
    "       'Soil_Type11', 'Soil_Type12', 'Soil_Type13', 'Soil_Type14',\n",
    "       'Soil_Type15', 'Soil_Type16', 'Soil_Type17', 'Soil_Type18',\n",
    "       'Soil_Type19', 'Soil_Type20', 'Soil_Type21', 'Soil_Type22',\n",
    "       'Soil_Type23', 'Soil_Type24', 'Soil_Type25', 'Soil_Type26',\n",
    "       'Soil_Type27', 'Soil_Type28', 'Soil_Type29', 'Soil_Type30',\n",
    "       'Soil_Type31', 'Soil_Type32', 'Soil_Type33', 'Soil_Type34',\n",
    "       'Soil_Type35', 'Soil_Type36', 'Soil_Type37', 'Soil_Type38',\n",
    "       'Soil_Type39', 'Soil_Type40']"
   ]
  },
  {
   "cell_type": "markdown",
   "metadata": {
    "id": "USHPrBrz4chO"
   },
   "source": [
    "### Final preprocess"
   ]
  },
  {
   "cell_type": "code",
   "execution_count": 322,
   "metadata": {
    "id": "C0m9WaDo4tyv"
   },
   "outputs": [],
   "source": [
    "def preprocess(X, comb_soil=True, scale=False, dim_red=False, chosen_features=chosen_features):\n",
    "\n",
    "  if comb_soil:\n",
    "      X = combine_soil(X)\n",
    "\n",
    "  # Drop Hillshade_9am and Aspect\n",
    "  X = X.drop([\"Hillshade_9am\", \"Aspect\"], axis=1)\n",
    "\n",
    "  # Create new_features based on linear combinations from our existing features \n",
    "  X = lin_feature_engineering(X)\n",
    "\n",
    "  # Create new_features based on none-linear combinations from our existing features using the skewness\n",
    "  X = non_lin_feature_engineering(X)\n",
    "\n",
    "  X = X[chosen_features]\n",
    "\n",
    "  # Reduce the dimension using PCA\n",
    "  if dim_red:\n",
    "    pca = PCA(n_components=20)\n",
    "    X = pca.fit_transform(X)\n",
    "\n",
    "  return X"
   ]
  },
  {
   "cell_type": "code",
   "execution_count": 323,
   "metadata": {
    "id": "5N39zQTG9eQV"
   },
   "outputs": [],
   "source": [
    "# Scale numerical features\n",
    "\n",
    "def scale(X, ref):\n",
    "  cat_X_train = ref.iloc[:, -44:]\n",
    "  num_X_train = ref.drop(cat_X_train.columns, axis=1)\n",
    "  scaler = StandardScaler()\n",
    "  scaler.fit(num_X_train)\n",
    "\n",
    "  cat_X = X.iloc[:, -44:]\n",
    "  num_X = X.drop(cat_X.columns.to_list(), axis=1)\n",
    "  num_X = scaler.transform(num_X.values)\n",
    "  return np.concatenate((num_X, cat_X.values),axis=1)"
   ]
  },
  {
   "cell_type": "markdown",
   "metadata": {
    "id": "foT-Le3Z_H-e"
   },
   "source": [
    "# Models"
   ]
  },
  {
   "cell_type": "code",
   "execution_count": 333,
   "metadata": {
    "id": "UAst650aav1Z"
   },
   "outputs": [],
   "source": [
    "result = pd.DataFrame({'Metric': ['Accuracy', 'Precision', 'Recall', 'F1']})"
   ]
  },
  {
   "cell_type": "markdown",
   "metadata": {
    "id": "n4XP78YMKeZS"
   },
   "source": [
    "## *Extra Tree Classifier*"
   ]
  },
  {
   "cell_type": "code",
   "execution_count": 324,
   "metadata": {
    "id": "ArM_bruNKeZT"
   },
   "outputs": [],
   "source": [
    "from sklearn.ensemble import ExtraTreesClassifier\n",
    "from sklearn.metrics import accuracy_score, precision_recall_fscore_support, confusion_matrix"
   ]
  },
  {
   "cell_type": "code",
   "execution_count": 325,
   "metadata": {
    "id": "egvIG8pi4m3y"
   },
   "outputs": [],
   "source": [
    "y = df['Cover_Type'].values.flatten()\n",
    "X = df.drop('Cover_Type', axis=1)"
   ]
  },
  {
   "cell_type": "code",
   "execution_count": 326,
   "metadata": {
    "id": "i3PAxdto4gUU"
   },
   "outputs": [],
   "source": [
    "# Cross_validation\n",
    "X_train, X_test, y_train, y_test = train_test_split(X, y, random_state=0)"
   ]
  },
  {
   "cell_type": "code",
   "execution_count": 327,
   "metadata": {
    "id": "N01G_OQ761xR"
   },
   "outputs": [],
   "source": [
    "X_train = preprocess(X_train, comb_soil=True, scale=False, dim_red=False, chosen_features=chosen_features)\n",
    "X_test = preprocess(X_test, comb_soil=True, scale=False, dim_red=False, chosen_features=chosen_features)"
   ]
  },
  {
   "cell_type": "code",
   "execution_count": 328,
   "metadata": {
    "colab": {
     "base_uri": "https://localhost:8080/"
    },
    "id": "X-3EVrdAKeZT",
    "outputId": "7f40413b-031f-4b5b-959e-800ef14d8402"
   },
   "outputs": [
    {
     "data": {
      "text/plain": [
       "ExtraTreesClassifier(n_estimators=1500)"
      ]
     },
     "execution_count": 328,
     "metadata": {},
     "output_type": "execute_result"
    }
   ],
   "source": [
    "etc_model = ExtraTreesClassifier(criterion='gini',max_depth=None,n_estimators=1500,min_samples_split=2,min_samples_leaf=1)\n",
    "etc_model.fit(X_train, y_train)"
   ]
  },
  {
   "cell_type": "code",
   "execution_count": 130,
   "metadata": {
    "colab": {
     "base_uri": "https://localhost:8080/",
     "height": 0
    },
    "id": "PpWqkEedKeZT",
    "outputId": "8407b8d7-4168-4910-9b1a-f3556e51ddc1"
   },
   "outputs": [
    {
     "data": {
      "text/plain": [
       "0.8992063492063492"
      ]
     },
     "execution_count": 130,
     "metadata": {},
     "output_type": "execute_result"
    }
   ],
   "source": [
    "accuracy_score(etc_model.predict(X_test), y_test)"
   ]
  },
  {
   "cell_type": "code",
   "execution_count": 332,
   "metadata": {
    "colab": {
     "base_uri": "https://localhost:8080/",
     "height": 175
    },
    "id": "yfuaPflvZ1j5",
    "outputId": "362a2d34-6527-4c75-eb1f-19b78969d7b7"
   },
   "outputs": [
    {
     "data": {
      "text/html": [
       "\n",
       "  <div id=\"df-e72b03ed-4314-4112-b453-cc35ab0e205c\">\n",
       "    <div class=\"colab-df-container\">\n",
       "      <div>\n",
       "<style scoped>\n",
       "    .dataframe tbody tr th:only-of-type {\n",
       "        vertical-align: middle;\n",
       "    }\n",
       "\n",
       "    .dataframe tbody tr th {\n",
       "        vertical-align: top;\n",
       "    }\n",
       "\n",
       "    .dataframe thead th {\n",
       "        text-align: right;\n",
       "    }\n",
       "</style>\n",
       "<table border=\"1\" class=\"dataframe\">\n",
       "  <thead>\n",
       "    <tr style=\"text-align: right;\">\n",
       "      <th></th>\n",
       "      <th>Metric</th>\n",
       "      <th>ETC</th>\n",
       "    </tr>\n",
       "  </thead>\n",
       "  <tbody>\n",
       "    <tr>\n",
       "      <th>0</th>\n",
       "      <td>Accuracy</td>\n",
       "      <td>0.901058</td>\n",
       "    </tr>\n",
       "    <tr>\n",
       "      <th>1</th>\n",
       "      <td>Precision</td>\n",
       "      <td>0.897769</td>\n",
       "    </tr>\n",
       "    <tr>\n",
       "      <th>2</th>\n",
       "      <td>Recall</td>\n",
       "      <td>0.898928</td>\n",
       "    </tr>\n",
       "    <tr>\n",
       "      <th>3</th>\n",
       "      <td>F1</td>\n",
       "      <td>0.897787</td>\n",
       "    </tr>\n",
       "  </tbody>\n",
       "</table>\n",
       "</div>\n",
       "      <button class=\"colab-df-convert\" onclick=\"convertToInteractive('df-e72b03ed-4314-4112-b453-cc35ab0e205c')\"\n",
       "              title=\"Convert this dataframe to an interactive table.\"\n",
       "              style=\"display:none;\">\n",
       "        \n",
       "  <svg xmlns=\"http://www.w3.org/2000/svg\" height=\"24px\"viewBox=\"0 0 24 24\"\n",
       "       width=\"24px\">\n",
       "    <path d=\"M0 0h24v24H0V0z\" fill=\"none\"/>\n",
       "    <path d=\"M18.56 5.44l.94 2.06.94-2.06 2.06-.94-2.06-.94-.94-2.06-.94 2.06-2.06.94zm-11 1L8.5 8.5l.94-2.06 2.06-.94-2.06-.94L8.5 2.5l-.94 2.06-2.06.94zm10 10l.94 2.06.94-2.06 2.06-.94-2.06-.94-.94-2.06-.94 2.06-2.06.94z\"/><path d=\"M17.41 7.96l-1.37-1.37c-.4-.4-.92-.59-1.43-.59-.52 0-1.04.2-1.43.59L10.3 9.45l-7.72 7.72c-.78.78-.78 2.05 0 2.83L4 21.41c.39.39.9.59 1.41.59.51 0 1.02-.2 1.41-.59l7.78-7.78 2.81-2.81c.8-.78.8-2.07 0-2.86zM5.41 20L4 18.59l7.72-7.72 1.47 1.35L5.41 20z\"/>\n",
       "  </svg>\n",
       "      </button>\n",
       "      \n",
       "  <style>\n",
       "    .colab-df-container {\n",
       "      display:flex;\n",
       "      flex-wrap:wrap;\n",
       "      gap: 12px;\n",
       "    }\n",
       "\n",
       "    .colab-df-convert {\n",
       "      background-color: #E8F0FE;\n",
       "      border: none;\n",
       "      border-radius: 50%;\n",
       "      cursor: pointer;\n",
       "      display: none;\n",
       "      fill: #1967D2;\n",
       "      height: 32px;\n",
       "      padding: 0 0 0 0;\n",
       "      width: 32px;\n",
       "    }\n",
       "\n",
       "    .colab-df-convert:hover {\n",
       "      background-color: #E2EBFA;\n",
       "      box-shadow: 0px 1px 2px rgba(60, 64, 67, 0.3), 0px 1px 3px 1px rgba(60, 64, 67, 0.15);\n",
       "      fill: #174EA6;\n",
       "    }\n",
       "\n",
       "    [theme=dark] .colab-df-convert {\n",
       "      background-color: #3B4455;\n",
       "      fill: #D2E3FC;\n",
       "    }\n",
       "\n",
       "    [theme=dark] .colab-df-convert:hover {\n",
       "      background-color: #434B5C;\n",
       "      box-shadow: 0px 1px 3px 1px rgba(0, 0, 0, 0.15);\n",
       "      filter: drop-shadow(0px 1px 2px rgba(0, 0, 0, 0.3));\n",
       "      fill: #FFFFFF;\n",
       "    }\n",
       "  </style>\n",
       "\n",
       "      <script>\n",
       "        const buttonEl =\n",
       "          document.querySelector('#df-e72b03ed-4314-4112-b453-cc35ab0e205c button.colab-df-convert');\n",
       "        buttonEl.style.display =\n",
       "          google.colab.kernel.accessAllowed ? 'block' : 'none';\n",
       "\n",
       "        async function convertToInteractive(key) {\n",
       "          const element = document.querySelector('#df-e72b03ed-4314-4112-b453-cc35ab0e205c');\n",
       "          const dataTable =\n",
       "            await google.colab.kernel.invokeFunction('convertToInteractive',\n",
       "                                                     [key], {});\n",
       "          if (!dataTable) return;\n",
       "\n",
       "          const docLinkHtml = 'Like what you see? Visit the ' +\n",
       "            '<a target=\"_blank\" href=https://colab.research.google.com/notebooks/data_table.ipynb>data table notebook</a>'\n",
       "            + ' to learn more about interactive tables.';\n",
       "          element.innerHTML = '';\n",
       "          dataTable['output_type'] = 'display_data';\n",
       "          await google.colab.output.renderOutput(dataTable, element);\n",
       "          const docLink = document.createElement('div');\n",
       "          docLink.innerHTML = docLinkHtml;\n",
       "          element.appendChild(docLink);\n",
       "        }\n",
       "      </script>\n",
       "    </div>\n",
       "  </div>\n",
       "  "
      ],
      "text/plain": [
       "      Metric       ETC\n",
       "0   Accuracy  0.901058\n",
       "1  Precision  0.897769\n",
       "2     Recall  0.898928\n",
       "3         F1  0.897787"
      ]
     },
     "execution_count": 332,
     "metadata": {},
     "output_type": "execute_result"
    }
   ],
   "source": [
    "y_pred = etc_model.predict(X_test)\n",
    "\n",
    "# Compute accuracy\n",
    "accuracy = accuracy_score(y_pred, y_test)\n",
    "\n",
    "# Compute the precision, recall, and F1 score\n",
    "precision, recall, f1, _ = precision_recall_fscore_support(y_test, y_pred, average='macro')\n",
    "\n",
    "# Create a data frame with the results\n",
    "results = pd.DataFrame({'Metric': ['Accuracy', 'Precision', 'Recall', 'F1'],\n",
    "                        'ETC': [accuracy, precision, recall, f1]})\n",
    "\n",
    "results"
   ]
  },
  {
   "cell_type": "code",
   "execution_count": 334,
   "metadata": {
    "id": "PgqTrNysa8g_"
   },
   "outputs": [],
   "source": [
    "result = result.join(results['ETC'])"
   ]
  },
  {
   "cell_type": "code",
   "execution_count": 337,
   "metadata": {
    "colab": {
     "base_uri": "https://localhost:8080/",
     "height": 700
    },
    "id": "k_1cTM0SbQPb",
    "outputId": "696ad0a4-7963-44aa-a2b5-f0a38a88b6eb"
   },
   "outputs": [
    {
     "data": {
      "image/png": "[encoded data removed]",
      "text/plain": [
       "<Figure size 1152x864 with 2 Axes>"
      ]
     },
     "metadata": {
      "needs_background": "light"
     },
     "output_type": "display_data"
    }
   ],
   "source": [
    "# Confusion Matrix of ETC\n",
    "\n",
    "# Set up the matplotlib figure\n",
    "fig, ax = plt.subplots(figsize=(16, 12))\n",
    "\n",
    "# Generate a custom diverging colormap\n",
    "cmap = sns.diverging_palette(240, 10, sep=20, n=9, as_cmap=True)\n",
    "\n",
    "# Draw the heatmap\n",
    "sns.heatmap(confusion_matrix(y_pred, y_test), cmap=cmap, square=True, annot=True)\n",
    "\n",
    "plt.show()"
   ]
  },
  {
   "cell_type": "markdown",
   "metadata": {
    "id": "vpTRYD3kb8G_"
   },
   "source": [
    "The highest confusion is between cover type 1 and 2"
   ]
  },
  {
   "cell_type": "code",
   "execution_count": 131,
   "metadata": {
    "id": "4Zo3xdf5KeZU"
   },
   "outputs": [],
   "source": [
    "# Test\n",
    "test_data = pd.read_csv(\"test-full.csv\", index_col='Id')\n",
    "X_submit = preprocess(test_data, comb_soil=True, scale=False, dim_red=False, chosen_features=chosen_features)\n",
    "y_pred = etc_model.predict(X_submit)"
   ]
  },
  {
   "cell_type": "code",
   "execution_count": 134,
   "metadata": {
    "id": "5XtwZq3DKeZU"
   },
   "outputs": [],
   "source": [
    "submission_df=pd.DataFrame(y_pred,columns=['Cover_Type'])\n",
    "submission_df.index += 1\n",
    "submission_df.index.names = ['Id']\n",
    "submission_df.to_csv('submission.csv', header=True)"
   ]
  },
  {
   "cell_type": "markdown",
   "metadata": {
    "id": "8pyW8kld_mr8"
   },
   "source": [
    "It gave 0.815 on Kaggle"
   ]
  },
  {
   "cell_type": "markdown",
   "metadata": {
    "id": "0JD5GoZ8oJeh"
   },
   "source": [
    "## Random Forest"
   ]
  },
  {
   "cell_type": "code",
   "execution_count": 338,
   "metadata": {
    "id": "FnHjzh09NO3d"
   },
   "outputs": [],
   "source": [
    "from sklearn.ensemble import RandomForestClassifier\n",
    "from sklearn.metrics import accuracy_score"
   ]
  },
  {
   "cell_type": "code",
   "execution_count": 339,
   "metadata": {
    "id": "6OlD-2B1_YyN"
   },
   "outputs": [],
   "source": [
    "y = df['Cover_Type'].values.flatten()\n",
    "X = df.drop('Cover_Type', axis=1)"
   ]
  },
  {
   "cell_type": "code",
   "execution_count": 340,
   "metadata": {
    "id": "ved6qHM7_YyO"
   },
   "outputs": [],
   "source": [
    "# Cross_validation\n",
    "X_train, X_test, y_train, y_test = train_test_split(X, y, random_state=0)"
   ]
  },
  {
   "cell_type": "code",
   "execution_count": 341,
   "metadata": {
    "id": "wudXTfJI_YyP"
   },
   "outputs": [],
   "source": [
    "X_train = preprocess(X_train, comb_soil=True, scale=False, dim_red=False, chosen_features=chosen_features)\n",
    "X_test = preprocess(X_test, comb_soil=True, scale=False, dim_red=False, chosen_features=chosen_features)"
   ]
  },
  {
   "cell_type": "code",
   "execution_count": 342,
   "metadata": {
    "colab": {
     "base_uri": "https://localhost:8080/"
    },
    "id": "1sscMp5dbRo-",
    "outputId": "456f7509-fda8-4cab-ae71-536e7176533e"
   },
   "outputs": [
    {
     "data": {
      "text/plain": [
       "RandomForestClassifier(n_jobs=-1, random_state=42)"
      ]
     },
     "execution_count": 342,
     "metadata": {},
     "output_type": "execute_result"
    }
   ],
   "source": [
    "rf_model = RandomForestClassifier(n_estimators=100, random_state=42, n_jobs=-1)\n",
    "rf_model.fit(X_train, y_train)"
   ]
  },
  {
   "cell_type": "code",
   "execution_count": 343,
   "metadata": {
    "colab": {
     "base_uri": "https://localhost:8080/"
    },
    "id": "9v3-QUDa9Fe0",
    "outputId": "fc5f84db-19aa-4844-db61-b9826a55d475"
   },
   "outputs": [
    {
     "data": {
      "text/plain": [
       "0.8867724867724868"
      ]
     },
     "execution_count": 343,
     "metadata": {},
     "output_type": "execute_result"
    }
   ],
   "source": [
    "# cross_validation accuracy\n",
    "\n",
    "accuracy_score(rf_model.predict(X_test), y_test)"
   ]
  },
  {
   "cell_type": "code",
   "execution_count": 349,
   "metadata": {
    "colab": {
     "base_uri": "https://localhost:8080/",
     "height": 175
    },
    "id": "NRFzA9uubK2z",
    "outputId": "ab0bfcdf-c622-463b-a75a-2443d916d671"
   },
   "outputs": [
    {
     "data": {
      "text/html": [
       "\n",
       "  <div id=\"df-c67c2f51-9d7c-45b2-a0d6-62a18684f156\">\n",
       "    <div class=\"colab-df-container\">\n",
       "      <div>\n",
       "<style scoped>\n",
       "    .dataframe tbody tr th:only-of-type {\n",
       "        vertical-align: middle;\n",
       "    }\n",
       "\n",
       "    .dataframe tbody tr th {\n",
       "        vertical-align: top;\n",
       "    }\n",
       "\n",
       "    .dataframe thead th {\n",
       "        text-align: right;\n",
       "    }\n",
       "</style>\n",
       "<table border=\"1\" class=\"dataframe\">\n",
       "  <thead>\n",
       "    <tr style=\"text-align: right;\">\n",
       "      <th></th>\n",
       "      <th>Metric</th>\n",
       "      <th>RF</th>\n",
       "    </tr>\n",
       "  </thead>\n",
       "  <tbody>\n",
       "    <tr>\n",
       "      <th>0</th>\n",
       "      <td>Accuracy</td>\n",
       "      <td>0.886772</td>\n",
       "    </tr>\n",
       "    <tr>\n",
       "      <th>1</th>\n",
       "      <td>Precision</td>\n",
       "      <td>0.883330</td>\n",
       "    </tr>\n",
       "    <tr>\n",
       "      <th>2</th>\n",
       "      <td>Recall</td>\n",
       "      <td>0.884673</td>\n",
       "    </tr>\n",
       "    <tr>\n",
       "      <th>3</th>\n",
       "      <td>F1</td>\n",
       "      <td>0.883099</td>\n",
       "    </tr>\n",
       "  </tbody>\n",
       "</table>\n",
       "</div>\n",
       "      <button class=\"colab-df-convert\" onclick=\"convertToInteractive('df-c67c2f51-9d7c-45b2-a0d6-62a18684f156')\"\n",
       "              title=\"Convert this dataframe to an interactive table.\"\n",
       "              style=\"display:none;\">\n",
       "        \n",
       "  <svg xmlns=\"http://www.w3.org/2000/svg\" height=\"24px\"viewBox=\"0 0 24 24\"\n",
       "       width=\"24px\">\n",
       "    <path d=\"M0 0h24v24H0V0z\" fill=\"none\"/>\n",
       "    <path d=\"M18.56 5.44l.94 2.06.94-2.06 2.06-.94-2.06-.94-.94-2.06-.94 2.06-2.06.94zm-11 1L8.5 8.5l.94-2.06 2.06-.94-2.06-.94L8.5 2.5l-.94 2.06-2.06.94zm10 10l.94 2.06.94-2.06 2.06-.94-2.06-.94-.94-2.06-.94 2.06-2.06.94z\"/><path d=\"M17.41 7.96l-1.37-1.37c-.4-.4-.92-.59-1.43-.59-.52 0-1.04.2-1.43.59L10.3 9.45l-7.72 7.72c-.78.78-.78 2.05 0 2.83L4 21.41c.39.39.9.59 1.41.59.51 0 1.02-.2 1.41-.59l7.78-7.78 2.81-2.81c.8-.78.8-2.07 0-2.86zM5.41 20L4 18.59l7.72-7.72 1.47 1.35L5.41 20z\"/>\n",
       "  </svg>\n",
       "      </button>\n",
       "      \n",
       "  <style>\n",
       "    .colab-df-container {\n",
       "      display:flex;\n",
       "      flex-wrap:wrap;\n",
       "      gap: 12px;\n",
       "    }\n",
       "\n",
       "    .colab-df-convert {\n",
       "      background-color: #E8F0FE;\n",
       "      border: none;\n",
       "      border-radius: 50%;\n",
       "      cursor: pointer;\n",
       "      display: none;\n",
       "      fill: #1967D2;\n",
       "      height: 32px;\n",
       "      padding: 0 0 0 0;\n",
       "      width: 32px;\n",
       "    }\n",
       "\n",
       "    .colab-df-convert:hover {\n",
       "      background-color: #E2EBFA;\n",
       "      box-shadow: 0px 1px 2px rgba(60, 64, 67, 0.3), 0px 1px 3px 1px rgba(60, 64, 67, 0.15);\n",
       "      fill: #174EA6;\n",
       "    }\n",
       "\n",
       "    [theme=dark] .colab-df-convert {\n",
       "      background-color: #3B4455;\n",
       "      fill: #D2E3FC;\n",
       "    }\n",
       "\n",
       "    [theme=dark] .colab-df-convert:hover {\n",
       "      background-color: #434B5C;\n",
       "      box-shadow: 0px 1px 3px 1px rgba(0, 0, 0, 0.15);\n",
       "      filter: drop-shadow(0px 1px 2px rgba(0, 0, 0, 0.3));\n",
       "      fill: #FFFFFF;\n",
       "    }\n",
       "  </style>\n",
       "\n",
       "      <script>\n",
       "        const buttonEl =\n",
       "          document.querySelector('#df-c67c2f51-9d7c-45b2-a0d6-62a18684f156 button.colab-df-convert');\n",
       "        buttonEl.style.display =\n",
       "          google.colab.kernel.accessAllowed ? 'block' : 'none';\n",
       "\n",
       "        async function convertToInteractive(key) {\n",
       "          const element = document.querySelector('#df-c67c2f51-9d7c-45b2-a0d6-62a18684f156');\n",
       "          const dataTable =\n",
       "            await google.colab.kernel.invokeFunction('convertToInteractive',\n",
       "                                                     [key], {});\n",
       "          if (!dataTable) return;\n",
       "\n",
       "          const docLinkHtml = 'Like what you see? Visit the ' +\n",
       "            '<a target=\"_blank\" href=https://colab.research.google.com/notebooks/data_table.ipynb>data table notebook</a>'\n",
       "            + ' to learn more about interactive tables.';\n",
       "          element.innerHTML = '';\n",
       "          dataTable['output_type'] = 'display_data';\n",
       "          await google.colab.output.renderOutput(dataTable, element);\n",
       "          const docLink = document.createElement('div');\n",
       "          docLink.innerHTML = docLinkHtml;\n",
       "          element.appendChild(docLink);\n",
       "        }\n",
       "      </script>\n",
       "    </div>\n",
       "  </div>\n",
       "  "
      ],
      "text/plain": [
       "      Metric        RF\n",
       "0   Accuracy  0.886772\n",
       "1  Precision  0.883330\n",
       "2     Recall  0.884673\n",
       "3         F1  0.883099"
      ]
     },
     "execution_count": 349,
     "metadata": {},
     "output_type": "execute_result"
    }
   ],
   "source": [
    "y_pred = rf_model.predict(X_test)\n",
    "\n",
    "# Compute accuracy\n",
    "accuracy = accuracy_score(y_pred, y_test)\n",
    "\n",
    "# Compute the precision, recall, and F1 score\n",
    "precision, recall, f1, _ = precision_recall_fscore_support(y_test, y_pred, average='macro')\n",
    "\n",
    "# Create a data frame with the results\n",
    "results = pd.DataFrame({'Metric': ['Accuracy', 'Precision', 'Recall', 'F1'],\n",
    "                        'RF': [accuracy, precision, recall, f1]})\n",
    "\n",
    "results"
   ]
  },
  {
   "cell_type": "code",
   "execution_count": 350,
   "metadata": {
    "id": "A12PfZNtbK20"
   },
   "outputs": [],
   "source": [
    "result = result.join(results['RF'])"
   ]
  },
  {
   "cell_type": "code",
   "execution_count": null,
   "metadata": {
    "id": "WpVOAYEOBgC3"
   },
   "outputs": [],
   "source": [
    "# Test\n",
    "test_data = pd.read_csv(\"test-full.csv\", index_col='Id')\n",
    "X_submit = preprocess(test_data, comb_soil=True, scale=False, dim_red=False, chosen_features=chosen_features)\n",
    "y_pred = rf_model.predict(X_submit)"
   ]
  },
  {
   "cell_type": "code",
   "execution_count": null,
   "metadata": {
    "id": "_W2fZXWD81xb"
   },
   "outputs": [],
   "source": [
    "submission_df=pd.DataFrame(y_pred,columns=['Cover_Type'])\n",
    "submission_df.index += 1\n",
    "submission_df.index.names = ['Id']\n",
    "submission_df.to_csv('submission.csv', header=True)"
   ]
  },
  {
   "cell_type": "markdown",
   "metadata": {
    "id": "EIj5v95r_q4d"
   },
   "source": [
    "This model gave a 0.7944 on Kaggle"
   ]
  },
  {
   "cell_type": "markdown",
   "metadata": {
    "id": "ZpzpiscTALKD"
   },
   "source": [
    "## XGBoost"
   ]
  },
  {
   "cell_type": "code",
   "execution_count": 352,
   "metadata": {
    "id": "XK3q-jNhAOJP"
   },
   "outputs": [],
   "source": [
    "from xgboost import XGBClassifier"
   ]
  },
  {
   "cell_type": "code",
   "execution_count": 353,
   "metadata": {
    "id": "MSTOePPiAlv9"
   },
   "outputs": [],
   "source": [
    "y = df['Cover_Type'].values.flatten()\n",
    "X = df.drop('Cover_Type', axis=1)"
   ]
  },
  {
   "cell_type": "code",
   "execution_count": 354,
   "metadata": {
    "id": "di23QqyVAlv-"
   },
   "outputs": [],
   "source": [
    "# Cross_validation\n",
    "X_train, X_test, y_train, y_test = train_test_split(X, y, random_state=0)"
   ]
  },
  {
   "cell_type": "code",
   "execution_count": 355,
   "metadata": {
    "id": "mFPQGh8HAlv-"
   },
   "outputs": [],
   "source": [
    "X_train = preprocess(X_train, comb_soil=True, scale=False, dim_red=False, chosen_features=chosen_features)\n",
    "X_test = preprocess(X_test, comb_soil=True, scale=False, dim_red=False, chosen_features=chosen_features)"
   ]
  },
  {
   "cell_type": "code",
   "execution_count": 356,
   "metadata": {
    "id": "Io3tISSGBJQw"
   },
   "outputs": [],
   "source": [
    "XGB = XGBClassifier()"
   ]
  },
  {
   "cell_type": "code",
   "execution_count": 357,
   "metadata": {
    "colab": {
     "base_uri": "https://localhost:8080/"
    },
    "id": "NHzsDXLKBO_a",
    "outputId": "9de98eab-4371-419d-ca1e-fb81ded54da7"
   },
   "outputs": [
    {
     "data": {
      "text/plain": [
       "XGBClassifier(objective='multi:softprob')"
      ]
     },
     "execution_count": 357,
     "metadata": {},
     "output_type": "execute_result"
    }
   ],
   "source": [
    "XGB.fit(X_train, y_train)"
   ]
  },
  {
   "cell_type": "code",
   "execution_count": 358,
   "metadata": {
    "colab": {
     "base_uri": "https://localhost:8080/",
     "height": 175
    },
    "id": "HO3SMBE-cgiu",
    "outputId": "327f4294-b77e-4147-cd4d-d9e865e9f809"
   },
   "outputs": [
    {
     "data": {
      "text/html": [
       "\n",
       "  <div id=\"df-d29bb396-3b3f-4875-9c5d-69dc61a55a0f\">\n",
       "    <div class=\"colab-df-container\">\n",
       "      <div>\n",
       "<style scoped>\n",
       "    .dataframe tbody tr th:only-of-type {\n",
       "        vertical-align: middle;\n",
       "    }\n",
       "\n",
       "    .dataframe tbody tr th {\n",
       "        vertical-align: top;\n",
       "    }\n",
       "\n",
       "    .dataframe thead th {\n",
       "        text-align: right;\n",
       "    }\n",
       "</style>\n",
       "<table border=\"1\" class=\"dataframe\">\n",
       "  <thead>\n",
       "    <tr style=\"text-align: right;\">\n",
       "      <th></th>\n",
       "      <th>Metric</th>\n",
       "      <th>XGB</th>\n",
       "    </tr>\n",
       "  </thead>\n",
       "  <tbody>\n",
       "    <tr>\n",
       "      <th>0</th>\n",
       "      <td>Accuracy</td>\n",
       "      <td>0.783598</td>\n",
       "    </tr>\n",
       "    <tr>\n",
       "      <th>1</th>\n",
       "      <td>Precision</td>\n",
       "      <td>0.779551</td>\n",
       "    </tr>\n",
       "    <tr>\n",
       "      <th>2</th>\n",
       "      <td>Recall</td>\n",
       "      <td>0.781224</td>\n",
       "    </tr>\n",
       "    <tr>\n",
       "      <th>3</th>\n",
       "      <td>F1</td>\n",
       "      <td>0.776395</td>\n",
       "    </tr>\n",
       "  </tbody>\n",
       "</table>\n",
       "</div>\n",
       "      <button class=\"colab-df-convert\" onclick=\"convertToInteractive('df-d29bb396-3b3f-4875-9c5d-69dc61a55a0f')\"\n",
       "              title=\"Convert this dataframe to an interactive table.\"\n",
       "              style=\"display:none;\">\n",
       "        \n",
       "  <svg xmlns=\"http://www.w3.org/2000/svg\" height=\"24px\"viewBox=\"0 0 24 24\"\n",
       "       width=\"24px\">\n",
       "    <path d=\"M0 0h24v24H0V0z\" fill=\"none\"/>\n",
       "    <path d=\"M18.56 5.44l.94 2.06.94-2.06 2.06-.94-2.06-.94-.94-2.06-.94 2.06-2.06.94zm-11 1L8.5 8.5l.94-2.06 2.06-.94-2.06-.94L8.5 2.5l-.94 2.06-2.06.94zm10 10l.94 2.06.94-2.06 2.06-.94-2.06-.94-.94-2.06-.94 2.06-2.06.94z\"/><path d=\"M17.41 7.96l-1.37-1.37c-.4-.4-.92-.59-1.43-.59-.52 0-1.04.2-1.43.59L10.3 9.45l-7.72 7.72c-.78.78-.78 2.05 0 2.83L4 21.41c.39.39.9.59 1.41.59.51 0 1.02-.2 1.41-.59l7.78-7.78 2.81-2.81c.8-.78.8-2.07 0-2.86zM5.41 20L4 18.59l7.72-7.72 1.47 1.35L5.41 20z\"/>\n",
       "  </svg>\n",
       "      </button>\n",
       "      \n",
       "  <style>\n",
       "    .colab-df-container {\n",
       "      display:flex;\n",
       "      flex-wrap:wrap;\n",
       "      gap: 12px;\n",
       "    }\n",
       "\n",
       "    .colab-df-convert {\n",
       "      background-color: #E8F0FE;\n",
       "      border: none;\n",
       "      border-radius: 50%;\n",
       "      cursor: pointer;\n",
       "      display: none;\n",
       "      fill: #1967D2;\n",
       "      height: 32px;\n",
       "      padding: 0 0 0 0;\n",
       "      width: 32px;\n",
       "    }\n",
       "\n",
       "    .colab-df-convert:hover {\n",
       "      background-color: #E2EBFA;\n",
       "      box-shadow: 0px 1px 2px rgba(60, 64, 67, 0.3), 0px 1px 3px 1px rgba(60, 64, 67, 0.15);\n",
       "      fill: #174EA6;\n",
       "    }\n",
       "\n",
       "    [theme=dark] .colab-df-convert {\n",
       "      background-color: #3B4455;\n",
       "      fill: #D2E3FC;\n",
       "    }\n",
       "\n",
       "    [theme=dark] .colab-df-convert:hover {\n",
       "      background-color: #434B5C;\n",
       "      box-shadow: 0px 1px 3px 1px rgba(0, 0, 0, 0.15);\n",
       "      filter: drop-shadow(0px 1px 2px rgba(0, 0, 0, 0.3));\n",
       "      fill: #FFFFFF;\n",
       "    }\n",
       "  </style>\n",
       "\n",
       "      <script>\n",
       "        const buttonEl =\n",
       "          document.querySelector('#df-d29bb396-3b3f-4875-9c5d-69dc61a55a0f button.colab-df-convert');\n",
       "        buttonEl.style.display =\n",
       "          google.colab.kernel.accessAllowed ? 'block' : 'none';\n",
       "\n",
       "        async function convertToInteractive(key) {\n",
       "          const element = document.querySelector('#df-d29bb396-3b3f-4875-9c5d-69dc61a55a0f');\n",
       "          const dataTable =\n",
       "            await google.colab.kernel.invokeFunction('convertToInteractive',\n",
       "                                                     [key], {});\n",
       "          if (!dataTable) return;\n",
       "\n",
       "          const docLinkHtml = 'Like what you see? Visit the ' +\n",
       "            '<a target=\"_blank\" href=https://colab.research.google.com/notebooks/data_table.ipynb>data table notebook</a>'\n",
       "            + ' to learn more about interactive tables.';\n",
       "          element.innerHTML = '';\n",
       "          dataTable['output_type'] = 'display_data';\n",
       "          await google.colab.output.renderOutput(dataTable, element);\n",
       "          const docLink = document.createElement('div');\n",
       "          docLink.innerHTML = docLinkHtml;\n",
       "          element.appendChild(docLink);\n",
       "        }\n",
       "      </script>\n",
       "    </div>\n",
       "  </div>\n",
       "  "
      ],
      "text/plain": [
       "      Metric       XGB\n",
       "0   Accuracy  0.783598\n",
       "1  Precision  0.779551\n",
       "2     Recall  0.781224\n",
       "3         F1  0.776395"
      ]
     },
     "execution_count": 358,
     "metadata": {},
     "output_type": "execute_result"
    }
   ],
   "source": [
    "y_pred = XGB.predict(X_test)\n",
    "\n",
    "# Compute accuracy\n",
    "accuracy = accuracy_score(y_pred, y_test)\n",
    "\n",
    "# Compute the precision, recall, and F1 score\n",
    "precision, recall, f1, _ = precision_recall_fscore_support(y_test, y_pred, average='macro')\n",
    "\n",
    "# Create a data frame with the results\n",
    "results = pd.DataFrame({'Metric': ['Accuracy', 'Precision', 'Recall', 'F1'],\n",
    "                        'XGB': [accuracy, precision, recall, f1]})\n",
    "\n",
    "results"
   ]
  },
  {
   "cell_type": "code",
   "execution_count": 359,
   "metadata": {
    "id": "9oyWYdtDcgiv"
   },
   "outputs": [],
   "source": [
    "result = result.join(results['XGB'])"
   ]
  },
  {
   "cell_type": "code",
   "execution_count": 156,
   "metadata": {
    "colab": {
     "base_uri": "https://localhost:8080/",
     "height": 0
    },
    "id": "cK5P-wmZBXSX",
    "outputId": "6cfe9911-01db-49ed-adf6-58966035ff42"
   },
   "outputs": [
    {
     "data": {
      "text/plain": [
       "0.7835978835978836"
      ]
     },
     "execution_count": 156,
     "metadata": {},
     "output_type": "execute_result"
    }
   ],
   "source": [
    "# cross_validation accuracy\n",
    "\n",
    "accuracy_score(XGB.predict(X_test), y_test)"
   ]
  },
  {
   "cell_type": "code",
   "execution_count": null,
   "metadata": {
    "id": "pin0wAIBBoEi"
   },
   "outputs": [],
   "source": [
    "# Test\n",
    "test_data = pd.read_csv(\"test-full.csv\", index_col='Id')\n",
    "X_submit = preprocess(test_data, comb_soil=True, scale=False, dim_red=False, chosen_features=chosen_features)\n",
    "y_pred = etc_model.predict(X_submit)"
   ]
  },
  {
   "cell_type": "code",
   "execution_count": null,
   "metadata": {
    "id": "BKM7mcRyBXSY"
   },
   "outputs": [],
   "source": [
    "submission_df=pd.DataFrame(y_pred,columns=['Cover_Type'])\n",
    "submission_df.index += 1\n",
    "submission_df.index.names = ['Id']\n",
    "submission_df.to_csv('submission.csv', header=True)"
   ]
  },
  {
   "cell_type": "markdown",
   "metadata": {
    "id": "NlmcwuIxBviN"
   },
   "source": [
    "It gave a score of 0.75 on Kaggle"
   ]
  },
  {
   "cell_type": "markdown",
   "metadata": {
    "id": "nEdc6aS_yhbU"
   },
   "source": [
    "## SVM"
   ]
  },
  {
   "cell_type": "code",
   "execution_count": 360,
   "metadata": {
    "id": "syXXfaB8yjAX"
   },
   "outputs": [],
   "source": [
    "from sklearn.svm import SVC\n",
    "from sklearn.metrics import accuracy_score"
   ]
  },
  {
   "cell_type": "code",
   "execution_count": 361,
   "metadata": {
    "id": "TJEs2NEZCpRe"
   },
   "outputs": [],
   "source": [
    "y = df['Cover_Type'].values.flatten()\n",
    "X = df.drop('Cover_Type', axis=1)"
   ]
  },
  {
   "cell_type": "code",
   "execution_count": 362,
   "metadata": {
    "id": "vKdRsQEVCpRf"
   },
   "outputs": [],
   "source": [
    "# Cross_validation\n",
    "X_train, X_test, y_train, y_test = train_test_split(X, y, random_state=0)"
   ]
  },
  {
   "cell_type": "code",
   "execution_count": 363,
   "metadata": {
    "id": "6Hh6HWYpCpRf"
   },
   "outputs": [],
   "source": [
    "X_train = preprocess(X_train, comb_soil=False, scale=False, dim_red=False, chosen_features=chosen_features_1)\n",
    "X_test = preprocess(X_test, comb_soil=False, scale=False, dim_red=False, chosen_features=chosen_features_1)"
   ]
  },
  {
   "cell_type": "code",
   "execution_count": 364,
   "metadata": {
    "id": "Ue9UHXP5IRmZ"
   },
   "outputs": [],
   "source": [
    "ref = X_train.copy()"
   ]
  },
  {
   "cell_type": "code",
   "execution_count": 365,
   "metadata": {
    "colab": {
     "base_uri": "https://localhost:8080/"
    },
    "id": "hY9OBzLfFssG",
    "outputId": "db39bd1e-1f72-46c4-d706-f5e437e62dfc"
   },
   "outputs": [
    {
     "name": "stderr",
     "output_type": "stream",
     "text": [
      "/usr/local/lib/python3.8/dist-packages/sklearn/base.py:450: UserWarning: X does not have valid feature names, but StandardScaler was fitted with feature names\n",
      "  warnings.warn(\n",
      "/usr/local/lib/python3.8/dist-packages/sklearn/base.py:450: UserWarning: X does not have valid feature names, but StandardScaler was fitted with feature names\n",
      "  warnings.warn(\n"
     ]
    }
   ],
   "source": [
    "X_test = scale(X_test, ref)\n",
    "X_train = scale(X_train, ref)"
   ]
  },
  {
   "cell_type": "code",
   "execution_count": 366,
   "metadata": {
    "colab": {
     "base_uri": "https://localhost:8080/"
    },
    "id": "Vvwma4O7z0h-",
    "outputId": "f49d95f4-0c32-4fb5-a271-cbb943c79e0b"
   },
   "outputs": [
    {
     "data": {
      "text/plain": [
       "SVC(random_state=42)"
      ]
     },
     "execution_count": 366,
     "metadata": {},
     "output_type": "execute_result"
    }
   ],
   "source": [
    "# Build the model\n",
    "svm_model = SVC(kernel='rbf', C=1.0, random_state=42)\n",
    "\n",
    "# Train the model on the training set\n",
    "svm_model.fit(X_train, y_train)"
   ]
  },
  {
   "cell_type": "code",
   "execution_count": 257,
   "metadata": {
    "colab": {
     "base_uri": "https://localhost:8080/",
     "height": 0
    },
    "id": "PpWzbMeLFsVd",
    "outputId": "491bfa50-dd4f-4351-b00f-f48fb5974bd9"
   },
   "outputs": [
    {
     "data": {
      "text/plain": [
       "0.8042328042328042"
      ]
     },
     "execution_count": 257,
     "metadata": {},
     "output_type": "execute_result"
    }
   ],
   "source": [
    "accuracy_score(svm_model.predict(X_test), y_test)"
   ]
  },
  {
   "cell_type": "code",
   "execution_count": 367,
   "metadata": {
    "colab": {
     "base_uri": "https://localhost:8080/",
     "height": 175
    },
    "id": "QUT7NIXecu5h",
    "outputId": "f26afb7f-18bb-4e2c-847a-94c45885947e"
   },
   "outputs": [
    {
     "data": {
      "text/html": [
       "\n",
       "  <div id=\"df-efe9a264-cd98-40b3-843a-043965901fc0\">\n",
       "    <div class=\"colab-df-container\">\n",
       "      <div>\n",
       "<style scoped>\n",
       "    .dataframe tbody tr th:only-of-type {\n",
       "        vertical-align: middle;\n",
       "    }\n",
       "\n",
       "    .dataframe tbody tr th {\n",
       "        vertical-align: top;\n",
       "    }\n",
       "\n",
       "    .dataframe thead th {\n",
       "        text-align: right;\n",
       "    }\n",
       "</style>\n",
       "<table border=\"1\" class=\"dataframe\">\n",
       "  <thead>\n",
       "    <tr style=\"text-align: right;\">\n",
       "      <th></th>\n",
       "      <th>Metric</th>\n",
       "      <th>SVM</th>\n",
       "    </tr>\n",
       "  </thead>\n",
       "  <tbody>\n",
       "    <tr>\n",
       "      <th>0</th>\n",
       "      <td>Accuracy</td>\n",
       "      <td>0.804233</td>\n",
       "    </tr>\n",
       "    <tr>\n",
       "      <th>1</th>\n",
       "      <td>Precision</td>\n",
       "      <td>0.800973</td>\n",
       "    </tr>\n",
       "    <tr>\n",
       "      <th>2</th>\n",
       "      <td>Recall</td>\n",
       "      <td>0.802109</td>\n",
       "    </tr>\n",
       "    <tr>\n",
       "      <th>3</th>\n",
       "      <td>F1</td>\n",
       "      <td>0.800253</td>\n",
       "    </tr>\n",
       "  </tbody>\n",
       "</table>\n",
       "</div>\n",
       "      <button class=\"colab-df-convert\" onclick=\"convertToInteractive('df-efe9a264-cd98-40b3-843a-043965901fc0')\"\n",
       "              title=\"Convert this dataframe to an interactive table.\"\n",
       "              style=\"display:none;\">\n",
       "        \n",
       "  <svg xmlns=\"http://www.w3.org/2000/svg\" height=\"24px\"viewBox=\"0 0 24 24\"\n",
       "       width=\"24px\">\n",
       "    <path d=\"M0 0h24v24H0V0z\" fill=\"none\"/>\n",
       "    <path d=\"M18.56 5.44l.94 2.06.94-2.06 2.06-.94-2.06-.94-.94-2.06-.94 2.06-2.06.94zm-11 1L8.5 8.5l.94-2.06 2.06-.94-2.06-.94L8.5 2.5l-.94 2.06-2.06.94zm10 10l.94 2.06.94-2.06 2.06-.94-2.06-.94-.94-2.06-.94 2.06-2.06.94z\"/><path d=\"M17.41 7.96l-1.37-1.37c-.4-.4-.92-.59-1.43-.59-.52 0-1.04.2-1.43.59L10.3 9.45l-7.72 7.72c-.78.78-.78 2.05 0 2.83L4 21.41c.39.39.9.59 1.41.59.51 0 1.02-.2 1.41-.59l7.78-7.78 2.81-2.81c.8-.78.8-2.07 0-2.86zM5.41 20L4 18.59l7.72-7.72 1.47 1.35L5.41 20z\"/>\n",
       "  </svg>\n",
       "      </button>\n",
       "      \n",
       "  <style>\n",
       "    .colab-df-container {\n",
       "      display:flex;\n",
       "      flex-wrap:wrap;\n",
       "      gap: 12px;\n",
       "    }\n",
       "\n",
       "    .colab-df-convert {\n",
       "      background-color: #E8F0FE;\n",
       "      border: none;\n",
       "      border-radius: 50%;\n",
       "      cursor: pointer;\n",
       "      display: none;\n",
       "      fill: #1967D2;\n",
       "      height: 32px;\n",
       "      padding: 0 0 0 0;\n",
       "      width: 32px;\n",
       "    }\n",
       "\n",
       "    .colab-df-convert:hover {\n",
       "      background-color: #E2EBFA;\n",
       "      box-shadow: 0px 1px 2px rgba(60, 64, 67, 0.3), 0px 1px 3px 1px rgba(60, 64, 67, 0.15);\n",
       "      fill: #174EA6;\n",
       "    }\n",
       "\n",
       "    [theme=dark] .colab-df-convert {\n",
       "      background-color: #3B4455;\n",
       "      fill: #D2E3FC;\n",
       "    }\n",
       "\n",
       "    [theme=dark] .colab-df-convert:hover {\n",
       "      background-color: #434B5C;\n",
       "      box-shadow: 0px 1px 3px 1px rgba(0, 0, 0, 0.15);\n",
       "      filter: drop-shadow(0px 1px 2px rgba(0, 0, 0, 0.3));\n",
       "      fill: #FFFFFF;\n",
       "    }\n",
       "  </style>\n",
       "\n",
       "      <script>\n",
       "        const buttonEl =\n",
       "          document.querySelector('#df-efe9a264-cd98-40b3-843a-043965901fc0 button.colab-df-convert');\n",
       "        buttonEl.style.display =\n",
       "          google.colab.kernel.accessAllowed ? 'block' : 'none';\n",
       "\n",
       "        async function convertToInteractive(key) {\n",
       "          const element = document.querySelector('#df-efe9a264-cd98-40b3-843a-043965901fc0');\n",
       "          const dataTable =\n",
       "            await google.colab.kernel.invokeFunction('convertToInteractive',\n",
       "                                                     [key], {});\n",
       "          if (!dataTable) return;\n",
       "\n",
       "          const docLinkHtml = 'Like what you see? Visit the ' +\n",
       "            '<a target=\"_blank\" href=https://colab.research.google.com/notebooks/data_table.ipynb>data table notebook</a>'\n",
       "            + ' to learn more about interactive tables.';\n",
       "          element.innerHTML = '';\n",
       "          dataTable['output_type'] = 'display_data';\n",
       "          await google.colab.output.renderOutput(dataTable, element);\n",
       "          const docLink = document.createElement('div');\n",
       "          docLink.innerHTML = docLinkHtml;\n",
       "          element.appendChild(docLink);\n",
       "        }\n",
       "      </script>\n",
       "    </div>\n",
       "  </div>\n",
       "  "
      ],
      "text/plain": [
       "      Metric       SVM\n",
       "0   Accuracy  0.804233\n",
       "1  Precision  0.800973\n",
       "2     Recall  0.802109\n",
       "3         F1  0.800253"
      ]
     },
     "execution_count": 367,
     "metadata": {},
     "output_type": "execute_result"
    }
   ],
   "source": [
    "y_pred = svm_model.predict(X_test)\n",
    "\n",
    "# Compute accuracy\n",
    "accuracy = accuracy_score(y_pred, y_test)\n",
    "\n",
    "# Compute the precision, recall, and F1 score\n",
    "precision, recall, f1, _ = precision_recall_fscore_support(y_test, y_pred, average='macro')\n",
    "\n",
    "# Create a data frame with the results\n",
    "results = pd.DataFrame({'Metric': ['Accuracy', 'Precision', 'Recall', 'F1'],\n",
    "                        'SVM': [accuracy, precision, recall, f1]})\n",
    "\n",
    "results"
   ]
  },
  {
   "cell_type": "code",
   "execution_count": 368,
   "metadata": {
    "id": "_oBO9v5wcu5j"
   },
   "outputs": [],
   "source": [
    "result = result.join(results['SVM'])"
   ]
  },
  {
   "cell_type": "code",
   "execution_count": 273,
   "metadata": {
    "colab": {
     "base_uri": "https://localhost:8080/",
     "height": 0
    },
    "id": "5jhf0wcdF5xy",
    "outputId": "57772086-e6ef-4488-e3e9-d49ac2e1ef38"
   },
   "outputs": [
    {
     "name": "stderr",
     "output_type": "stream",
     "text": [
      "/usr/local/lib/python3.8/dist-packages/sklearn/base.py:450: UserWarning: X does not have valid feature names, but StandardScaler was fitted with feature names\n",
      "  warnings.warn(\n",
      "/usr/local/lib/python3.8/dist-packages/sklearn/base.py:443: UserWarning: X has feature names, but SVC was fitted without feature names\n",
      "  warnings.warn(\n"
     ]
    }
   ],
   "source": [
    "# Test\n",
    "test_data = pd.read_csv(\"test-full.csv\", index_col='Id')\n",
    "X_submit = preprocess(test_data, comb_soil=False, scale=False, dim_red=False, chosen_features=chosen_features_1)\n",
    "X_test = scale(X_submit, ref)\n",
    "y_pred = svm_model.predict(X_submit)"
   ]
  },
  {
   "cell_type": "code",
   "execution_count": null,
   "metadata": {
    "id": "aY_HJGPCF5xy"
   },
   "outputs": [],
   "source": [
    "submission_df=pd.DataFrame(y_pred,columns=['Cover_Type'])\n",
    "submission_df.index += 1\n",
    "submission_df.index.names = ['Id']\n",
    "submission_df.to_csv('submission.csv', header=True)"
   ]
  },
  {
   "cell_type": "markdown",
   "metadata": {
    "id": "jCnsifzTIj5X"
   },
   "source": [
    "It gave 0.72 on Kaggle"
   ]
  },
  {
   "cell_type": "markdown",
   "metadata": {
    "id": "Qf5mW5awo5Si"
   },
   "source": [
    "## Logistic regression"
   ]
  },
  {
   "cell_type": "code",
   "execution_count": 370,
   "metadata": {
    "id": "_cf6yV4AvS3p"
   },
   "outputs": [],
   "source": [
    "from sklearn.linear_model import LogisticRegression\n",
    "from sklearn.metrics import accuracy_score"
   ]
  },
  {
   "cell_type": "code",
   "execution_count": 371,
   "metadata": {
    "id": "3c6cNq1sI9t-"
   },
   "outputs": [],
   "source": [
    "y = df['Cover_Type'].values.flatten()\n",
    "X = df.drop('Cover_Type', axis=1)"
   ]
  },
  {
   "cell_type": "code",
   "execution_count": 372,
   "metadata": {
    "id": "TyEuxQsRI9t_"
   },
   "outputs": [],
   "source": [
    "# Cross_validation\n",
    "X_train, X_test, y_train, y_test = train_test_split(X, y, random_state=0)"
   ]
  },
  {
   "cell_type": "code",
   "execution_count": 373,
   "metadata": {
    "id": "Psv9I8PrI9t_"
   },
   "outputs": [],
   "source": [
    "X_train = preprocess(X_train, comb_soil=False, scale=False, dim_red=False, chosen_features=chosen_features_1)\n",
    "X_test = preprocess(X_test, comb_soil=False, scale=False, dim_red=False, chosen_features=chosen_features_1)"
   ]
  },
  {
   "cell_type": "code",
   "execution_count": 374,
   "metadata": {
    "id": "f2KPqYLyI9t_"
   },
   "outputs": [],
   "source": [
    "ref = X_train.copy()"
   ]
  },
  {
   "cell_type": "code",
   "execution_count": 375,
   "metadata": {
    "colab": {
     "base_uri": "https://localhost:8080/"
    },
    "id": "CA4mVllFI9t_",
    "outputId": "4ef863a1-45e2-4040-d618-0f44aa4f7599"
   },
   "outputs": [
    {
     "name": "stderr",
     "output_type": "stream",
     "text": [
      "/usr/local/lib/python3.8/dist-packages/sklearn/base.py:450: UserWarning: X does not have valid feature names, but StandardScaler was fitted with feature names\n",
      "  warnings.warn(\n",
      "/usr/local/lib/python3.8/dist-packages/sklearn/base.py:450: UserWarning: X does not have valid feature names, but StandardScaler was fitted with feature names\n",
      "  warnings.warn(\n"
     ]
    }
   ],
   "source": [
    "X_test = scale(X_test, ref)\n",
    "X_train = scale(X_train, ref)"
   ]
  },
  {
   "cell_type": "code",
   "execution_count": 376,
   "metadata": {
    "colab": {
     "base_uri": "https://localhost:8080/"
    },
    "id": "qIgyWvl5vV99",
    "outputId": "dc6e26cf-0d56-435e-9ffe-cc850bb45855"
   },
   "outputs": [
    {
     "name": "stderr",
     "output_type": "stream",
     "text": [
      "/usr/local/lib/python3.8/dist-packages/sklearn/linear_model/_logistic.py:814: ConvergenceWarning: lbfgs failed to converge (status=1):\n",
      "STOP: TOTAL NO. of ITERATIONS REACHED LIMIT.\n",
      "\n",
      "Increase the number of iterations (max_iter) or scale the data as shown in:\n",
      "    https://scikit-learn.org/stable/modules/preprocessing.html\n",
      "Please also refer to the documentation for alternative solver options:\n",
      "    https://scikit-learn.org/stable/modules/linear_model.html#logistic-regression\n",
      "  n_iter_i = _check_optimize_result(\n"
     ]
    },
    {
     "data": {
      "text/plain": [
       "LogisticRegression(random_state=42)"
      ]
     },
     "execution_count": 376,
     "metadata": {},
     "output_type": "execute_result"
    }
   ],
   "source": [
    "log_model = LogisticRegression(random_state = 42)\n",
    "log_model.fit(X_train, y_train)"
   ]
  },
  {
   "cell_type": "code",
   "execution_count": 281,
   "metadata": {
    "colab": {
     "base_uri": "https://localhost:8080/",
     "height": 0
    },
    "id": "sIT4ZL3AHAaJ",
    "outputId": "a0a43e3b-3607-4627-89df-e6934c1016f7"
   },
   "outputs": [
    {
     "data": {
      "text/plain": [
       "0.7166666666666667"
      ]
     },
     "execution_count": 281,
     "metadata": {},
     "output_type": "execute_result"
    }
   ],
   "source": [
    "accuracy_score(log_model.predict(X_test), y_test)"
   ]
  },
  {
   "cell_type": "code",
   "execution_count": 377,
   "metadata": {
    "colab": {
     "base_uri": "https://localhost:8080/",
     "height": 175
    },
    "id": "Z9BlHc7NdBIH",
    "outputId": "e15d1ba5-7171-4ec5-ada4-3e3f9c19c7fd"
   },
   "outputs": [
    {
     "data": {
      "text/html": [
       "\n",
       "  <div id=\"df-84e88558-7fde-4de4-8677-9fbe9ee0bf89\">\n",
       "    <div class=\"colab-df-container\">\n",
       "      <div>\n",
       "<style scoped>\n",
       "    .dataframe tbody tr th:only-of-type {\n",
       "        vertical-align: middle;\n",
       "    }\n",
       "\n",
       "    .dataframe tbody tr th {\n",
       "        vertical-align: top;\n",
       "    }\n",
       "\n",
       "    .dataframe thead th {\n",
       "        text-align: right;\n",
       "    }\n",
       "</style>\n",
       "<table border=\"1\" class=\"dataframe\">\n",
       "  <thead>\n",
       "    <tr style=\"text-align: right;\">\n",
       "      <th></th>\n",
       "      <th>Metric</th>\n",
       "      <th>Log</th>\n",
       "    </tr>\n",
       "  </thead>\n",
       "  <tbody>\n",
       "    <tr>\n",
       "      <th>0</th>\n",
       "      <td>Accuracy</td>\n",
       "      <td>0.716667</td>\n",
       "    </tr>\n",
       "    <tr>\n",
       "      <th>1</th>\n",
       "      <td>Precision</td>\n",
       "      <td>0.712485</td>\n",
       "    </tr>\n",
       "    <tr>\n",
       "      <th>2</th>\n",
       "      <td>Recall</td>\n",
       "      <td>0.714586</td>\n",
       "    </tr>\n",
       "    <tr>\n",
       "      <th>3</th>\n",
       "      <td>F1</td>\n",
       "      <td>0.712545</td>\n",
       "    </tr>\n",
       "  </tbody>\n",
       "</table>\n",
       "</div>\n",
       "      <button class=\"colab-df-convert\" onclick=\"convertToInteractive('df-84e88558-7fde-4de4-8677-9fbe9ee0bf89')\"\n",
       "              title=\"Convert this dataframe to an interactive table.\"\n",
       "              style=\"display:none;\">\n",
       "        \n",
       "  <svg xmlns=\"http://www.w3.org/2000/svg\" height=\"24px\"viewBox=\"0 0 24 24\"\n",
       "       width=\"24px\">\n",
       "    <path d=\"M0 0h24v24H0V0z\" fill=\"none\"/>\n",
       "    <path d=\"M18.56 5.44l.94 2.06.94-2.06 2.06-.94-2.06-.94-.94-2.06-.94 2.06-2.06.94zm-11 1L8.5 8.5l.94-2.06 2.06-.94-2.06-.94L8.5 2.5l-.94 2.06-2.06.94zm10 10l.94 2.06.94-2.06 2.06-.94-2.06-.94-.94-2.06-.94 2.06-2.06.94z\"/><path d=\"M17.41 7.96l-1.37-1.37c-.4-.4-.92-.59-1.43-.59-.52 0-1.04.2-1.43.59L10.3 9.45l-7.72 7.72c-.78.78-.78 2.05 0 2.83L4 21.41c.39.39.9.59 1.41.59.51 0 1.02-.2 1.41-.59l7.78-7.78 2.81-2.81c.8-.78.8-2.07 0-2.86zM5.41 20L4 18.59l7.72-7.72 1.47 1.35L5.41 20z\"/>\n",
       "  </svg>\n",
       "      </button>\n",
       "      \n",
       "  <style>\n",
       "    .colab-df-container {\n",
       "      display:flex;\n",
       "      flex-wrap:wrap;\n",
       "      gap: 12px;\n",
       "    }\n",
       "\n",
       "    .colab-df-convert {\n",
       "      background-color: #E8F0FE;\n",
       "      border: none;\n",
       "      border-radius: 50%;\n",
       "      cursor: pointer;\n",
       "      display: none;\n",
       "      fill: #1967D2;\n",
       "      height: 32px;\n",
       "      padding: 0 0 0 0;\n",
       "      width: 32px;\n",
       "    }\n",
       "\n",
       "    .colab-df-convert:hover {\n",
       "      background-color: #E2EBFA;\n",
       "      box-shadow: 0px 1px 2px rgba(60, 64, 67, 0.3), 0px 1px 3px 1px rgba(60, 64, 67, 0.15);\n",
       "      fill: #174EA6;\n",
       "    }\n",
       "\n",
       "    [theme=dark] .colab-df-convert {\n",
       "      background-color: #3B4455;\n",
       "      fill: #D2E3FC;\n",
       "    }\n",
       "\n",
       "    [theme=dark] .colab-df-convert:hover {\n",
       "      background-color: #434B5C;\n",
       "      box-shadow: 0px 1px 3px 1px rgba(0, 0, 0, 0.15);\n",
       "      filter: drop-shadow(0px 1px 2px rgba(0, 0, 0, 0.3));\n",
       "      fill: #FFFFFF;\n",
       "    }\n",
       "  </style>\n",
       "\n",
       "      <script>\n",
       "        const buttonEl =\n",
       "          document.querySelector('#df-84e88558-7fde-4de4-8677-9fbe9ee0bf89 button.colab-df-convert');\n",
       "        buttonEl.style.display =\n",
       "          google.colab.kernel.accessAllowed ? 'block' : 'none';\n",
       "\n",
       "        async function convertToInteractive(key) {\n",
       "          const element = document.querySelector('#df-84e88558-7fde-4de4-8677-9fbe9ee0bf89');\n",
       "          const dataTable =\n",
       "            await google.colab.kernel.invokeFunction('convertToInteractive',\n",
       "                                                     [key], {});\n",
       "          if (!dataTable) return;\n",
       "\n",
       "          const docLinkHtml = 'Like what you see? Visit the ' +\n",
       "            '<a target=\"_blank\" href=https://colab.research.google.com/notebooks/data_table.ipynb>data table notebook</a>'\n",
       "            + ' to learn more about interactive tables.';\n",
       "          element.innerHTML = '';\n",
       "          dataTable['output_type'] = 'display_data';\n",
       "          await google.colab.output.renderOutput(dataTable, element);\n",
       "          const docLink = document.createElement('div');\n",
       "          docLink.innerHTML = docLinkHtml;\n",
       "          element.appendChild(docLink);\n",
       "        }\n",
       "      </script>\n",
       "    </div>\n",
       "  </div>\n",
       "  "
      ],
      "text/plain": [
       "      Metric       Log\n",
       "0   Accuracy  0.716667\n",
       "1  Precision  0.712485\n",
       "2     Recall  0.714586\n",
       "3         F1  0.712545"
      ]
     },
     "execution_count": 377,
     "metadata": {},
     "output_type": "execute_result"
    }
   ],
   "source": [
    "y_pred = log_model.predict(X_test)\n",
    "\n",
    "# Compute accuracy\n",
    "accuracy = accuracy_score(y_pred, y_test)\n",
    "\n",
    "# Compute the precision, recall, and F1 score\n",
    "precision, recall, f1, _ = precision_recall_fscore_support(y_test, y_pred, average='macro')\n",
    "\n",
    "# Create a data frame with the results\n",
    "results = pd.DataFrame({'Metric': ['Accuracy', 'Precision', 'Recall', 'F1'],\n",
    "                        'Log': [accuracy, precision, recall, f1]})\n",
    "\n",
    "results"
   ]
  },
  {
   "cell_type": "code",
   "execution_count": 378,
   "metadata": {
    "id": "W_LMTcjcdBIJ"
   },
   "outputs": [],
   "source": [
    "result = result.join(results['Log'])"
   ]
  },
  {
   "cell_type": "code",
   "execution_count": null,
   "metadata": {
    "id": "rNQgLOkoHEkH"
   },
   "outputs": [],
   "source": [
    "# Test\n",
    "test_data = pd.read_csv(\"test-full.csv\", index_col='Id')\n",
    "X_submit = preprocess(test_data, comb_soil=False, scale=False, dim_red=False, chosen_features=chosen_features_1)\n",
    "X_submit = scale(X_submit, ref)\n",
    "y_pred = log_model.predict(X_submit)"
   ]
  },
  {
   "cell_type": "code",
   "execution_count": null,
   "metadata": {
    "id": "0AcTaHOTHEkI"
   },
   "outputs": [],
   "source": [
    "submission_df=pd.DataFrame(y_pred,columns=['Cover_Type'])\n",
    "submission_df.index += 1\n",
    "submission_df.index.names = ['Id']\n",
    "submission_df.to_csv('submission.csv', header=True)"
   ]
  },
  {
   "cell_type": "markdown",
   "metadata": {
    "id": "bVkMWYfyJJRa"
   },
   "source": [
    "0.64 on Kaggle"
   ]
  },
  {
   "cell_type": "markdown",
   "metadata": {
    "id": "ecV9bU2oIvRL"
   },
   "source": [
    "## KNN"
   ]
  },
  {
   "cell_type": "code",
   "execution_count": 379,
   "metadata": {
    "id": "PVj2Z4znIvRN"
   },
   "outputs": [],
   "source": [
    "from sklearn.neighbors import KNeighborsClassifier\n",
    "from sklearn.metrics import accuracy_score"
   ]
  },
  {
   "cell_type": "code",
   "execution_count": 416,
   "metadata": {
    "id": "mpLW4TwrJVh1"
   },
   "outputs": [],
   "source": [
    "y = df['Cover_Type'].values.flatten()\n",
    "X = df.drop('Cover_Type', axis=1)"
   ]
  },
  {
   "cell_type": "code",
   "execution_count": 417,
   "metadata": {
    "id": "Z00pAqjHJVh1"
   },
   "outputs": [],
   "source": [
    "# Cross_validation\n",
    "X_train, X_test, y_train, y_test = train_test_split(X, y, random_state=0)"
   ]
  },
  {
   "cell_type": "code",
   "execution_count": 382,
   "metadata": {
    "id": "7rNGbjZwJVh2"
   },
   "outputs": [],
   "source": [
    "X_train = preprocess(X_train, comb_soil=False, scale=False, dim_red=False, chosen_features=chosen_features_1)\n",
    "X_test = preprocess(X_test, comb_soil=False, scale=False, dim_red=False, chosen_features=chosen_features_1)"
   ]
  },
  {
   "cell_type": "code",
   "execution_count": 383,
   "metadata": {
    "id": "7r5hHUn-JVh2"
   },
   "outputs": [],
   "source": [
    "ref = X_train.copy()"
   ]
  },
  {
   "cell_type": "code",
   "execution_count": 384,
   "metadata": {
    "colab": {
     "base_uri": "https://localhost:8080/"
    },
    "id": "iSwhrNnaJVh2",
    "outputId": "31b79568-e492-4095-b79d-3d78b2b1f078"
   },
   "outputs": [
    {
     "name": "stderr",
     "output_type": "stream",
     "text": [
      "/usr/local/lib/python3.8/dist-packages/sklearn/base.py:450: UserWarning: X does not have valid feature names, but StandardScaler was fitted with feature names\n",
      "  warnings.warn(\n",
      "/usr/local/lib/python3.8/dist-packages/sklearn/base.py:450: UserWarning: X does not have valid feature names, but StandardScaler was fitted with feature names\n",
      "  warnings.warn(\n"
     ]
    }
   ],
   "source": [
    "X_test = scale(X_test, ref)\n",
    "X_train = scale(X_train, ref)"
   ]
  },
  {
   "cell_type": "code",
   "execution_count": 385,
   "metadata": {
    "colab": {
     "base_uri": "https://localhost:8080/"
    },
    "id": "rKyf5YXdIvRN",
    "outputId": "5b576b87-8163-43c0-c603-952f106db951"
   },
   "outputs": [
    {
     "data": {
      "text/plain": [
       "KNeighborsClassifier(n_jobs=-1, weights='distance')"
      ]
     },
     "execution_count": 385,
     "metadata": {},
     "output_type": "execute_result"
    }
   ],
   "source": [
    "knn_model = KNeighborsClassifier(weights='distance', n_jobs=-1)\n",
    "knn_model.fit(X_train, y_train)"
   ]
  },
  {
   "cell_type": "code",
   "execution_count": 289,
   "metadata": {
    "colab": {
     "base_uri": "https://localhost:8080/",
     "height": 0
    },
    "id": "0C96vvd7IvRO",
    "outputId": "d8445561-8b2c-47df-c509-23b17968872d"
   },
   "outputs": [
    {
     "data": {
      "text/plain": [
       "0.8465608465608465"
      ]
     },
     "execution_count": 289,
     "metadata": {},
     "output_type": "execute_result"
    }
   ],
   "source": [
    "accuracy_score(knn_model.predict(X_test), y_test)"
   ]
  },
  {
   "cell_type": "code",
   "execution_count": 386,
   "metadata": {
    "colab": {
     "base_uri": "https://localhost:8080/",
     "height": 175
    },
    "id": "Szvz2wA4dIkm",
    "outputId": "f4a6df55-e912-42b0-cda6-463ffd24f244"
   },
   "outputs": [
    {
     "data": {
      "text/html": [
       "\n",
       "  <div id=\"df-732acac2-48d9-4274-8adc-6bbd41be2673\">\n",
       "    <div class=\"colab-df-container\">\n",
       "      <div>\n",
       "<style scoped>\n",
       "    .dataframe tbody tr th:only-of-type {\n",
       "        vertical-align: middle;\n",
       "    }\n",
       "\n",
       "    .dataframe tbody tr th {\n",
       "        vertical-align: top;\n",
       "    }\n",
       "\n",
       "    .dataframe thead th {\n",
       "        text-align: right;\n",
       "    }\n",
       "</style>\n",
       "<table border=\"1\" class=\"dataframe\">\n",
       "  <thead>\n",
       "    <tr style=\"text-align: right;\">\n",
       "      <th></th>\n",
       "      <th>Metric</th>\n",
       "      <th>KNN</th>\n",
       "    </tr>\n",
       "  </thead>\n",
       "  <tbody>\n",
       "    <tr>\n",
       "      <th>0</th>\n",
       "      <td>Accuracy</td>\n",
       "      <td>0.846561</td>\n",
       "    </tr>\n",
       "    <tr>\n",
       "      <th>1</th>\n",
       "      <td>Precision</td>\n",
       "      <td>0.842851</td>\n",
       "    </tr>\n",
       "    <tr>\n",
       "      <th>2</th>\n",
       "      <td>Recall</td>\n",
       "      <td>0.843766</td>\n",
       "    </tr>\n",
       "    <tr>\n",
       "      <th>3</th>\n",
       "      <td>F1</td>\n",
       "      <td>0.841256</td>\n",
       "    </tr>\n",
       "  </tbody>\n",
       "</table>\n",
       "</div>\n",
       "      <button class=\"colab-df-convert\" onclick=\"convertToInteractive('df-732acac2-48d9-4274-8adc-6bbd41be2673')\"\n",
       "              title=\"Convert this dataframe to an interactive table.\"\n",
       "              style=\"display:none;\">\n",
       "        \n",
       "  <svg xmlns=\"http://www.w3.org/2000/svg\" height=\"24px\"viewBox=\"0 0 24 24\"\n",
       "       width=\"24px\">\n",
       "    <path d=\"M0 0h24v24H0V0z\" fill=\"none\"/>\n",
       "    <path d=\"M18.56 5.44l.94 2.06.94-2.06 2.06-.94-2.06-.94-.94-2.06-.94 2.06-2.06.94zm-11 1L8.5 8.5l.94-2.06 2.06-.94-2.06-.94L8.5 2.5l-.94 2.06-2.06.94zm10 10l.94 2.06.94-2.06 2.06-.94-2.06-.94-.94-2.06-.94 2.06-2.06.94z\"/><path d=\"M17.41 7.96l-1.37-1.37c-.4-.4-.92-.59-1.43-.59-.52 0-1.04.2-1.43.59L10.3 9.45l-7.72 7.72c-.78.78-.78 2.05 0 2.83L4 21.41c.39.39.9.59 1.41.59.51 0 1.02-.2 1.41-.59l7.78-7.78 2.81-2.81c.8-.78.8-2.07 0-2.86zM5.41 20L4 18.59l7.72-7.72 1.47 1.35L5.41 20z\"/>\n",
       "  </svg>\n",
       "      </button>\n",
       "      \n",
       "  <style>\n",
       "    .colab-df-container {\n",
       "      display:flex;\n",
       "      flex-wrap:wrap;\n",
       "      gap: 12px;\n",
       "    }\n",
       "\n",
       "    .colab-df-convert {\n",
       "      background-color: #E8F0FE;\n",
       "      border: none;\n",
       "      border-radius: 50%;\n",
       "      cursor: pointer;\n",
       "      display: none;\n",
       "      fill: #1967D2;\n",
       "      height: 32px;\n",
       "      padding: 0 0 0 0;\n",
       "      width: 32px;\n",
       "    }\n",
       "\n",
       "    .colab-df-convert:hover {\n",
       "      background-color: #E2EBFA;\n",
       "      box-shadow: 0px 1px 2px rgba(60, 64, 67, 0.3), 0px 1px 3px 1px rgba(60, 64, 67, 0.15);\n",
       "      fill: #174EA6;\n",
       "    }\n",
       "\n",
       "    [theme=dark] .colab-df-convert {\n",
       "      background-color: #3B4455;\n",
       "      fill: #D2E3FC;\n",
       "    }\n",
       "\n",
       "    [theme=dark] .colab-df-convert:hover {\n",
       "      background-color: #434B5C;\n",
       "      box-shadow: 0px 1px 3px 1px rgba(0, 0, 0, 0.15);\n",
       "      filter: drop-shadow(0px 1px 2px rgba(0, 0, 0, 0.3));\n",
       "      fill: #FFFFFF;\n",
       "    }\n",
       "  </style>\n",
       "\n",
       "      <script>\n",
       "        const buttonEl =\n",
       "          document.querySelector('#df-732acac2-48d9-4274-8adc-6bbd41be2673 button.colab-df-convert');\n",
       "        buttonEl.style.display =\n",
       "          google.colab.kernel.accessAllowed ? 'block' : 'none';\n",
       "\n",
       "        async function convertToInteractive(key) {\n",
       "          const element = document.querySelector('#df-732acac2-48d9-4274-8adc-6bbd41be2673');\n",
       "          const dataTable =\n",
       "            await google.colab.kernel.invokeFunction('convertToInteractive',\n",
       "                                                     [key], {});\n",
       "          if (!dataTable) return;\n",
       "\n",
       "          const docLinkHtml = 'Like what you see? Visit the ' +\n",
       "            '<a target=\"_blank\" href=https://colab.research.google.com/notebooks/data_table.ipynb>data table notebook</a>'\n",
       "            + ' to learn more about interactive tables.';\n",
       "          element.innerHTML = '';\n",
       "          dataTable['output_type'] = 'display_data';\n",
       "          await google.colab.output.renderOutput(dataTable, element);\n",
       "          const docLink = document.createElement('div');\n",
       "          docLink.innerHTML = docLinkHtml;\n",
       "          element.appendChild(docLink);\n",
       "        }\n",
       "      </script>\n",
       "    </div>\n",
       "  </div>\n",
       "  "
      ],
      "text/plain": [
       "      Metric       KNN\n",
       "0   Accuracy  0.846561\n",
       "1  Precision  0.842851\n",
       "2     Recall  0.843766\n",
       "3         F1  0.841256"
      ]
     },
     "execution_count": 386,
     "metadata": {},
     "output_type": "execute_result"
    }
   ],
   "source": [
    "y_pred = knn_model.predict(X_test)\n",
    "\n",
    "# Compute accuracy\n",
    "accuracy = accuracy_score(y_pred, y_test)\n",
    "\n",
    "# Compute the precision, recall, and F1 score\n",
    "precision, recall, f1, _ = precision_recall_fscore_support(y_test, y_pred, average='macro')\n",
    "\n",
    "# Create a data frame with the results\n",
    "results = pd.DataFrame({'Metric': ['Accuracy', 'Precision', 'Recall', 'F1'],\n",
    "                        'KNN': [accuracy, precision, recall, f1]})\n",
    "\n",
    "results"
   ]
  },
  {
   "cell_type": "code",
   "execution_count": 387,
   "metadata": {
    "id": "DRcjxg-JdIkn"
   },
   "outputs": [],
   "source": [
    "result = result.join(results['KNN'])"
   ]
  },
  {
   "cell_type": "code",
   "execution_count": null,
   "metadata": {
    "id": "OWMryqeLIvRO"
   },
   "outputs": [],
   "source": [
    "# Test\n",
    "test_data = pd.read_csv(\"test-full.csv\", index_col='Id')\n",
    "X_submit = preprocess(test_data, comb_soil=False, scale=False, dim_red=False, chosen_features=chosen_features_1)\n",
    "X_submit = scale(X_submit, ref)\n",
    "y_pred = knn_model.predict(X_submit)"
   ]
  },
  {
   "cell_type": "code",
   "execution_count": null,
   "metadata": {
    "id": "msaqkDhBIvRO"
   },
   "outputs": [],
   "source": [
    "submission_df=pd.DataFrame(y_pred,columns=['Cover_Type'])\n",
    "submission_df.index += 1\n",
    "submission_df.index.names = ['Id']\n",
    "submission_df.to_csv('submission.csv', header=True)"
   ]
  },
  {
   "cell_type": "markdown",
   "metadata": {
    "id": "cJ4b9_CULGhd"
   },
   "source": [
    "0.67 on Kaggle"
   ]
  },
  {
   "cell_type": "markdown",
   "metadata": {
    "id": "YwGtRdgIekHO"
   },
   "source": [
    "## Two layer Neural Network"
   ]
  },
  {
   "cell_type": "code",
   "execution_count": 388,
   "metadata": {
    "id": "xFwVhnzMnsDL"
   },
   "outputs": [],
   "source": [
    "import torch\n",
    "import torch.nn as nn\n",
    "import torch.optim as optim"
   ]
  },
  {
   "cell_type": "code",
   "execution_count": 389,
   "metadata": {
    "id": "DJc-_r1aJhhU"
   },
   "outputs": [],
   "source": [
    "y = df['Cover_Type'].values.flatten()\n",
    "X = df.drop('Cover_Type', axis=1)"
   ]
  },
  {
   "cell_type": "code",
   "execution_count": 390,
   "metadata": {
    "id": "qVaiBvjtJhhU"
   },
   "outputs": [],
   "source": [
    "# Cross_validation\n",
    "X_train, X_test, y_train, y_test = train_test_split(X, y, random_state=0)"
   ]
  },
  {
   "cell_type": "code",
   "execution_count": 391,
   "metadata": {
    "id": "1IZ-O2OfJhhV"
   },
   "outputs": [],
   "source": [
    "X_train = preprocess(X_train, comb_soil=False, scale=False, dim_red=False, chosen_features=chosen_features_1)\n",
    "X_test = preprocess(X_test, comb_soil=False, scale=False, dim_red=False, chosen_features=chosen_features_1)"
   ]
  },
  {
   "cell_type": "code",
   "execution_count": 392,
   "metadata": {
    "id": "dloMG0uMJhhV"
   },
   "outputs": [],
   "source": [
    "ref = X_train.copy()"
   ]
  },
  {
   "cell_type": "code",
   "execution_count": 393,
   "metadata": {
    "colab": {
     "base_uri": "https://localhost:8080/"
    },
    "id": "ARpoPzSLJhhV",
    "outputId": "95774783-ef69-4917-83f3-73d3c41b487d"
   },
   "outputs": [
    {
     "name": "stderr",
     "output_type": "stream",
     "text": [
      "/usr/local/lib/python3.8/dist-packages/sklearn/base.py:450: UserWarning: X does not have valid feature names, but StandardScaler was fitted with feature names\n",
      "  warnings.warn(\n",
      "/usr/local/lib/python3.8/dist-packages/sklearn/base.py:450: UserWarning: X does not have valid feature names, but StandardScaler was fitted with feature names\n",
      "  warnings.warn(\n"
     ]
    }
   ],
   "source": [
    "X_test = scale(X_test, ref)\n",
    "X_train = scale(X_train, ref)"
   ]
  },
  {
   "cell_type": "code",
   "execution_count": 394,
   "metadata": {
    "id": "t5bmzFLPrNDN"
   },
   "outputs": [],
   "source": [
    "y_train = one_hot_encode(y_train)\n",
    "y_test = one_hot_encode(y_test)"
   ]
  },
  {
   "cell_type": "code",
   "execution_count": 395,
   "metadata": {
    "id": "RRltfybmelqi"
   },
   "outputs": [],
   "source": [
    "# First, we define the model architecture.\n",
    "# In this example, we will use a simple feedforward network with 3 hidden layers.\n",
    "class Net(nn.Module):\n",
    "    def __init__(self, input_size, hidden_size1, hidden_size2, num_classes):\n",
    "        super(Net, self).__init__()\n",
    "        self.fc1 = nn.Linear(input_size, hidden_size1)\n",
    "        self.fc2 = nn.Linear(hidden_size1, hidden_size2)\n",
    "        self.fc3 = nn.Linear(hidden_size2, num_classes)\n",
    "        self.relu = nn.ReLU()\n",
    "        self.softmax = nn.Softmax(dim=1)\n",
    "        \n",
    "    def forward(self, x):\n",
    "        x = self.fc1(x)\n",
    "        x = self.relu(x)\n",
    "        x = self.fc2(x)\n",
    "        x = self.relu(x)\n",
    "        x = self.fc3(x)\n",
    "        # x = self.relu(x)\n",
    "        # x = self.fc4(x)\n",
    "        return self.softmax(x)"
   ]
  },
  {
   "cell_type": "code",
   "execution_count": 396,
   "metadata": {
    "id": "OtXkaIEshz4C"
   },
   "outputs": [],
   "source": [
    "input_size = 62 # The number of predictor variables.\n",
    "hidden_size1 = 100\n",
    "hidden_size2 = 10\n",
    "# hidden_size3 = 20\n",
    "num_classes = 7  # The number of forest cover types."
   ]
  },
  {
   "cell_type": "code",
   "execution_count": 397,
   "metadata": {
    "id": "xGaISVkjBKI4"
   },
   "outputs": [],
   "source": [
    "# Next, we define the hyperparameters for the model.\n",
    "learning_rate = 0.001\n",
    "num_epochs = 500"
   ]
  },
  {
   "cell_type": "code",
   "execution_count": 398,
   "metadata": {
    "id": "dA_OrsuMmwpn"
   },
   "outputs": [],
   "source": [
    "# Now we can create an instance of the model and define the loss function and optimizer.\n",
    "model = Net(input_size, hidden_size1, hidden_size2, num_classes)\n",
    "criterion = nn.CrossEntropyLoss()\n",
    "optimizer = optim.Adam(model.parameters(), lr=learning_rate)"
   ]
  },
  {
   "cell_type": "code",
   "execution_count": 399,
   "metadata": {
    "id": "HIAg9z09zHad"
   },
   "outputs": [],
   "source": [
    "# Calculating success rate\n",
    "def success_rate(model, X_test, y_test):\n",
    "  y_pred = model(torch.Tensor(X_test))\n",
    "  y_pred = torch.argmax(y_pred, dim=1)\n",
    "  y_test = torch.argmax(torch.Tensor(y_test), dim=1)\n",
    "\n",
    "  N = len(y_test)\n",
    "  return (y_test == y_pred).float().sum()/N * 100"
   ]
  },
  {
   "cell_type": "code",
   "execution_count": 400,
   "metadata": {
    "id": "944DnEn2B0Ky"
   },
   "outputs": [],
   "source": [
    "loss_list = []\n",
    "acc_list = []"
   ]
  },
  {
   "cell_type": "code",
   "execution_count": 401,
   "metadata": {
    "colab": {
     "base_uri": "https://localhost:8080/"
    },
    "id": "JlrRQWOnm5dd",
    "outputId": "cefce9f6-7298-498b-d2ae-be3cbfd41da5"
   },
   "outputs": [
    {
     "name": "stdout",
     "output_type": "stream",
     "text": [
      "Epoch 1: loss = 1.9484283924102783\n",
      "Epoch 1: acc = 9.73544979095459\n",
      "Epoch 2: loss = 1.9469841718673706\n",
      "Epoch 2: acc = 10.740740776062012\n",
      "Epoch 3: loss = 1.9455701112747192\n",
      "Epoch 3: acc = 11.640212059020996\n",
      "Epoch 4: loss = 1.9442154169082642\n",
      "Epoch 4: acc = 12.724867820739746\n",
      "Epoch 5: loss = 1.9429280757904053\n",
      "Epoch 5: acc = 13.518518447875977\n",
      "Epoch 6: loss = 1.9416983127593994\n",
      "Epoch 6: acc = 14.285715103149414\n",
      "Epoch 7: loss = 1.940495252609253\n",
      "Epoch 7: acc = 14.708993911743164\n",
      "Epoch 8: loss = 1.9393062591552734\n",
      "Epoch 8: acc = 14.814814567565918\n",
      "Epoch 9: loss = 1.938132405281067\n",
      "Epoch 9: acc = 15.000000953674316\n",
      "Epoch 10: loss = 1.9369722604751587\n",
      "Epoch 10: acc = 15.132275581359863\n",
      "Epoch 11: loss = 1.9358184337615967\n",
      "Epoch 11: acc = 15.343914985656738\n",
      "Epoch 12: loss = 1.9346659183502197\n",
      "Epoch 12: acc = 15.449735641479492\n",
      "Epoch 13: loss = 1.9335089921951294\n",
      "Epoch 13: acc = 15.608465194702148\n",
      "Epoch 14: loss = 1.932336449623108\n",
      "Epoch 14: acc = 15.82010555267334\n",
      "Epoch 15: loss = 1.9311398267745972\n",
      "Epoch 15: acc = 16.03174591064453\n",
      "Epoch 16: loss = 1.929909348487854\n",
      "Epoch 16: acc = 16.402116775512695\n",
      "Epoch 17: loss = 1.9286404848098755\n",
      "Epoch 17: acc = 16.772485733032227\n",
      "Epoch 18: loss = 1.9273327589035034\n",
      "Epoch 18: acc = 17.248676300048828\n",
      "Epoch 19: loss = 1.925986886024475\n",
      "Epoch 19: acc = 17.883596420288086\n",
      "Epoch 20: loss = 1.9246037006378174\n",
      "Epoch 20: acc = 18.94179916381836\n",
      "Epoch 21: loss = 1.9231834411621094\n",
      "Epoch 21: acc = 20.317461013793945\n",
      "Epoch 22: loss = 1.9217263460159302\n",
      "Epoch 22: acc = 22.486772537231445\n",
      "Epoch 23: loss = 1.9202344417572021\n",
      "Epoch 23: acc = 24.841270446777344\n",
      "Epoch 24: loss = 1.9187097549438477\n",
      "Epoch 24: acc = 26.878305435180664\n",
      "Epoch 25: loss = 1.917154312133789\n",
      "Epoch 25: acc = 27.962961196899414\n",
      "Epoch 26: loss = 1.9155709743499756\n",
      "Epoch 26: acc = 28.28042221069336\n",
      "Epoch 27: loss = 1.9139618873596191\n",
      "Epoch 27: acc = 28.439151763916016\n",
      "Epoch 28: loss = 1.9123303890228271\n",
      "Epoch 28: acc = 28.597883224487305\n",
      "Epoch 29: loss = 1.9106786251068115\n",
      "Epoch 29: acc = 28.835979461669922\n",
      "Epoch 30: loss = 1.909006953239441\n",
      "Epoch 30: acc = 28.96825408935547\n",
      "Epoch 31: loss = 1.9073151350021362\n",
      "Epoch 31: acc = 29.206350326538086\n",
      "Epoch 32: loss = 1.9056013822555542\n",
      "Epoch 32: acc = 29.28571319580078\n",
      "Epoch 33: loss = 1.9038633108139038\n",
      "Epoch 33: acc = 29.49735450744629\n",
      "Epoch 34: loss = 1.9021012783050537\n",
      "Epoch 34: acc = 29.735448837280273\n",
      "Epoch 35: loss = 1.9003139734268188\n",
      "Epoch 35: acc = 30.079364776611328\n",
      "Epoch 36: loss = 1.898500919342041\n",
      "Epoch 36: acc = 30.343914031982422\n",
      "Epoch 37: loss = 1.8966566324234009\n",
      "Epoch 37: acc = 30.63492202758789\n",
      "Epoch 38: loss = 1.8947749137878418\n",
      "Epoch 38: acc = 30.925926208496094\n",
      "Epoch 39: loss = 1.8928484916687012\n",
      "Epoch 39: acc = 31.13756561279297\n",
      "Epoch 40: loss = 1.8908697366714478\n",
      "Epoch 40: acc = 31.375661849975586\n",
      "Epoch 41: loss = 1.8888274431228638\n",
      "Epoch 41: acc = 31.66666603088379\n",
      "Epoch 42: loss = 1.8867111206054688\n",
      "Epoch 42: acc = 32.08994674682617\n",
      "Epoch 43: loss = 1.8845018148422241\n",
      "Epoch 43: acc = 32.48677062988281\n",
      "Epoch 44: loss = 1.8821595907211304\n",
      "Epoch 44: acc = 33.1216926574707\n",
      "Epoch 45: loss = 1.8796738386154175\n",
      "Epoch 45: acc = 33.94179916381836\n",
      "Epoch 46: loss = 1.8770869970321655\n",
      "Epoch 46: acc = 35.05290985107422\n",
      "Epoch 47: loss = 1.8744319677352905\n",
      "Epoch 47: acc = 37.32804489135742\n",
      "Epoch 48: loss = 1.871684193611145\n",
      "Epoch 48: acc = 39.761905670166016\n",
      "Epoch 49: loss = 1.868823766708374\n",
      "Epoch 49: acc = 41.666664123535156\n",
      "Epoch 50: loss = 1.8658397197723389\n",
      "Epoch 50: acc = 42.5396842956543\n",
      "Epoch 51: loss = 1.8627235889434814\n",
      "Epoch 51: acc = 43.62434005737305\n",
      "Epoch 52: loss = 1.8594698905944824\n",
      "Epoch 52: acc = 43.88888931274414\n",
      "Epoch 53: loss = 1.8560770750045776\n",
      "Epoch 53: acc = 43.73015594482422\n",
      "Epoch 54: loss = 1.8525432348251343\n",
      "Epoch 54: acc = 43.86243438720703\n",
      "Epoch 55: loss = 1.848866581916809\n",
      "Epoch 55: acc = 43.677249908447266\n",
      "Epoch 56: loss = 1.845053791999817\n",
      "Epoch 56: acc = 43.756614685058594\n",
      "Epoch 57: loss = 1.841107964515686\n",
      "Epoch 57: acc = 43.7830696105957\n",
      "Epoch 58: loss = 1.8370301723480225\n",
      "Epoch 58: acc = 43.703704833984375\n",
      "Epoch 59: loss = 1.83282470703125\n",
      "Epoch 59: acc = 43.59788131713867\n",
      "Epoch 60: loss = 1.8284939527511597\n",
      "Epoch 60: acc = 43.412696838378906\n",
      "Epoch 61: loss = 1.8240464925765991\n",
      "Epoch 61: acc = 43.4920654296875\n",
      "Epoch 62: loss = 1.8194924592971802\n",
      "Epoch 62: acc = 43.33333206176758\n",
      "Epoch 63: loss = 1.8148396015167236\n",
      "Epoch 63: acc = 43.227516174316406\n",
      "Epoch 64: loss = 1.8101004362106323\n",
      "Epoch 64: acc = 43.439151763916016\n",
      "Epoch 65: loss = 1.8052891492843628\n",
      "Epoch 65: acc = 43.35979080200195\n",
      "Epoch 66: loss = 1.8004111051559448\n",
      "Epoch 66: acc = 43.465606689453125\n",
      "Epoch 67: loss = 1.7954776287078857\n",
      "Epoch 67: acc = 43.439151763916016\n",
      "Epoch 68: loss = 1.7905021905899048\n",
      "Epoch 68: acc = 43.703704833984375\n",
      "Epoch 69: loss = 1.7854962348937988\n",
      "Epoch 69: acc = 43.88888931274414\n",
      "Epoch 70: loss = 1.7804739475250244\n",
      "Epoch 70: acc = 44.074073791503906\n",
      "Epoch 71: loss = 1.7754522562026978\n",
      "Epoch 71: acc = 44.126983642578125\n",
      "Epoch 72: loss = 1.7704505920410156\n",
      "Epoch 72: acc = 44.39153289794922\n",
      "Epoch 73: loss = 1.7654892206192017\n",
      "Epoch 73: acc = 44.62963104248047\n",
      "Epoch 74: loss = 1.7605918645858765\n",
      "Epoch 74: acc = 44.841270446777344\n",
      "Epoch 75: loss = 1.7557787895202637\n",
      "Epoch 75: acc = 45.05290985107422\n",
      "Epoch 76: loss = 1.7510713338851929\n",
      "Epoch 76: acc = 45.29100799560547\n",
      "Epoch 77: loss = 1.746485948562622\n",
      "Epoch 77: acc = 45.449737548828125\n",
      "Epoch 78: loss = 1.742037296295166\n",
      "Epoch 78: acc = 45.661373138427734\n",
      "Epoch 79: loss = 1.7377361059188843\n",
      "Epoch 79: acc = 45.74074172973633\n",
      "Epoch 80: loss = 1.7335894107818604\n",
      "Epoch 80: acc = 46.08465576171875\n",
      "Epoch 81: loss = 1.7295982837677002\n",
      "Epoch 81: acc = 46.24338912963867\n",
      "Epoch 82: loss = 1.7257637977600098\n",
      "Epoch 82: acc = 46.45502471923828\n",
      "Epoch 83: loss = 1.7220861911773682\n",
      "Epoch 83: acc = 46.746028900146484\n",
      "Epoch 84: loss = 1.7185614109039307\n",
      "Epoch 84: acc = 46.931217193603516\n",
      "Epoch 85: loss = 1.7151848077774048\n",
      "Epoch 85: acc = 47.195770263671875\n",
      "Epoch 86: loss = 1.7119497060775757\n",
      "Epoch 86: acc = 47.328041076660156\n",
      "Epoch 87: loss = 1.7088489532470703\n",
      "Epoch 87: acc = 47.56613540649414\n",
      "Epoch 88: loss = 1.7058734893798828\n",
      "Epoch 88: acc = 47.69841003417969\n",
      "Epoch 89: loss = 1.7030147314071655\n",
      "Epoch 89: acc = 47.77777862548828\n",
      "Epoch 90: loss = 1.700264573097229\n",
      "Epoch 90: acc = 47.80423355102539\n",
      "Epoch 91: loss = 1.6976144313812256\n",
      "Epoch 91: acc = 47.91005325317383\n",
      "Epoch 92: loss = 1.6950541734695435\n",
      "Epoch 92: acc = 47.96296310424805\n",
      "Epoch 93: loss = 1.6925760507583618\n",
      "Epoch 93: acc = 48.25396728515625\n",
      "Epoch 94: loss = 1.6901729106903076\n",
      "Epoch 94: acc = 48.412696838378906\n",
      "Epoch 95: loss = 1.6878377199172974\n",
      "Epoch 95: acc = 48.492061614990234\n",
      "Epoch 96: loss = 1.685564637184143\n",
      "Epoch 96: acc = 48.57143020629883\n",
      "Epoch 97: loss = 1.683347463607788\n",
      "Epoch 97: acc = 48.65079116821289\n",
      "Epoch 98: loss = 1.6811805963516235\n",
      "Epoch 98: acc = 48.730159759521484\n",
      "Epoch 99: loss = 1.6790587902069092\n",
      "Epoch 99: acc = 49.02116394042969\n",
      "Epoch 100: loss = 1.6769776344299316\n",
      "Epoch 100: acc = 49.28571319580078\n",
      "Epoch 101: loss = 1.6749321222305298\n",
      "Epoch 101: acc = 49.179893493652344\n",
      "Epoch 102: loss = 1.6729201078414917\n",
      "Epoch 102: acc = 49.31216812133789\n",
      "Epoch 103: loss = 1.67093825340271\n",
      "Epoch 103: acc = 49.47089767456055\n",
      "Epoch 104: loss = 1.6689832210540771\n",
      "Epoch 104: acc = 49.603172302246094\n",
      "Epoch 105: loss = 1.6670526266098022\n",
      "Epoch 105: acc = 49.603172302246094\n",
      "Epoch 106: loss = 1.665144443511963\n",
      "Epoch 106: acc = 49.735450744628906\n",
      "Epoch 107: loss = 1.6632544994354248\n",
      "Epoch 107: acc = 49.6296272277832\n",
      "Epoch 108: loss = 1.6613810062408447\n",
      "Epoch 108: acc = 49.76190185546875\n",
      "Epoch 109: loss = 1.6595216989517212\n",
      "Epoch 109: acc = 49.86772537231445\n",
      "Epoch 110: loss = 1.6576749086380005\n",
      "Epoch 110: acc = 50.0\n",
      "Epoch 111: loss = 1.6558375358581543\n",
      "Epoch 111: acc = 50.1058235168457\n",
      "Epoch 112: loss = 1.6540088653564453\n",
      "Epoch 112: acc = 50.31745910644531\n",
      "Epoch 113: loss = 1.652188777923584\n",
      "Epoch 113: acc = 50.502647399902344\n",
      "Epoch 114: loss = 1.6503758430480957\n",
      "Epoch 114: acc = 50.661373138427734\n",
      "Epoch 115: loss = 1.6485704183578491\n",
      "Epoch 115: acc = 50.92593002319336\n",
      "Epoch 116: loss = 1.6467698812484741\n",
      "Epoch 116: acc = 51.058204650878906\n",
      "Epoch 117: loss = 1.6449741125106812\n",
      "Epoch 117: acc = 51.296295166015625\n",
      "Epoch 118: loss = 1.643182635307312\n",
      "Epoch 118: acc = 51.507938385009766\n",
      "Epoch 119: loss = 1.6413943767547607\n",
      "Epoch 119: acc = 51.48147964477539\n",
      "Epoch 120: loss = 1.6396093368530273\n",
      "Epoch 120: acc = 51.587303161621094\n",
      "Epoch 121: loss = 1.637827754020691\n",
      "Epoch 121: acc = 51.74603271484375\n",
      "Epoch 122: loss = 1.6360499858856201\n",
      "Epoch 122: acc = 51.904762268066406\n",
      "Epoch 123: loss = 1.63427734375\n",
      "Epoch 123: acc = 52.06349563598633\n",
      "Epoch 124: loss = 1.6325093507766724\n",
      "Epoch 124: acc = 52.27513122558594\n",
      "Epoch 125: loss = 1.6307446956634521\n",
      "Epoch 125: acc = 52.38095474243164\n",
      "Epoch 126: loss = 1.6289830207824707\n",
      "Epoch 126: acc = 52.30158615112305\n",
      "Epoch 127: loss = 1.6272234916687012\n",
      "Epoch 127: acc = 52.46031951904297\n",
      "Epoch 128: loss = 1.625466227531433\n",
      "Epoch 128: acc = 52.804229736328125\n",
      "Epoch 129: loss = 1.6237099170684814\n",
      "Epoch 129: acc = 52.804229736328125\n",
      "Epoch 130: loss = 1.6219538450241089\n",
      "Epoch 130: acc = 52.88359451293945\n",
      "Epoch 131: loss = 1.6201974153518677\n",
      "Epoch 131: acc = 53.095237731933594\n",
      "Epoch 132: loss = 1.6184393167495728\n",
      "Epoch 132: acc = 53.333335876464844\n",
      "Epoch 133: loss = 1.61667799949646\n",
      "Epoch 133: acc = 53.54497528076172\n",
      "Epoch 134: loss = 1.6149128675460815\n",
      "Epoch 134: acc = 53.835975646972656\n",
      "Epoch 135: loss = 1.613142728805542\n",
      "Epoch 135: acc = 54.179893493652344\n",
      "Epoch 136: loss = 1.6113656759262085\n",
      "Epoch 136: acc = 54.39153289794922\n",
      "Epoch 137: loss = 1.6095818281173706\n",
      "Epoch 137: acc = 54.60317611694336\n",
      "Epoch 138: loss = 1.6077884435653687\n",
      "Epoch 138: acc = 54.94709014892578\n",
      "Epoch 139: loss = 1.6059844493865967\n",
      "Epoch 139: acc = 55.10581588745117\n",
      "Epoch 140: loss = 1.6041650772094727\n",
      "Epoch 140: acc = 55.34391403198242\n",
      "Epoch 141: loss = 1.602325439453125\n",
      "Epoch 141: acc = 55.87302017211914\n",
      "Epoch 142: loss = 1.6004612445831299\n",
      "Epoch 142: acc = 56.32275390625\n",
      "Epoch 143: loss = 1.598572850227356\n",
      "Epoch 143: acc = 56.71957778930664\n",
      "Epoch 144: loss = 1.5966484546661377\n",
      "Epoch 144: acc = 56.904762268066406\n",
      "Epoch 145: loss = 1.5946848392486572\n",
      "Epoch 145: acc = 57.328041076660156\n",
      "Epoch 146: loss = 1.5926778316497803\n",
      "Epoch 146: acc = 57.91005325317383\n",
      "Epoch 147: loss = 1.5906283855438232\n",
      "Epoch 147: acc = 58.54497528076172\n",
      "Epoch 148: loss = 1.588545799255371\n",
      "Epoch 148: acc = 59.365081787109375\n",
      "Epoch 149: loss = 1.5864330530166626\n",
      "Epoch 149: acc = 60.000003814697266\n",
      "Epoch 150: loss = 1.584295630455017\n",
      "Epoch 150: acc = 60.608463287353516\n",
      "Epoch 151: loss = 1.5821566581726074\n",
      "Epoch 151: acc = 60.846561431884766\n",
      "Epoch 152: loss = 1.5800254344940186\n",
      "Epoch 152: acc = 61.16402053833008\n",
      "Epoch 153: loss = 1.577911138534546\n",
      "Epoch 153: acc = 61.481483459472656\n",
      "Epoch 154: loss = 1.575816035270691\n",
      "Epoch 154: acc = 61.693119049072266\n",
      "Epoch 155: loss = 1.5737435817718506\n",
      "Epoch 155: acc = 62.010581970214844\n",
      "Epoch 156: loss = 1.5716979503631592\n",
      "Epoch 156: acc = 62.14285659790039\n",
      "Epoch 157: loss = 1.56968355178833\n",
      "Epoch 157: acc = 62.19576644897461\n",
      "Epoch 158: loss = 1.5677027702331543\n",
      "Epoch 158: acc = 62.433860778808594\n",
      "Epoch 159: loss = 1.5657598972320557\n",
      "Epoch 159: acc = 62.51322555541992\n",
      "Epoch 160: loss = 1.5638610124588013\n",
      "Epoch 160: acc = 62.59259033203125\n",
      "Epoch 161: loss = 1.5620081424713135\n",
      "Epoch 161: acc = 62.5396842956543\n",
      "Epoch 162: loss = 1.560205340385437\n",
      "Epoch 162: acc = 62.64550018310547\n",
      "Epoch 163: loss = 1.5584524869918823\n",
      "Epoch 163: acc = 62.80423355102539\n",
      "Epoch 164: loss = 1.5567493438720703\n",
      "Epoch 164: acc = 62.93650817871094\n",
      "Epoch 165: loss = 1.5550978183746338\n",
      "Epoch 165: acc = 63.015872955322266\n",
      "Epoch 166: loss = 1.55349600315094\n",
      "Epoch 166: acc = 62.989418029785156\n",
      "Epoch 167: loss = 1.5519428253173828\n",
      "Epoch 167: acc = 63.068782806396484\n",
      "Epoch 168: loss = 1.5504392385482788\n",
      "Epoch 168: acc = 63.068782806396484\n",
      "Epoch 169: loss = 1.5489834547042847\n",
      "Epoch 169: acc = 63.227508544921875\n",
      "Epoch 170: loss = 1.5475716590881348\n",
      "Epoch 170: acc = 63.412696838378906\n",
      "Epoch 171: loss = 1.5462015867233276\n",
      "Epoch 171: acc = 63.412696838378906\n",
      "Epoch 172: loss = 1.5448722839355469\n",
      "Epoch 172: acc = 63.465606689453125\n",
      "Epoch 173: loss = 1.5435839891433716\n",
      "Epoch 173: acc = 63.465606689453125\n",
      "Epoch 174: loss = 1.5423349142074585\n",
      "Epoch 174: acc = 63.518516540527344\n",
      "Epoch 175: loss = 1.541123390197754\n",
      "Epoch 175: acc = 63.54497146606445\n",
      "Epoch 176: loss = 1.5399473905563354\n",
      "Epoch 176: acc = 63.465606689453125\n",
      "Epoch 177: loss = 1.5388060808181763\n",
      "Epoch 177: acc = 63.54497146606445\n",
      "Epoch 178: loss = 1.537697196006775\n",
      "Epoch 178: acc = 63.677249908447266\n",
      "Epoch 179: loss = 1.5366195440292358\n",
      "Epoch 179: acc = 63.703704833984375\n",
      "Epoch 180: loss = 1.5355690717697144\n",
      "Epoch 180: acc = 63.756614685058594\n",
      "Epoch 181: loss = 1.5345444679260254\n",
      "Epoch 181: acc = 63.78306579589844\n",
      "Epoch 182: loss = 1.5335434675216675\n",
      "Epoch 182: acc = 63.78306579589844\n",
      "Epoch 183: loss = 1.5325669050216675\n",
      "Epoch 183: acc = 63.73015594482422\n",
      "Epoch 184: loss = 1.5316137075424194\n",
      "Epoch 184: acc = 63.862430572509766\n",
      "Epoch 185: loss = 1.5306808948516846\n",
      "Epoch 185: acc = 63.83597946166992\n",
      "Epoch 186: loss = 1.5297695398330688\n",
      "Epoch 186: acc = 63.94179916381836\n",
      "Epoch 187: loss = 1.5288782119750977\n",
      "Epoch 187: acc = 64.02116394042969\n",
      "Epoch 188: loss = 1.527998924255371\n",
      "Epoch 188: acc = 63.994712829589844\n",
      "Epoch 189: loss = 1.527133584022522\n",
      "Epoch 189: acc = 63.994712829589844\n",
      "Epoch 190: loss = 1.5262850522994995\n",
      "Epoch 190: acc = 64.0740737915039\n",
      "Epoch 191: loss = 1.525449514389038\n",
      "Epoch 191: acc = 64.17989349365234\n",
      "Epoch 192: loss = 1.524627447128296\n",
      "Epoch 192: acc = 64.23280334472656\n",
      "Epoch 193: loss = 1.523827075958252\n",
      "Epoch 193: acc = 64.23280334472656\n",
      "Epoch 194: loss = 1.523049235343933\n",
      "Epoch 194: acc = 64.31217193603516\n",
      "Epoch 195: loss = 1.5222936868667603\n",
      "Epoch 195: acc = 64.338623046875\n",
      "Epoch 196: loss = 1.521559476852417\n",
      "Epoch 196: acc = 64.338623046875\n",
      "Epoch 197: loss = 1.520838975906372\n",
      "Epoch 197: acc = 64.44444274902344\n",
      "Epoch 198: loss = 1.5201259851455688\n",
      "Epoch 198: acc = 64.4179916381836\n",
      "Epoch 199: loss = 1.5194215774536133\n",
      "Epoch 199: acc = 64.44444274902344\n",
      "Epoch 200: loss = 1.5187177658081055\n",
      "Epoch 200: acc = 64.47090148925781\n",
      "Epoch 201: loss = 1.518024206161499\n",
      "Epoch 201: acc = 64.49735260009766\n",
      "Epoch 202: loss = 1.5173399448394775\n",
      "Epoch 202: acc = 64.57672119140625\n",
      "Epoch 203: loss = 1.5166642665863037\n",
      "Epoch 203: acc = 64.62963104248047\n",
      "Epoch 204: loss = 1.5159951448440552\n",
      "Epoch 204: acc = 64.62963104248047\n",
      "Epoch 205: loss = 1.515334963798523\n",
      "Epoch 205: acc = 64.6031723022461\n",
      "Epoch 206: loss = 1.5146820545196533\n",
      "Epoch 206: acc = 64.62963104248047\n",
      "Epoch 207: loss = 1.5140342712402344\n",
      "Epoch 207: acc = 64.65608215332031\n",
      "Epoch 208: loss = 1.5133918523788452\n",
      "Epoch 208: acc = 64.70899963378906\n",
      "Epoch 209: loss = 1.5127562284469604\n",
      "Epoch 209: acc = 64.7354507446289\n",
      "Epoch 210: loss = 1.5121265649795532\n",
      "Epoch 210: acc = 64.76190948486328\n",
      "Epoch 211: loss = 1.5115041732788086\n",
      "Epoch 211: acc = 64.81481170654297\n",
      "Epoch 212: loss = 1.5108859539031982\n",
      "Epoch 212: acc = 64.81481170654297\n",
      "Epoch 213: loss = 1.5102709531784058\n",
      "Epoch 213: acc = 64.81481170654297\n",
      "Epoch 214: loss = 1.5096629858016968\n",
      "Epoch 214: acc = 64.81481170654297\n",
      "Epoch 215: loss = 1.5090594291687012\n",
      "Epoch 215: acc = 64.86772155761719\n",
      "Epoch 216: loss = 1.5084600448608398\n",
      "Epoch 216: acc = 64.94709014892578\n",
      "Epoch 217: loss = 1.5078654289245605\n",
      "Epoch 217: acc = 64.9206314086914\n",
      "Epoch 218: loss = 1.5072749853134155\n",
      "Epoch 218: acc = 65.0\n",
      "Epoch 219: loss = 1.506689190864563\n",
      "Epoch 219: acc = 65.05290985107422\n",
      "Epoch 220: loss = 1.5061075687408447\n",
      "Epoch 220: acc = 65.05290985107422\n",
      "Epoch 221: loss = 1.5055288076400757\n",
      "Epoch 221: acc = 65.10581970214844\n",
      "Epoch 222: loss = 1.5049537420272827\n",
      "Epoch 222: acc = 65.1851806640625\n",
      "Epoch 223: loss = 1.5043822526931763\n",
      "Epoch 223: acc = 65.2645492553711\n",
      "Epoch 224: loss = 1.50381338596344\n",
      "Epoch 224: acc = 65.3968276977539\n",
      "Epoch 225: loss = 1.503247618675232\n",
      "Epoch 225: acc = 65.4497299194336\n",
      "Epoch 226: loss = 1.5026854276657104\n",
      "Epoch 226: acc = 65.50263977050781\n",
      "Epoch 227: loss = 1.5021260976791382\n",
      "Epoch 227: acc = 65.55555725097656\n",
      "Epoch 228: loss = 1.5015690326690674\n",
      "Epoch 228: acc = 65.55555725097656\n",
      "Epoch 229: loss = 1.501015543937683\n",
      "Epoch 229: acc = 65.68782806396484\n",
      "Epoch 230: loss = 1.5004645586013794\n",
      "Epoch 230: acc = 65.71428680419922\n",
      "Epoch 231: loss = 1.4999159574508667\n",
      "Epoch 231: acc = 65.71428680419922\n",
      "Epoch 232: loss = 1.499369502067566\n",
      "Epoch 232: acc = 65.82010650634766\n",
      "Epoch 233: loss = 1.4988255500793457\n",
      "Epoch 233: acc = 65.87301635742188\n",
      "Epoch 234: loss = 1.498283863067627\n",
      "Epoch 234: acc = 65.95237731933594\n",
      "Epoch 235: loss = 1.4977439641952515\n",
      "Epoch 235: acc = 65.97883605957031\n",
      "Epoch 236: loss = 1.4972046613693237\n",
      "Epoch 236: acc = 65.97883605957031\n",
      "Epoch 237: loss = 1.4966659545898438\n",
      "Epoch 237: acc = 65.95237731933594\n",
      "Epoch 238: loss = 1.4961286783218384\n",
      "Epoch 238: acc = 65.9259262084961\n",
      "Epoch 239: loss = 1.4955925941467285\n",
      "Epoch 239: acc = 65.97883605957031\n",
      "Epoch 240: loss = 1.4950580596923828\n",
      "Epoch 240: acc = 66.00528717041016\n",
      "Epoch 241: loss = 1.4945248365402222\n",
      "Epoch 241: acc = 66.03174591064453\n",
      "Epoch 242: loss = 1.4939922094345093\n",
      "Epoch 242: acc = 66.08465576171875\n",
      "Epoch 243: loss = 1.4934580326080322\n",
      "Epoch 243: acc = 66.16402435302734\n",
      "Epoch 244: loss = 1.4929229021072388\n",
      "Epoch 244: acc = 66.19047546386719\n",
      "Epoch 245: loss = 1.4923880100250244\n",
      "Epoch 245: acc = 66.42857360839844\n",
      "Epoch 246: loss = 1.4918529987335205\n",
      "Epoch 246: acc = 66.69312286376953\n",
      "Epoch 247: loss = 1.491316318511963\n",
      "Epoch 247: acc = 66.7724838256836\n",
      "Epoch 248: loss = 1.4907780885696411\n",
      "Epoch 248: acc = 66.93122100830078\n",
      "Epoch 249: loss = 1.490238904953003\n",
      "Epoch 249: acc = 67.06349182128906\n",
      "Epoch 250: loss = 1.4896976947784424\n",
      "Epoch 250: acc = 67.2486801147461\n",
      "Epoch 251: loss = 1.4891548156738281\n",
      "Epoch 251: acc = 67.38095092773438\n",
      "Epoch 252: loss = 1.4886105060577393\n",
      "Epoch 252: acc = 67.38095092773438\n",
      "Epoch 253: loss = 1.4880647659301758\n",
      "Epoch 253: acc = 67.5661392211914\n",
      "Epoch 254: loss = 1.4875165224075317\n",
      "Epoch 254: acc = 67.75132751464844\n",
      "Epoch 255: loss = 1.4869650602340698\n",
      "Epoch 255: acc = 67.75132751464844\n",
      "Epoch 256: loss = 1.4864102602005005\n",
      "Epoch 256: acc = 67.91004943847656\n",
      "Epoch 257: loss = 1.4858521223068237\n",
      "Epoch 257: acc = 68.01587677001953\n",
      "Epoch 258: loss = 1.4852896928787231\n",
      "Epoch 258: acc = 68.17459869384766\n",
      "Epoch 259: loss = 1.48472261428833\n",
      "Epoch 259: acc = 68.20105743408203\n",
      "Epoch 260: loss = 1.4841504096984863\n",
      "Epoch 260: acc = 68.38624572753906\n",
      "Epoch 261: loss = 1.4835745096206665\n",
      "Epoch 261: acc = 68.49205780029297\n",
      "Epoch 262: loss = 1.482994556427002\n",
      "Epoch 262: acc = 68.65079498291016\n",
      "Epoch 263: loss = 1.482409119606018\n",
      "Epoch 263: acc = 68.70370483398438\n",
      "Epoch 264: loss = 1.481818675994873\n",
      "Epoch 264: acc = 68.8888931274414\n",
      "Epoch 265: loss = 1.4812219142913818\n",
      "Epoch 265: acc = 68.96825408935547\n",
      "Epoch 266: loss = 1.48062002658844\n",
      "Epoch 266: acc = 68.99470520019531\n",
      "Epoch 267: loss = 1.4800111055374146\n",
      "Epoch 267: acc = 69.1534423828125\n",
      "Epoch 268: loss = 1.4793955087661743\n",
      "Epoch 268: acc = 69.4179916381836\n",
      "Epoch 269: loss = 1.4787719249725342\n",
      "Epoch 269: acc = 69.44444274902344\n",
      "Epoch 270: loss = 1.478140115737915\n",
      "Epoch 270: acc = 69.55026245117188\n",
      "Epoch 271: loss = 1.4775011539459229\n",
      "Epoch 271: acc = 69.62963104248047\n",
      "Epoch 272: loss = 1.4768548011779785\n",
      "Epoch 272: acc = 69.78836059570312\n",
      "Epoch 273: loss = 1.476198434829712\n",
      "Epoch 273: acc = 70.02645874023438\n",
      "Epoch 274: loss = 1.4755337238311768\n",
      "Epoch 274: acc = 70.10581970214844\n",
      "Epoch 275: loss = 1.4748599529266357\n",
      "Epoch 275: acc = 70.34391784667969\n",
      "Epoch 276: loss = 1.4741779565811157\n",
      "Epoch 276: acc = 70.52910614013672\n",
      "Epoch 277: loss = 1.4734853506088257\n",
      "Epoch 277: acc = 70.71427917480469\n",
      "Epoch 278: loss = 1.472785472869873\n",
      "Epoch 278: acc = 70.79365539550781\n",
      "Epoch 279: loss = 1.4720813035964966\n",
      "Epoch 279: acc = 70.84656524658203\n",
      "Epoch 280: loss = 1.47136652469635\n",
      "Epoch 280: acc = 70.97883605957031\n",
      "Epoch 281: loss = 1.470644235610962\n",
      "Epoch 281: acc = 71.0582046508789\n",
      "Epoch 282: loss = 1.4699150323867798\n",
      "Epoch 282: acc = 71.00528717041016\n",
      "Epoch 283: loss = 1.4691802263259888\n",
      "Epoch 283: acc = 71.0582046508789\n",
      "Epoch 284: loss = 1.468441128730774\n",
      "Epoch 284: acc = 71.00528717041016\n",
      "Epoch 285: loss = 1.4676986932754517\n",
      "Epoch 285: acc = 71.2433853149414\n",
      "Epoch 286: loss = 1.4669530391693115\n",
      "Epoch 286: acc = 71.34920501708984\n",
      "Epoch 287: loss = 1.4662045240402222\n",
      "Epoch 287: acc = 71.5079345703125\n",
      "Epoch 288: loss = 1.4654560089111328\n",
      "Epoch 288: acc = 71.66666412353516\n",
      "Epoch 289: loss = 1.4647067785263062\n",
      "Epoch 289: acc = 71.79894256591797\n",
      "Epoch 290: loss = 1.463956594467163\n",
      "Epoch 290: acc = 71.93122100830078\n",
      "Epoch 291: loss = 1.4632097482681274\n",
      "Epoch 291: acc = 72.11640167236328\n",
      "Epoch 292: loss = 1.4624632596969604\n",
      "Epoch 292: acc = 72.19577026367188\n",
      "Epoch 293: loss = 1.4617204666137695\n",
      "Epoch 293: acc = 72.27513122558594\n",
      "Epoch 294: loss = 1.4609812498092651\n",
      "Epoch 294: acc = 72.40740966796875\n",
      "Epoch 295: loss = 1.4602506160736084\n",
      "Epoch 295: acc = 72.3544921875\n",
      "Epoch 296: loss = 1.459523320198059\n",
      "Epoch 296: acc = 72.43386840820312\n",
      "Epoch 297: loss = 1.458801507949829\n",
      "Epoch 297: acc = 72.69841766357422\n",
      "Epoch 298: loss = 1.4580879211425781\n",
      "Epoch 298: acc = 72.96296691894531\n",
      "Epoch 299: loss = 1.457383632659912\n",
      "Epoch 299: acc = 72.93650817871094\n",
      "Epoch 300: loss = 1.4566892385482788\n",
      "Epoch 300: acc = 72.96296691894531\n",
      "Epoch 301: loss = 1.4560047388076782\n",
      "Epoch 301: acc = 72.93650817871094\n",
      "Epoch 302: loss = 1.4553302526474\n",
      "Epoch 302: acc = 72.91004943847656\n",
      "Epoch 303: loss = 1.4546637535095215\n",
      "Epoch 303: acc = 72.96296691894531\n",
      "Epoch 304: loss = 1.4540067911148071\n",
      "Epoch 304: acc = 72.93650817871094\n",
      "Epoch 305: loss = 1.4533581733703613\n",
      "Epoch 305: acc = 72.91004943847656\n",
      "Epoch 306: loss = 1.452718734741211\n",
      "Epoch 306: acc = 72.88359832763672\n",
      "Epoch 307: loss = 1.452089548110962\n",
      "Epoch 307: acc = 72.96296691894531\n",
      "Epoch 308: loss = 1.451471209526062\n",
      "Epoch 308: acc = 72.98941802978516\n",
      "Epoch 309: loss = 1.450864553451538\n",
      "Epoch 309: acc = 72.88359832763672\n",
      "Epoch 310: loss = 1.4502673149108887\n",
      "Epoch 310: acc = 72.91004943847656\n",
      "Epoch 311: loss = 1.449679970741272\n",
      "Epoch 311: acc = 72.93650817871094\n",
      "Epoch 312: loss = 1.449102520942688\n",
      "Epoch 312: acc = 72.96296691894531\n",
      "Epoch 313: loss = 1.4485353231430054\n",
      "Epoch 313: acc = 72.98941802978516\n",
      "Epoch 314: loss = 1.4479793310165405\n",
      "Epoch 314: acc = 73.04232788085938\n",
      "Epoch 315: loss = 1.4474340677261353\n",
      "Epoch 315: acc = 73.04232788085938\n",
      "Epoch 316: loss = 1.4468994140625\n",
      "Epoch 316: acc = 73.04232788085938\n",
      "Epoch 317: loss = 1.4463748931884766\n",
      "Epoch 317: acc = 73.0952377319336\n",
      "Epoch 318: loss = 1.4458588361740112\n",
      "Epoch 318: acc = 73.0952377319336\n",
      "Epoch 319: loss = 1.4453508853912354\n",
      "Epoch 319: acc = 73.04232788085938\n",
      "Epoch 320: loss = 1.444852352142334\n",
      "Epoch 320: acc = 73.0952377319336\n",
      "Epoch 321: loss = 1.4443621635437012\n",
      "Epoch 321: acc = 73.0952377319336\n",
      "Epoch 322: loss = 1.4438793659210205\n",
      "Epoch 322: acc = 73.17459869384766\n",
      "Epoch 323: loss = 1.4434032440185547\n",
      "Epoch 323: acc = 73.17459869384766\n",
      "Epoch 324: loss = 1.442934274673462\n",
      "Epoch 324: acc = 73.17459869384766\n",
      "Epoch 325: loss = 1.4424717426300049\n",
      "Epoch 325: acc = 73.25396728515625\n",
      "Epoch 326: loss = 1.4420164823532104\n",
      "Epoch 326: acc = 73.25396728515625\n",
      "Epoch 327: loss = 1.4415696859359741\n",
      "Epoch 327: acc = 73.30687713623047\n",
      "Epoch 328: loss = 1.4411307573318481\n",
      "Epoch 328: acc = 73.35978698730469\n",
      "Epoch 329: loss = 1.4406981468200684\n",
      "Epoch 329: acc = 73.33333587646484\n",
      "Epoch 330: loss = 1.4402706623077393\n",
      "Epoch 330: acc = 73.33333587646484\n",
      "Epoch 331: loss = 1.4398493766784668\n",
      "Epoch 331: acc = 73.35978698730469\n",
      "Epoch 332: loss = 1.439435601234436\n",
      "Epoch 332: acc = 73.33333587646484\n",
      "Epoch 333: loss = 1.4390276670455933\n",
      "Epoch 333: acc = 73.46560668945312\n",
      "Epoch 334: loss = 1.4386241436004639\n",
      "Epoch 334: acc = 73.46560668945312\n",
      "Epoch 335: loss = 1.4382264614105225\n",
      "Epoch 335: acc = 73.43914794921875\n",
      "Epoch 336: loss = 1.4378349781036377\n",
      "Epoch 336: acc = 73.4920654296875\n",
      "Epoch 337: loss = 1.4374479055404663\n",
      "Epoch 337: acc = 73.4920654296875\n",
      "Epoch 338: loss = 1.437066674232483\n",
      "Epoch 338: acc = 73.4920654296875\n",
      "Epoch 339: loss = 1.4366892576217651\n",
      "Epoch 339: acc = 73.4920654296875\n",
      "Epoch 340: loss = 1.4363162517547607\n",
      "Epoch 340: acc = 73.54497528076172\n",
      "Epoch 341: loss = 1.435947299003601\n",
      "Epoch 341: acc = 73.57142639160156\n",
      "Epoch 342: loss = 1.4355825185775757\n",
      "Epoch 342: acc = 73.62433624267578\n",
      "Epoch 343: loss = 1.4352216720581055\n",
      "Epoch 343: acc = 73.65079498291016\n",
      "Epoch 344: loss = 1.4348658323287964\n",
      "Epoch 344: acc = 73.67724609375\n",
      "Epoch 345: loss = 1.4345139265060425\n",
      "Epoch 345: acc = 73.67724609375\n",
      "Epoch 346: loss = 1.434165596961975\n",
      "Epoch 346: acc = 73.65079498291016\n",
      "Epoch 347: loss = 1.4338215589523315\n",
      "Epoch 347: acc = 73.65079498291016\n",
      "Epoch 348: loss = 1.4334819316864014\n",
      "Epoch 348: acc = 73.73015594482422\n",
      "Epoch 349: loss = 1.4331456422805786\n",
      "Epoch 349: acc = 73.7566146850586\n",
      "Epoch 350: loss = 1.4328129291534424\n",
      "Epoch 350: acc = 73.80952453613281\n",
      "Epoch 351: loss = 1.4324842691421509\n",
      "Epoch 351: acc = 73.80952453613281\n",
      "Epoch 352: loss = 1.4321597814559937\n",
      "Epoch 352: acc = 73.80952453613281\n",
      "Epoch 353: loss = 1.431837797164917\n",
      "Epoch 353: acc = 73.7566146850586\n",
      "Epoch 354: loss = 1.431518316268921\n",
      "Epoch 354: acc = 73.70370483398438\n",
      "Epoch 355: loss = 1.4312019348144531\n",
      "Epoch 355: acc = 73.80952453613281\n",
      "Epoch 356: loss = 1.4308886528015137\n",
      "Epoch 356: acc = 73.86243438720703\n",
      "Epoch 357: loss = 1.4305781126022339\n",
      "Epoch 357: acc = 73.88888549804688\n",
      "Epoch 358: loss = 1.4302705526351929\n",
      "Epoch 358: acc = 73.96825408935547\n",
      "Epoch 359: loss = 1.4299651384353638\n",
      "Epoch 359: acc = 73.9417953491211\n",
      "Epoch 360: loss = 1.4296616315841675\n",
      "Epoch 360: acc = 74.02116394042969\n",
      "Epoch 361: loss = 1.4293603897094727\n",
      "Epoch 361: acc = 73.99470520019531\n",
      "Epoch 362: loss = 1.4290610551834106\n",
      "Epoch 362: acc = 74.04762268066406\n",
      "Epoch 363: loss = 1.428763508796692\n",
      "Epoch 363: acc = 74.10053253173828\n",
      "Epoch 364: loss = 1.4284693002700806\n",
      "Epoch 364: acc = 74.17989349365234\n",
      "Epoch 365: loss = 1.4281784296035767\n",
      "Epoch 365: acc = 74.23280334472656\n",
      "Epoch 366: loss = 1.4278899431228638\n",
      "Epoch 366: acc = 74.23280334472656\n",
      "Epoch 367: loss = 1.427603840827942\n",
      "Epoch 367: acc = 74.31217193603516\n",
      "Epoch 368: loss = 1.4273208379745483\n",
      "Epoch 368: acc = 74.338623046875\n",
      "Epoch 369: loss = 1.4270392656326294\n",
      "Epoch 369: acc = 74.36508178710938\n",
      "Epoch 370: loss = 1.4267604351043701\n",
      "Epoch 370: acc = 74.4179916381836\n",
      "Epoch 371: loss = 1.4264843463897705\n",
      "Epoch 371: acc = 74.44444274902344\n",
      "Epoch 372: loss = 1.4262094497680664\n",
      "Epoch 372: acc = 74.39153289794922\n",
      "Epoch 373: loss = 1.4259365797042847\n",
      "Epoch 373: acc = 74.39153289794922\n",
      "Epoch 374: loss = 1.4256665706634521\n",
      "Epoch 374: acc = 74.4179916381836\n",
      "Epoch 375: loss = 1.4253993034362793\n",
      "Epoch 375: acc = 74.44444274902344\n",
      "Epoch 376: loss = 1.4251338243484497\n",
      "Epoch 376: acc = 74.5238037109375\n",
      "Epoch 377: loss = 1.4248698949813843\n",
      "Epoch 377: acc = 74.55026245117188\n",
      "Epoch 378: loss = 1.4246079921722412\n",
      "Epoch 378: acc = 74.55026245117188\n",
      "Epoch 379: loss = 1.4243484735488892\n",
      "Epoch 379: acc = 74.55026245117188\n",
      "Epoch 380: loss = 1.4240909814834595\n",
      "Epoch 380: acc = 74.60317993164062\n",
      "Epoch 381: loss = 1.4238358736038208\n",
      "Epoch 381: acc = 74.62963104248047\n",
      "Epoch 382: loss = 1.4235835075378418\n",
      "Epoch 382: acc = 74.65608978271484\n",
      "Epoch 383: loss = 1.4233335256576538\n",
      "Epoch 383: acc = 74.68254089355469\n",
      "Epoch 384: loss = 1.4230849742889404\n",
      "Epoch 384: acc = 74.68254089355469\n",
      "Epoch 385: loss = 1.4228382110595703\n",
      "Epoch 385: acc = 74.70899200439453\n",
      "Epoch 386: loss = 1.4225937128067017\n",
      "Epoch 386: acc = 74.78836059570312\n",
      "Epoch 387: loss = 1.4223511219024658\n",
      "Epoch 387: acc = 74.81481170654297\n",
      "Epoch 388: loss = 1.4221103191375732\n",
      "Epoch 388: acc = 74.81481170654297\n",
      "Epoch 389: loss = 1.4218708276748657\n",
      "Epoch 389: acc = 74.86772155761719\n",
      "Epoch 390: loss = 1.421633243560791\n",
      "Epoch 390: acc = 74.94709014892578\n",
      "Epoch 391: loss = 1.4213966131210327\n",
      "Epoch 391: acc = 74.97354888916016\n",
      "Epoch 392: loss = 1.4211612939834595\n",
      "Epoch 392: acc = 74.97354888916016\n",
      "Epoch 393: loss = 1.4209271669387817\n",
      "Epoch 393: acc = 75.0\n",
      "Epoch 394: loss = 1.4206947088241577\n",
      "Epoch 394: acc = 74.97354888916016\n",
      "Epoch 395: loss = 1.42046320438385\n",
      "Epoch 395: acc = 74.97354888916016\n",
      "Epoch 396: loss = 1.420232892036438\n",
      "Epoch 396: acc = 75.05290985107422\n",
      "Epoch 397: loss = 1.4200032949447632\n",
      "Epoch 397: acc = 75.07936096191406\n",
      "Epoch 398: loss = 1.4197750091552734\n",
      "Epoch 398: acc = 75.13227844238281\n",
      "Epoch 399: loss = 1.419547438621521\n",
      "Epoch 399: acc = 75.13227844238281\n",
      "Epoch 400: loss = 1.4193209409713745\n",
      "Epoch 400: acc = 75.15872955322266\n",
      "Epoch 401: loss = 1.4190962314605713\n",
      "Epoch 401: acc = 75.2645492553711\n",
      "Epoch 402: loss = 1.4188729524612427\n",
      "Epoch 402: acc = 75.2645492553711\n",
      "Epoch 403: loss = 1.4186511039733887\n",
      "Epoch 403: acc = 75.2645492553711\n",
      "Epoch 404: loss = 1.4184308052062988\n",
      "Epoch 404: acc = 75.31745910644531\n",
      "Epoch 405: loss = 1.418211817741394\n",
      "Epoch 405: acc = 75.31745910644531\n",
      "Epoch 406: loss = 1.4179940223693848\n",
      "Epoch 406: acc = 75.37036895751953\n",
      "Epoch 407: loss = 1.417777419090271\n",
      "Epoch 407: acc = 75.37036895751953\n",
      "Epoch 408: loss = 1.4175615310668945\n",
      "Epoch 408: acc = 75.42327880859375\n",
      "Epoch 409: loss = 1.4173469543457031\n",
      "Epoch 409: acc = 75.39682006835938\n",
      "Epoch 410: loss = 1.4171334505081177\n",
      "Epoch 410: acc = 75.42327880859375\n",
      "Epoch 411: loss = 1.4169206619262695\n",
      "Epoch 411: acc = 75.55555725097656\n",
      "Epoch 412: loss = 1.4167088270187378\n",
      "Epoch 412: acc = 75.55555725097656\n",
      "Epoch 413: loss = 1.4164975881576538\n",
      "Epoch 413: acc = 75.63491821289062\n",
      "Epoch 414: loss = 1.4162871837615967\n",
      "Epoch 414: acc = 75.63491821289062\n",
      "Epoch 415: loss = 1.4160774946212769\n",
      "Epoch 415: acc = 75.63491821289062\n",
      "Epoch 416: loss = 1.4158687591552734\n",
      "Epoch 416: acc = 75.60846710205078\n",
      "Epoch 417: loss = 1.4156607389450073\n",
      "Epoch 417: acc = 75.60846710205078\n",
      "Epoch 418: loss = 1.415453314781189\n",
      "Epoch 418: acc = 75.60846710205078\n",
      "Epoch 419: loss = 1.4152462482452393\n",
      "Epoch 419: acc = 75.63491821289062\n",
      "Epoch 420: loss = 1.4150398969650269\n",
      "Epoch 420: acc = 75.68782806396484\n",
      "Epoch 421: loss = 1.4148341417312622\n",
      "Epoch 421: acc = 75.71428680419922\n",
      "Epoch 422: loss = 1.4146294593811035\n",
      "Epoch 422: acc = 75.7407455444336\n",
      "Epoch 423: loss = 1.4144251346588135\n",
      "Epoch 423: acc = 75.7407455444336\n",
      "Epoch 424: loss = 1.4142215251922607\n",
      "Epoch 424: acc = 75.79365539550781\n",
      "Epoch 425: loss = 1.414018988609314\n",
      "Epoch 425: acc = 75.82010650634766\n",
      "Epoch 426: loss = 1.413817286491394\n",
      "Epoch 426: acc = 75.79365539550781\n",
      "Epoch 427: loss = 1.413616418838501\n",
      "Epoch 427: acc = 75.82010650634766\n",
      "Epoch 428: loss = 1.4134161472320557\n",
      "Epoch 428: acc = 75.87301635742188\n",
      "Epoch 429: loss = 1.4132171869277954\n",
      "Epoch 429: acc = 75.87301635742188\n",
      "Epoch 430: loss = 1.413018822669983\n",
      "Epoch 430: acc = 75.9259262084961\n",
      "Epoch 431: loss = 1.4128210544586182\n",
      "Epoch 431: acc = 76.00529479980469\n",
      "Epoch 432: loss = 1.4126241207122803\n",
      "Epoch 432: acc = 76.00529479980469\n",
      "Epoch 433: loss = 1.4124276638031006\n",
      "Epoch 433: acc = 76.03174591064453\n",
      "Epoch 434: loss = 1.4122321605682373\n",
      "Epoch 434: acc = 76.0582046508789\n",
      "Epoch 435: loss = 1.4120370149612427\n",
      "Epoch 435: acc = 76.0582046508789\n",
      "Epoch 436: loss = 1.411842703819275\n",
      "Epoch 436: acc = 76.08465576171875\n",
      "Epoch 437: loss = 1.4116487503051758\n",
      "Epoch 437: acc = 76.08465576171875\n",
      "Epoch 438: loss = 1.4114556312561035\n",
      "Epoch 438: acc = 76.0582046508789\n",
      "Epoch 439: loss = 1.4112629890441895\n",
      "Epoch 439: acc = 76.08465576171875\n",
      "Epoch 440: loss = 1.4110714197158813\n",
      "Epoch 440: acc = 76.13756561279297\n",
      "Epoch 441: loss = 1.410880446434021\n",
      "Epoch 441: acc = 76.19047546386719\n",
      "Epoch 442: loss = 1.4106903076171875\n",
      "Epoch 442: acc = 76.21692657470703\n",
      "Epoch 443: loss = 1.4105017185211182\n",
      "Epoch 443: acc = 76.26984405517578\n",
      "Epoch 444: loss = 1.4103137254714966\n",
      "Epoch 444: acc = 76.2433853149414\n",
      "Epoch 445: loss = 1.4101269245147705\n",
      "Epoch 445: acc = 76.2433853149414\n",
      "Epoch 446: loss = 1.4099401235580444\n",
      "Epoch 446: acc = 76.26984405517578\n",
      "Epoch 447: loss = 1.4097537994384766\n",
      "Epoch 447: acc = 76.26984405517578\n",
      "Epoch 448: loss = 1.4095683097839355\n",
      "Epoch 448: acc = 76.29629516601562\n",
      "Epoch 449: loss = 1.4093838930130005\n",
      "Epoch 449: acc = 76.26984405517578\n",
      "Epoch 450: loss = 1.4092003107070923\n",
      "Epoch 450: acc = 76.26984405517578\n",
      "Epoch 451: loss = 1.4090173244476318\n",
      "Epoch 451: acc = 76.26984405517578\n",
      "Epoch 452: loss = 1.4088349342346191\n",
      "Epoch 452: acc = 76.34920501708984\n",
      "Epoch 453: loss = 1.4086533784866333\n",
      "Epoch 453: acc = 76.40211486816406\n",
      "Epoch 454: loss = 1.4084728956222534\n",
      "Epoch 454: acc = 76.40211486816406\n",
      "Epoch 455: loss = 1.4082932472229004\n",
      "Epoch 455: acc = 76.40211486816406\n",
      "Epoch 456: loss = 1.4081141948699951\n",
      "Epoch 456: acc = 76.48147583007812\n",
      "Epoch 457: loss = 1.407936453819275\n",
      "Epoch 457: acc = 76.48147583007812\n",
      "Epoch 458: loss = 1.4077593088150024\n",
      "Epoch 458: acc = 76.5079345703125\n",
      "Epoch 459: loss = 1.4075829982757568\n",
      "Epoch 459: acc = 76.48147583007812\n",
      "Epoch 460: loss = 1.4074076414108276\n",
      "Epoch 460: acc = 76.48147583007812\n",
      "Epoch 461: loss = 1.4072328805923462\n",
      "Epoch 461: acc = 76.5079345703125\n",
      "Epoch 462: loss = 1.407058835029602\n",
      "Epoch 462: acc = 76.5079345703125\n",
      "Epoch 463: loss = 1.4068851470947266\n",
      "Epoch 463: acc = 76.5079345703125\n",
      "Epoch 464: loss = 1.4067120552062988\n",
      "Epoch 464: acc = 76.5079345703125\n",
      "Epoch 465: loss = 1.4065394401550293\n",
      "Epoch 465: acc = 76.53439331054688\n",
      "Epoch 466: loss = 1.4063677787780762\n",
      "Epoch 466: acc = 76.5079345703125\n",
      "Epoch 467: loss = 1.4061970710754395\n",
      "Epoch 467: acc = 76.53439331054688\n",
      "Epoch 468: loss = 1.406026840209961\n",
      "Epoch 468: acc = 76.64021301269531\n",
      "Epoch 469: loss = 1.4058572053909302\n",
      "Epoch 469: acc = 76.64021301269531\n",
      "Epoch 470: loss = 1.4056881666183472\n",
      "Epoch 470: acc = 76.66666412353516\n",
      "Epoch 471: loss = 1.4055196046829224\n",
      "Epoch 471: acc = 76.64021301269531\n",
      "Epoch 472: loss = 1.4053514003753662\n",
      "Epoch 472: acc = 76.64021301269531\n",
      "Epoch 473: loss = 1.4051839113235474\n",
      "Epoch 473: acc = 76.69312286376953\n",
      "Epoch 474: loss = 1.4050170183181763\n",
      "Epoch 474: acc = 76.66666412353516\n",
      "Epoch 475: loss = 1.4048504829406738\n",
      "Epoch 475: acc = 76.66666412353516\n",
      "Epoch 476: loss = 1.4046845436096191\n",
      "Epoch 476: acc = 76.69312286376953\n",
      "Epoch 477: loss = 1.4045193195343018\n",
      "Epoch 477: acc = 76.71957397460938\n",
      "Epoch 478: loss = 1.4043545722961426\n",
      "Epoch 478: acc = 76.69312286376953\n",
      "Epoch 479: loss = 1.4041905403137207\n",
      "Epoch 479: acc = 76.74603271484375\n",
      "Epoch 480: loss = 1.4040271043777466\n",
      "Epoch 480: acc = 76.71957397460938\n",
      "Epoch 481: loss = 1.4038640260696411\n",
      "Epoch 481: acc = 76.7724838256836\n",
      "Epoch 482: loss = 1.4037017822265625\n",
      "Epoch 482: acc = 76.7724838256836\n",
      "Epoch 483: loss = 1.4035398960113525\n",
      "Epoch 483: acc = 76.82540130615234\n",
      "Epoch 484: loss = 1.4033787250518799\n",
      "Epoch 484: acc = 76.87831115722656\n",
      "Epoch 485: loss = 1.403218150138855\n",
      "Epoch 485: acc = 76.87831115722656\n",
      "Epoch 486: loss = 1.4030582904815674\n",
      "Epoch 486: acc = 76.93121337890625\n",
      "Epoch 487: loss = 1.402899146080017\n",
      "Epoch 487: acc = 76.93121337890625\n",
      "Epoch 488: loss = 1.4027403593063354\n",
      "Epoch 488: acc = 76.93121337890625\n",
      "Epoch 489: loss = 1.4025821685791016\n",
      "Epoch 489: acc = 76.95767211914062\n",
      "Epoch 490: loss = 1.4024243354797363\n",
      "Epoch 490: acc = 76.95767211914062\n",
      "Epoch 491: loss = 1.4022670984268188\n",
      "Epoch 491: acc = 77.01058197021484\n",
      "Epoch 492: loss = 1.4021103382110596\n",
      "Epoch 492: acc = 77.06349182128906\n",
      "Epoch 493: loss = 1.401953935623169\n",
      "Epoch 493: acc = 77.11640167236328\n",
      "Epoch 494: loss = 1.4017977714538574\n",
      "Epoch 494: acc = 77.11640167236328\n",
      "Epoch 495: loss = 1.401641845703125\n",
      "Epoch 495: acc = 77.11640167236328\n",
      "Epoch 496: loss = 1.4014865159988403\n",
      "Epoch 496: acc = 77.11640167236328\n",
      "Epoch 497: loss = 1.4013316631317139\n",
      "Epoch 497: acc = 77.14286041259766\n",
      "Epoch 498: loss = 1.401177167892456\n",
      "Epoch 498: acc = 77.1693115234375\n",
      "Epoch 499: loss = 1.401023268699646\n",
      "Epoch 499: acc = 77.1693115234375\n",
      "Epoch 500: loss = 1.4008694887161255\n",
      "Epoch 500: acc = 77.19577026367188\n"
     ]
    }
   ],
   "source": [
    "for epoch in range(num_epochs):\n",
    "    # Convert the data and labels to tensors.\n",
    "    X_train = torch.Tensor(X_train)\n",
    "    y_train = torch.FloatTensor(y_train)\n",
    "    \n",
    "    # Forward pass: compute predicted y by passing x to the model.\n",
    "    y_pred = model(X_train)\n",
    "    \n",
    "    # Compute and print the loss.\n",
    "    loss = criterion(y_pred, y_train)\n",
    "    validation_acc = success_rate(model, X_test, y_test)\n",
    "    print(f'Epoch {epoch+1}: loss = {loss.item()}')\n",
    "    print(f'Epoch {epoch+1}: acc = {validation_acc.item()}')\n",
    "    loss_list.append(loss.detach().numpy())\n",
    "    acc_list.append(validation_acc)\n",
    "    \n",
    "    # Zero gradients, perform a backward pass, and update the weights.\n",
    "    optimizer.zero_grad()\n",
    "    loss.backward()\n",
    "    optimizer.step()"
   ]
  },
  {
   "cell_type": "code",
   "execution_count": 402,
   "metadata": {
    "colab": {
     "base_uri": "https://localhost:8080/",
     "height": 295
    },
    "id": "TYMMGf2KGten",
    "outputId": "76e6237b-1660-4010-ec96-0f30a19087bb"
   },
   "outputs": [
    {
     "data": {
      "image/png": "[encoded data removed]",
      "text/plain": [
       "<Figure size 432x288 with 1 Axes>"
      ]
     },
     "metadata": {
      "needs_background": "light"
     },
     "output_type": "display_data"
    }
   ],
   "source": [
    "plt.plot(loss_list)\n",
    "plt.xlabel(\"Epoch number\")\n",
    "plt.ylabel(\"Training Loss\")\n",
    "plt.title(\"Evolution of training loss with number of epochs\")\n",
    "plt.show()"
   ]
  },
  {
   "cell_type": "code",
   "execution_count": 403,
   "metadata": {
    "colab": {
     "base_uri": "https://localhost:8080/",
     "height": 295
    },
    "id": "pg9p3vJiHLRD",
    "outputId": "ef5b1221-c47e-4051-a017-99d50ed0db9c"
   },
   "outputs": [
    {
     "data": {
      "image/png": "[encoded data removed]",
      "text/plain": [
       "<Figure size 432x288 with 1 Axes>"
      ]
     },
     "metadata": {
      "needs_background": "light"
     },
     "output_type": "display_data"
    }
   ],
   "source": [
    "plt.plot(acc_list)\n",
    "plt.xlabel(\"Epoch number\")\n",
    "plt.ylabel(\"Cross Validation Accuracy\")\n",
    "plt.title(\"Evolution of cross validation accuracy with number of epochs\")\n",
    "plt.show()"
   ]
  },
  {
   "cell_type": "code",
   "execution_count": 409,
   "metadata": {
    "id": "Xq1dzG-geLhn"
   },
   "outputs": [],
   "source": [
    "y_pred = torch.argmax(model(torch.Tensor(X_test)), dim=1) + 1\n",
    "y_pred = y_pred.numpy().flatten()"
   ]
  },
  {
   "cell_type": "code",
   "execution_count": null,
   "metadata": {
    "id": "qCLqhGEWe5mG"
   },
   "outputs": [],
   "source": [
    "y_test = np.argmax(y_test, axis=1) +1"
   ]
  },
  {
   "cell_type": "code",
   "execution_count": 418,
   "metadata": {
    "colab": {
     "base_uri": "https://localhost:8080/",
     "height": 175
    },
    "id": "u-a3QsR4dpQN",
    "outputId": "ee4d6c45-a719-44dc-fc29-aa4712649caf"
   },
   "outputs": [
    {
     "data": {
      "text/html": [
       "\n",
       "  <div id=\"df-7fe11338-10c2-496a-a73a-85db5500e98e\">\n",
       "    <div class=\"colab-df-container\">\n",
       "      <div>\n",
       "<style scoped>\n",
       "    .dataframe tbody tr th:only-of-type {\n",
       "        vertical-align: middle;\n",
       "    }\n",
       "\n",
       "    .dataframe tbody tr th {\n",
       "        vertical-align: top;\n",
       "    }\n",
       "\n",
       "    .dataframe thead th {\n",
       "        text-align: right;\n",
       "    }\n",
       "</style>\n",
       "<table border=\"1\" class=\"dataframe\">\n",
       "  <thead>\n",
       "    <tr style=\"text-align: right;\">\n",
       "      <th></th>\n",
       "      <th>Metric</th>\n",
       "      <th>Neural N</th>\n",
       "    </tr>\n",
       "  </thead>\n",
       "  <tbody>\n",
       "    <tr>\n",
       "      <th>0</th>\n",
       "      <td>Accuracy</td>\n",
       "      <td>0.771958</td>\n",
       "    </tr>\n",
       "    <tr>\n",
       "      <th>1</th>\n",
       "      <td>Precision</td>\n",
       "      <td>0.768604</td>\n",
       "    </tr>\n",
       "    <tr>\n",
       "      <th>2</th>\n",
       "      <td>Recall</td>\n",
       "      <td>0.769801</td>\n",
       "    </tr>\n",
       "    <tr>\n",
       "      <th>3</th>\n",
       "      <td>F1</td>\n",
       "      <td>0.767843</td>\n",
       "    </tr>\n",
       "  </tbody>\n",
       "</table>\n",
       "</div>\n",
       "      <button class=\"colab-df-convert\" onclick=\"convertToInteractive('df-7fe11338-10c2-496a-a73a-85db5500e98e')\"\n",
       "              title=\"Convert this dataframe to an interactive table.\"\n",
       "              style=\"display:none;\">\n",
       "        \n",
       "  <svg xmlns=\"http://www.w3.org/2000/svg\" height=\"24px\"viewBox=\"0 0 24 24\"\n",
       "       width=\"24px\">\n",
       "    <path d=\"M0 0h24v24H0V0z\" fill=\"none\"/>\n",
       "    <path d=\"M18.56 5.44l.94 2.06.94-2.06 2.06-.94-2.06-.94-.94-2.06-.94 2.06-2.06.94zm-11 1L8.5 8.5l.94-2.06 2.06-.94-2.06-.94L8.5 2.5l-.94 2.06-2.06.94zm10 10l.94 2.06.94-2.06 2.06-.94-2.06-.94-.94-2.06-.94 2.06-2.06.94z\"/><path d=\"M17.41 7.96l-1.37-1.37c-.4-.4-.92-.59-1.43-.59-.52 0-1.04.2-1.43.59L10.3 9.45l-7.72 7.72c-.78.78-.78 2.05 0 2.83L4 21.41c.39.39.9.59 1.41.59.51 0 1.02-.2 1.41-.59l7.78-7.78 2.81-2.81c.8-.78.8-2.07 0-2.86zM5.41 20L4 18.59l7.72-7.72 1.47 1.35L5.41 20z\"/>\n",
       "  </svg>\n",
       "      </button>\n",
       "      \n",
       "  <style>\n",
       "    .colab-df-container {\n",
       "      display:flex;\n",
       "      flex-wrap:wrap;\n",
       "      gap: 12px;\n",
       "    }\n",
       "\n",
       "    .colab-df-convert {\n",
       "      background-color: #E8F0FE;\n",
       "      border: none;\n",
       "      border-radius: 50%;\n",
       "      cursor: pointer;\n",
       "      display: none;\n",
       "      fill: #1967D2;\n",
       "      height: 32px;\n",
       "      padding: 0 0 0 0;\n",
       "      width: 32px;\n",
       "    }\n",
       "\n",
       "    .colab-df-convert:hover {\n",
       "      background-color: #E2EBFA;\n",
       "      box-shadow: 0px 1px 2px rgba(60, 64, 67, 0.3), 0px 1px 3px 1px rgba(60, 64, 67, 0.15);\n",
       "      fill: #174EA6;\n",
       "    }\n",
       "\n",
       "    [theme=dark] .colab-df-convert {\n",
       "      background-color: #3B4455;\n",
       "      fill: #D2E3FC;\n",
       "    }\n",
       "\n",
       "    [theme=dark] .colab-df-convert:hover {\n",
       "      background-color: #434B5C;\n",
       "      box-shadow: 0px 1px 3px 1px rgba(0, 0, 0, 0.15);\n",
       "      filter: drop-shadow(0px 1px 2px rgba(0, 0, 0, 0.3));\n",
       "      fill: #FFFFFF;\n",
       "    }\n",
       "  </style>\n",
       "\n",
       "      <script>\n",
       "        const buttonEl =\n",
       "          document.querySelector('#df-7fe11338-10c2-496a-a73a-85db5500e98e button.colab-df-convert');\n",
       "        buttonEl.style.display =\n",
       "          google.colab.kernel.accessAllowed ? 'block' : 'none';\n",
       "\n",
       "        async function convertToInteractive(key) {\n",
       "          const element = document.querySelector('#df-7fe11338-10c2-496a-a73a-85db5500e98e');\n",
       "          const dataTable =\n",
       "            await google.colab.kernel.invokeFunction('convertToInteractive',\n",
       "                                                     [key], {});\n",
       "          if (!dataTable) return;\n",
       "\n",
       "          const docLinkHtml = 'Like what you see? Visit the ' +\n",
       "            '<a target=\"_blank\" href=https://colab.research.google.com/notebooks/data_table.ipynb>data table notebook</a>'\n",
       "            + ' to learn more about interactive tables.';\n",
       "          element.innerHTML = '';\n",
       "          dataTable['output_type'] = 'display_data';\n",
       "          await google.colab.output.renderOutput(dataTable, element);\n",
       "          const docLink = document.createElement('div');\n",
       "          docLink.innerHTML = docLinkHtml;\n",
       "          element.appendChild(docLink);\n",
       "        }\n",
       "      </script>\n",
       "    </div>\n",
       "  </div>\n",
       "  "
      ],
      "text/plain": [
       "      Metric  Neural N\n",
       "0   Accuracy  0.771958\n",
       "1  Precision  0.768604\n",
       "2     Recall  0.769801\n",
       "3         F1  0.767843"
      ]
     },
     "execution_count": 418,
     "metadata": {},
     "output_type": "execute_result"
    }
   ],
   "source": [
    "# Compute accuracy\n",
    "accuracy = accuracy_score(y_pred, y_test)\n",
    "\n",
    "# Compute the precision, recall, and F1 score\n",
    "precision, recall, f1, _ = precision_recall_fscore_support(y_test, y_pred, average='macro')\n",
    "\n",
    "# Create a data frame with the results\n",
    "results = pd.DataFrame({'Metric': ['Accuracy', 'Precision', 'Recall', 'F1'],\n",
    "                        'Neural N': [accuracy, precision, recall, f1]})\n",
    "\n",
    "results"
   ]
  },
  {
   "cell_type": "code",
   "execution_count": 419,
   "metadata": {
    "id": "5e0wzUg2dpQQ"
   },
   "outputs": [],
   "source": [
    "result = result.join(results['Neural N'])"
   ]
  },
  {
   "cell_type": "code",
   "execution_count": null,
   "metadata": {
    "id": "uyses-WhLu84"
   },
   "outputs": [],
   "source": [
    "# Test\n",
    "test_data = pd.read_csv(\"test-full.csv\", index_col='Id')\n",
    "X_submit = torch.Tensor(preprocess(test_data, False))\n",
    "y_pred = model(X_submit)\n",
    "y_pred = torch.argmax(y_pred, dim=1) + 1"
   ]
  },
  {
   "cell_type": "code",
   "execution_count": null,
   "metadata": {
    "id": "q3_M2oVeCm1M"
   },
   "outputs": [],
   "source": [
    "submission_df=pd.DataFrame(y_pred,columns=['Cover_Type'])\n",
    "submission_df.index += 1\n",
    "submission_df.index.names = ['Id']\n",
    "submission_df.to_csv('submission_neural.csv', header=True)"
   ]
  },
  {
   "cell_type": "markdown",
   "metadata": {
    "id": "Hb80HWLFJlrb"
   },
   "source": [
    "Obtained 0.68 on Kaggle"
   ]
  },
  {
   "cell_type": "markdown",
   "metadata": {
    "id": "7pGRGY_re9xl"
   },
   "source": [
    "## Result"
   ]
  },
  {
   "cell_type": "code",
   "execution_count": 421,
   "metadata": {
    "colab": {
     "base_uri": "https://localhost:8080/",
     "height": 195
    },
    "id": "tlk0sRMme-uS",
    "outputId": "cfa37256-895d-4df8-cd17-b83c79d403a6"
   },
   "outputs": [
    {
     "data": {
      "text/html": [
       "\n",
       "  <div id=\"df-ff3ae54b-a467-4ff6-bbaf-45b84b1f62e5\">\n",
       "    <div class=\"colab-df-container\">\n",
       "      <div>\n",
       "<style scoped>\n",
       "    .dataframe tbody tr th:only-of-type {\n",
       "        vertical-align: middle;\n",
       "    }\n",
       "\n",
       "    .dataframe tbody tr th {\n",
       "        vertical-align: top;\n",
       "    }\n",
       "\n",
       "    .dataframe thead th {\n",
       "        text-align: right;\n",
       "    }\n",
       "</style>\n",
       "<table border=\"1\" class=\"dataframe\">\n",
       "  <thead>\n",
       "    <tr style=\"text-align: right;\">\n",
       "      <th></th>\n",
       "      <th>Metric</th>\n",
       "      <th>ETC</th>\n",
       "      <th>RF</th>\n",
       "      <th>XGB</th>\n",
       "      <th>SVM</th>\n",
       "      <th>Log</th>\n",
       "      <th>KNN</th>\n",
       "      <th>Neural N</th>\n",
       "    </tr>\n",
       "  </thead>\n",
       "  <tbody>\n",
       "    <tr>\n",
       "      <th>0</th>\n",
       "      <td>Accuracy</td>\n",
       "      <td>0.901058</td>\n",
       "      <td>0.886772</td>\n",
       "      <td>0.783598</td>\n",
       "      <td>0.804233</td>\n",
       "      <td>0.716667</td>\n",
       "      <td>0.846561</td>\n",
       "      <td>0.771958</td>\n",
       "    </tr>\n",
       "    <tr>\n",
       "      <th>1</th>\n",
       "      <td>Precision</td>\n",
       "      <td>0.897769</td>\n",
       "      <td>0.883330</td>\n",
       "      <td>0.779551</td>\n",
       "      <td>0.800973</td>\n",
       "      <td>0.712485</td>\n",
       "      <td>0.842851</td>\n",
       "      <td>0.768604</td>\n",
       "    </tr>\n",
       "    <tr>\n",
       "      <th>2</th>\n",
       "      <td>Recall</td>\n",
       "      <td>0.898928</td>\n",
       "      <td>0.884673</td>\n",
       "      <td>0.781224</td>\n",
       "      <td>0.802109</td>\n",
       "      <td>0.714586</td>\n",
       "      <td>0.843766</td>\n",
       "      <td>0.769801</td>\n",
       "    </tr>\n",
       "    <tr>\n",
       "      <th>3</th>\n",
       "      <td>F1</td>\n",
       "      <td>0.897787</td>\n",
       "      <td>0.883099</td>\n",
       "      <td>0.776395</td>\n",
       "      <td>0.800253</td>\n",
       "      <td>0.712545</td>\n",
       "      <td>0.841256</td>\n",
       "      <td>0.767843</td>\n",
       "    </tr>\n",
       "  </tbody>\n",
       "</table>\n",
       "</div>\n",
       "      <button class=\"colab-df-convert\" onclick=\"convertToInteractive('df-ff3ae54b-a467-4ff6-bbaf-45b84b1f62e5')\"\n",
       "              title=\"Convert this dataframe to an interactive table.\"\n",
       "              style=\"display:none;\">\n",
       "        \n",
       "  <svg xmlns=\"http://www.w3.org/2000/svg\" height=\"24px\"viewBox=\"0 0 24 24\"\n",
       "       width=\"24px\">\n",
       "    <path d=\"M0 0h24v24H0V0z\" fill=\"none\"/>\n",
       "    <path d=\"M18.56 5.44l.94 2.06.94-2.06 2.06-.94-2.06-.94-.94-2.06-.94 2.06-2.06.94zm-11 1L8.5 8.5l.94-2.06 2.06-.94-2.06-.94L8.5 2.5l-.94 2.06-2.06.94zm10 10l.94 2.06.94-2.06 2.06-.94-2.06-.94-.94-2.06-.94 2.06-2.06.94z\"/><path d=\"M17.41 7.96l-1.37-1.37c-.4-.4-.92-.59-1.43-.59-.52 0-1.04.2-1.43.59L10.3 9.45l-7.72 7.72c-.78.78-.78 2.05 0 2.83L4 21.41c.39.39.9.59 1.41.59.51 0 1.02-.2 1.41-.59l7.78-7.78 2.81-2.81c.8-.78.8-2.07 0-2.86zM5.41 20L4 18.59l7.72-7.72 1.47 1.35L5.41 20z\"/>\n",
       "  </svg>\n",
       "      </button>\n",
       "      \n",
       "  <style>\n",
       "    .colab-df-container {\n",
       "      display:flex;\n",
       "      flex-wrap:wrap;\n",
       "      gap: 12px;\n",
       "    }\n",
       "\n",
       "    .colab-df-convert {\n",
       "      background-color: #E8F0FE;\n",
       "      border: none;\n",
       "      border-radius: 50%;\n",
       "      cursor: pointer;\n",
       "      display: none;\n",
       "      fill: #1967D2;\n",
       "      height: 32px;\n",
       "      padding: 0 0 0 0;\n",
       "      width: 32px;\n",
       "    }\n",
       "\n",
       "    .colab-df-convert:hover {\n",
       "      background-color: #E2EBFA;\n",
       "      box-shadow: 0px 1px 2px rgba(60, 64, 67, 0.3), 0px 1px 3px 1px rgba(60, 64, 67, 0.15);\n",
       "      fill: #174EA6;\n",
       "    }\n",
       "\n",
       "    [theme=dark] .colab-df-convert {\n",
       "      background-color: #3B4455;\n",
       "      fill: #D2E3FC;\n",
       "    }\n",
       "\n",
       "    [theme=dark] .colab-df-convert:hover {\n",
       "      background-color: #434B5C;\n",
       "      box-shadow: 0px 1px 3px 1px rgba(0, 0, 0, 0.15);\n",
       "      filter: drop-shadow(0px 1px 2px rgba(0, 0, 0, 0.3));\n",
       "      fill: #FFFFFF;\n",
       "    }\n",
       "  </style>\n",
       "\n",
       "      <script>\n",
       "        const buttonEl =\n",
       "          document.querySelector('#df-ff3ae54b-a467-4ff6-bbaf-45b84b1f62e5 button.colab-df-convert');\n",
       "        buttonEl.style.display =\n",
       "          google.colab.kernel.accessAllowed ? 'block' : 'none';\n",
       "\n",
       "        async function convertToInteractive(key) {\n",
       "          const element = document.querySelector('#df-ff3ae54b-a467-4ff6-bbaf-45b84b1f62e5');\n",
       "          const dataTable =\n",
       "            await google.colab.kernel.invokeFunction('convertToInteractive',\n",
       "                                                     [key], {});\n",
       "          if (!dataTable) return;\n",
       "\n",
       "          const docLinkHtml = 'Like what you see? Visit the ' +\n",
       "            '<a target=\"_blank\" href=https://colab.research.google.com/notebooks/data_table.ipynb>data table notebook</a>'\n",
       "            + ' to learn more about interactive tables.';\n",
       "          element.innerHTML = '';\n",
       "          dataTable['output_type'] = 'display_data';\n",
       "          await google.colab.output.renderOutput(dataTable, element);\n",
       "          const docLink = document.createElement('div');\n",
       "          docLink.innerHTML = docLinkHtml;\n",
       "          element.appendChild(docLink);\n",
       "        }\n",
       "      </script>\n",
       "    </div>\n",
       "  </div>\n",
       "  "
      ],
      "text/plain": [
       "      Metric       ETC        RF       XGB       SVM       Log       KNN  \\\n",
       "0   Accuracy  0.901058  0.886772  0.783598  0.804233  0.716667  0.846561   \n",
       "1  Precision  0.897769  0.883330  0.779551  0.800973  0.712485  0.842851   \n",
       "2     Recall  0.898928  0.884673  0.781224  0.802109  0.714586  0.843766   \n",
       "3         F1  0.897787  0.883099  0.776395  0.800253  0.712545  0.841256   \n",
       "\n",
       "   Neural N  \n",
       "0  0.771958  \n",
       "1  0.768604  \n",
       "2  0.769801  \n",
       "3  0.767843  "
      ]
     },
     "execution_count": 421,
     "metadata": {},
     "output_type": "execute_result"
    }
   ],
   "source": [
    "result"
   ]
  }
 ],
 "metadata": {
  "colab": {
   "provenance": []
  },
  "kernelspec": {
   "display_name": "Python 3",
   "language": "python",
   "name": "python3"
  },
  "language_info": {
   "codemirror_mode": {
    "name": "ipython",
    "version": 3
   },
   "file_extension": ".py",
   "mimetype": "text/x-python",
   "name": "python",
   "nbconvert_exporter": "python",
   "pygments_lexer": "ipython3",
   "version": "3.8.2"
  }
 },
 "nbformat": 4,
 "nbformat_minor": 1
}
